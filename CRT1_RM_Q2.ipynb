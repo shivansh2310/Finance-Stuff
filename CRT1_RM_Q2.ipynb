{
  "nbformat": 4,
  "nbformat_minor": 0,
  "metadata": {
    "colab": {
      "provenance": [],
      "collapsed_sections": [
        "HgjQGUubmcao",
        "Eb1ihPvamgf0",
        "PlaLtJz_nTqO"
      ],
      "authorship_tag": "ABX9TyOdyqYgFodKjURfT0rFzVnk",
      "include_colab_link": true
    },
    "kernelspec": {
      "name": "python3",
      "display_name": "Python 3"
    },
    "language_info": {
      "name": "python"
    }
  },
  "cells": [
    {
      "cell_type": "markdown",
      "metadata": {
        "id": "view-in-github",
        "colab_type": "text"
      },
      "source": [
        "<a href=\"https://colab.research.google.com/github/shivansh2310/Finance-Stuff/blob/main/CRT1_RM_Q2.ipynb\" target=\"_parent\"><img src=\"https://colab.research.google.com/assets/colab-badge.svg\" alt=\"Open In Colab\"/></a>"
      ]
    },
    {
      "cell_type": "markdown",
      "source": [
        "## delta co_var"
      ],
      "metadata": {
        "id": "HgjQGUubmcao"
      }
    },
    {
      "cell_type": "code",
      "source": [
        "import numpy as np\n",
        "from statsmodels.regression.quantile_regression import QuantReg\n",
        "\n",
        "def delta_co_var(output_returns, input_returns, lagged_factors_returns=None, quantile=0.05):\n",
        "    num_periods = len(output_returns)\n",
        "    median_percentile = 0.5\n",
        "\n",
        "    # Preparing X matrix with intercept and lagged factors\n",
        "    if lagged_factors_returns is None:\n",
        "        X = np.ones((num_periods, 1))\n",
        "    else:\n",
        "        X = np.column_stack([np.ones(num_periods),\n",
        "                            lagged_factors_returns[:-1]])\n",
        "\n",
        "    y = input_returns\n",
        "\n",
        "    # Calculating median state of input institution\n",
        "    qr = QuantReg(y, X).fit(median_percentile)\n",
        "    betas = qr.params\n",
        "    if lagged_factors_returns is None:\n",
        "        median_input_state = betas[0]\n",
        "    else:\n",
        "        median_input_state = np.array([1] + [lagged_factors_returns[-1]]) @ betas\n",
        "\n",
        "    # Calculating distressed state of input institution\n",
        "    qr = QuantReg(y, X).fit(quantile)\n",
        "    betas = qr.params\n",
        "    if lagged_factors_returns is None:\n",
        "        distressed_input_state = betas[0]\n",
        "    else:\n",
        "        distressed_input_state = np.array([1] + [lagged_factors_returns[-1]]) @ betas\n",
        "\n",
        "    # Quantile regression of output institution/system\n",
        "    if lagged_factors_returns is None:\n",
        "        X = np.column_stack([np.ones(num_periods), input_returns])\n",
        "    else:\n",
        "        X = np.column_stack([np.ones(num_periods),\n",
        "                            input_returns,\n",
        "                            lagged_factors_returns[:-1]])\n",
        "\n",
        "    y = output_returns\n",
        "    qr = QuantReg(y, X).fit(quantile)\n",
        "    betas = qr.params\n",
        "\n",
        "    # Calculating Delta CoVaR\n",
        "    dcovar = betas[1] * (distressed_input_state - median_input_state)\n",
        "\n",
        "    return dcovar"
      ],
      "metadata": {
        "id": "ghEMp3Owhnd6"
      },
      "execution_count": 1,
      "outputs": []
    },
    {
      "cell_type": "code",
      "source": [
        "# Example\n",
        "output_returns = np.array([-0.01, 0.03, -0.02, 0.05, 0.03, 0.03])\n",
        "input_returns = np.array([0.01, 0.04, -0.02, -0.03, 0.004, 0.03])\n",
        "lagged_factors_returns = np.array([0.07, 0.11, 0.10, 0.16, 0.08, 0.12, 0.01])\n",
        "\n",
        "dcovar = delta_co_var(output_returns, input_returns, lagged_factors_returns, 0.05)\n",
        "print(\"Delta CoVaR:\", dcovar)"
      ],
      "metadata": {
        "colab": {
          "base_uri": "https://localhost:8080/"
        },
        "id": "U8_nvgAokSKy",
        "outputId": "77ab7cd7-f2c9-450e-eedd-dd1fd68cce8e"
      },
      "execution_count": 2,
      "outputs": [
        {
          "output_type": "stream",
          "name": "stdout",
          "text": [
            "Delta CoVaR: -0.02976017146285906\n"
          ]
        }
      ]
    },
    {
      "cell_type": "code",
      "source": [],
      "metadata": {
        "id": "sOaIcuXIlLDx"
      },
      "execution_count": 2,
      "outputs": []
    },
    {
      "cell_type": "markdown",
      "source": [
        "## Co_risk"
      ],
      "metadata": {
        "id": "Eb1ihPvamgf0"
      }
    },
    {
      "cell_type": "code",
      "source": [
        "import numpy as np\n",
        "from statsmodels.regression.quantile_regression import QuantReg\n",
        "\n",
        "def co_risk(output_cds_spreads, input_cds_spreads, risk_factors_series, q, risk_factors_values, use_cvx=False):\n",
        "\n",
        "    num_dates = len(output_cds_spreads)\n",
        "\n",
        "    # Preparing design matrix with intercept, risk factors, and input CDS\n",
        "    X = np.column_stack([\n",
        "        np.ones(num_dates),\n",
        "        risk_factors_series,\n",
        "        input_cds_spreads\n",
        "    ])\n",
        "\n",
        "    y = output_cds_spreads\n",
        "\n",
        "    # Quantile regression\n",
        "    qr = QuantReg(y, X).fit(q=q)\n",
        "    betas = qr.params\n",
        "\n",
        "    # Calculating quantiles\n",
        "    input_cds_quantile = np.percentile(input_cds_spreads, q * 100)\n",
        "    output_cds_quantile = np.percentile(output_cds_spreads, q * 100)\n",
        "\n",
        "    # Calculating co-risk measure\n",
        "    numerator = (betas[0] +\n",
        "                betas[-1] * output_cds_quantile +\n",
        "                np.dot(betas[1:-1], risk_factors_values))\n",
        "\n",
        "    c = 100 * ((numerator / input_cds_quantile) - 1)\n",
        "\n",
        "    return c\n",
        "\n",
        "# Example\n",
        "output_cds_spreads = np.array([0.04, 0.01, 0.08, 0.09, 0.01])\n",
        "input_cds_spreads = np.array([0.01, 0.01, 0.04, 0.03, 0.06])\n",
        "risk_factors_series = np.array([\n",
        "    [-1.2, 0.1],\n",
        "    [-1.1, 0.7],\n",
        "    [-0.8, 0.2],\n",
        "    [-1.3, 1.8],\n",
        "    [0.3, 2.3]\n",
        "])\n",
        "q = 0.95\n",
        "risk_factors_values = np.array([-1.2, 0.1])\n",
        "\n",
        "c = co_risk(output_cds_spreads, input_cds_spreads,\n",
        "            risk_factors_series, q, risk_factors_values)\n",
        "print(f\"Co-Risk Measure: {c:.2f}%\")"
      ],
      "metadata": {
        "colab": {
          "base_uri": "https://localhost:8080/"
        },
        "id": "dyG6rbrimj8Z",
        "outputId": "58b8fff7-c75f-42a9-907a-e28be2761d6b"
      },
      "execution_count": 3,
      "outputs": [
        {
          "output_type": "stream",
          "name": "stdout",
          "text": [
            "Co-Risk Measure: 341.68%\n"
          ]
        }
      ]
    },
    {
      "cell_type": "code",
      "source": [],
      "metadata": {
        "id": "EswLMRc1nF8S"
      },
      "execution_count": 3,
      "outputs": []
    },
    {
      "cell_type": "markdown",
      "source": [
        "## Marginal & Systemic Shortfall"
      ],
      "metadata": {
        "id": "PlaLtJz_nTqO"
      }
    },
    {
      "cell_type": "code",
      "source": [
        "import numpy as np\n",
        "from sklearn.linear_model import LinearRegression\n",
        "\n",
        "def marginal_expected_shortfall(firm_returns, market_returns):\n",
        "\n",
        "    if len(firm_returns) != len(market_returns):\n",
        "        raise ValueError(\"Unequal number of days for firm and market returns\")\n",
        "\n",
        "    # Finding the 5% quantile of market returns\n",
        "    low_threshold = np.percentile(market_returns, 5)\n",
        "\n",
        "    # Identifying worst days (market returns below 5% quantile)\n",
        "    worst_days = market_returns < low_threshold\n",
        "\n",
        "    # Calculating mean firm returns during worst market days\n",
        "    mes = np.mean(firm_returns[worst_days])\n",
        "\n",
        "    return mes\n",
        "\n",
        "\n",
        "# Example\n",
        "firm_returns = np.array([\n",
        "    -0.1595, 0.1211, -0.0806, -0.0291, 0.0897,\n",
        "    -0.0254, 0.1210, 0.0132, -0.1214, 0.1901, 0.0243\n",
        "])\n",
        "market_returns = np.array([\n",
        "    -0.0205, -0.0510, 0.0438, 0.0914, 0.0243,\n",
        "    -0.1051, 0.0121, 0.0221, -0.0401, -0.0111, -0.0253\n",
        "])\n",
        "\n",
        "mes = marginal_expected_shortfall(firm_returns, market_returns)\n",
        "print(f\"Marginal Expected Shortfall: {mes:.4f}\")\n",
        "\n"
      ],
      "metadata": {
        "colab": {
          "base_uri": "https://localhost:8080/"
        },
        "id": "5YWv1iponcsZ",
        "outputId": "ceba9ae3-6772-44e1-ea1f-b1e10c68ad99"
      },
      "execution_count": 4,
      "outputs": [
        {
          "output_type": "stream",
          "name": "stdout",
          "text": [
            "Marginal Expected Shortfall: -0.0254\n"
          ]
        }
      ]
    },
    {
      "cell_type": "code",
      "source": [
        "def systemic_expected_shortfall(mes_training, lvg_training, ses_training, mes_firm, lvg_firm):\n",
        "\n",
        "    # Preparing design matrix\n",
        "    X = np.column_stack([np.ones(len(mes_training)), mes_training, lvg_training])\n",
        "    y = ses_training\n",
        "\n",
        "    # Performing linear regression\n",
        "    model = LinearRegression(fit_intercept=False).fit(X, y)\n",
        "    betas = model.coef_\n",
        "\n",
        "    # Calculating SES for the firm\n",
        "    b, c = betas[1], betas[2]\n",
        "    ses = (b * mes_firm + c * lvg_firm) / (b + c)\n",
        "\n",
        "    return ses\n",
        "\n",
        "    # Example\n",
        "mes_training = np.array([-0.023, -0.07, 0.01])\n",
        "lvg_training = np.array([1.8, 1.5, 2.2])\n",
        "ses_training = np.array([0.3, 0.4, -0.2])\n",
        "mes_firm = 0.04\n",
        "lvg_firm = 1.7\n",
        "\n",
        "ses = systemic_expected_shortfall(mes_training, lvg_training, ses_training, mes_firm, lvg_firm)\n",
        "print(f\"Systemic Expected Shortfall: {ses:.4f}\")\n"
      ],
      "metadata": {
        "colab": {
          "base_uri": "https://localhost:8080/"
        },
        "id": "cAxnjHR_rtIG",
        "outputId": "2b4c7899-8aa2-4b1c-b63e-464abbd16dba"
      },
      "execution_count": 5,
      "outputs": [
        {
          "output_type": "stream",
          "name": "stdout",
          "text": [
            "Systemic Expected Shortfall: -0.3334\n"
          ]
        }
      ]
    },
    {
      "cell_type": "code",
      "source": [],
      "metadata": {
        "id": "-9acoAqQrx_Z"
      },
      "execution_count": 5,
      "outputs": []
    }
  ]
}