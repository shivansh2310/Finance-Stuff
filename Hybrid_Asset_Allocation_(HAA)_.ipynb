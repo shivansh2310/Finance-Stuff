{
  "nbformat": 4,
  "nbformat_minor": 0,
  "metadata": {
    "colab": {
      "provenance": [],
      "authorship_tag": "ABX9TyOnp1ER7onGCgm4E9Gc6fih",
      "include_colab_link": true
    },
    "kernelspec": {
      "name": "python3",
      "display_name": "Python 3"
    },
    "language_info": {
      "name": "python"
    }
  },
  "cells": [
    {
      "cell_type": "markdown",
      "metadata": {
        "id": "view-in-github",
        "colab_type": "text"
      },
      "source": [
        "<a href=\"https://colab.research.google.com/github/shivansh2310/Finance-Stuff/blob/main/Hybrid_Asset_Allocation_(HAA)_.ipynb\" target=\"_parent\"><img src=\"https://colab.research.google.com/assets/colab-badge.svg\" alt=\"Open In Colab\"/></a>"
      ]
    },
    {
      "cell_type": "markdown",
      "source": [
        "## Strategy Images\n",
        "\n",
        "<img src='https://pbs.twimg.com/media/Fq2-LHcX0AAOcIR?format=jpg&name=large'>\n",
        "\n",
        "Link :- https://twitter.com/VolatilitySwan/status/1634170171102248960"
      ],
      "metadata": {
        "id": "3PrZVSG4POZq"
      }
    },
    {
      "cell_type": "code",
      "execution_count": 1,
      "metadata": {
        "colab": {
          "base_uri": "https://localhost:8080/"
        },
        "id": "GxX75m_3Gxny",
        "outputId": "cfefee01-3ad9-46c8-e380-1c439cd297e5"
      },
      "outputs": [
        {
          "output_type": "stream",
          "name": "stdout",
          "text": [
            "Looking in indexes: https://pypi.org/simple, https://us-python.pkg.dev/colab-wheels/public/simple/\n",
            "Collecting yfinance\n",
            "  Downloading yfinance-0.2.12-py2.py3-none-any.whl (59 kB)\n",
            "\u001b[2K     \u001b[90m━━━━━━━━━━━━━━━━━━━━━━━━━━━━━━━━━━━━━━━━\u001b[0m \u001b[32m59.2/59.2 KB\u001b[0m \u001b[31m2.4 MB/s\u001b[0m eta \u001b[36m0:00:00\u001b[0m\n",
            "\u001b[?25hRequirement already satisfied: multitasking>=0.0.7 in /usr/local/lib/python3.9/dist-packages (from yfinance) (0.0.11)\n",
            "Collecting frozendict>=2.3.4\n",
            "  Downloading frozendict-2.3.5-cp39-cp39-manylinux_2_17_x86_64.manylinux2014_x86_64.whl (112 kB)\n",
            "\u001b[2K     \u001b[90m━━━━━━━━━━━━━━━━━━━━━━━━━━━━━━━━━━━━━━━\u001b[0m \u001b[32m112.8/112.8 KB\u001b[0m \u001b[31m6.1 MB/s\u001b[0m eta \u001b[36m0:00:00\u001b[0m\n",
            "\u001b[?25hRequirement already satisfied: pandas>=1.3.0 in /usr/local/lib/python3.9/dist-packages (from yfinance) (1.3.5)\n",
            "Requirement already satisfied: lxml>=4.9.1 in /usr/local/lib/python3.9/dist-packages (from yfinance) (4.9.2)\n",
            "Collecting requests>=2.26\n",
            "  Downloading requests-2.28.2-py3-none-any.whl (62 kB)\n",
            "\u001b[2K     \u001b[90m━━━━━━━━━━━━━━━━━━━━━━━━━━━━━━━━━━━━━━━━\u001b[0m \u001b[32m62.8/62.8 KB\u001b[0m \u001b[31m6.0 MB/s\u001b[0m eta \u001b[36m0:00:00\u001b[0m\n",
            "\u001b[?25hCollecting appdirs>=1.4.4\n",
            "  Downloading appdirs-1.4.4-py2.py3-none-any.whl (9.6 kB)\n",
            "Collecting cryptography>=3.3.2\n",
            "  Downloading cryptography-39.0.2-cp36-abi3-manylinux_2_28_x86_64.whl (4.2 MB)\n",
            "\u001b[2K     \u001b[90m━━━━━━━━━━━━━━━━━━━━━━━━━━━━━━━━━━━━━━━━\u001b[0m \u001b[32m4.2/4.2 MB\u001b[0m \u001b[31m49.1 MB/s\u001b[0m eta \u001b[36m0:00:00\u001b[0m\n",
            "\u001b[?25hRequirement already satisfied: numpy>=1.16.5 in /usr/local/lib/python3.9/dist-packages (from yfinance) (1.22.4)\n",
            "Collecting beautifulsoup4>=4.11.1\n",
            "  Downloading beautifulsoup4-4.11.2-py3-none-any.whl (129 kB)\n",
            "\u001b[2K     \u001b[90m━━━━━━━━━━━━━━━━━━━━━━━━━━━━━━━━━━━━━━\u001b[0m \u001b[32m129.4/129.4 KB\u001b[0m \u001b[31m12.0 MB/s\u001b[0m eta \u001b[36m0:00:00\u001b[0m\n",
            "\u001b[?25hRequirement already satisfied: pytz>=2022.5 in /usr/local/lib/python3.9/dist-packages (from yfinance) (2022.7.1)\n",
            "Collecting html5lib>=1.1\n",
            "  Downloading html5lib-1.1-py2.py3-none-any.whl (112 kB)\n",
            "\u001b[2K     \u001b[90m━━━━━━━━━━━━━━━━━━━━━━━━━━━━━━━━━━━━━━\u001b[0m \u001b[32m112.2/112.2 KB\u001b[0m \u001b[31m11.1 MB/s\u001b[0m eta \u001b[36m0:00:00\u001b[0m\n",
            "\u001b[?25hCollecting soupsieve>1.2\n",
            "  Downloading soupsieve-2.4-py3-none-any.whl (37 kB)\n",
            "Requirement already satisfied: cffi>=1.12 in /usr/local/lib/python3.9/dist-packages (from cryptography>=3.3.2->yfinance) (1.15.1)\n",
            "Requirement already satisfied: six>=1.9 in /usr/local/lib/python3.9/dist-packages (from html5lib>=1.1->yfinance) (1.15.0)\n",
            "Requirement already satisfied: webencodings in /usr/local/lib/python3.9/dist-packages (from html5lib>=1.1->yfinance) (0.5.1)\n",
            "Requirement already satisfied: python-dateutil>=2.7.3 in /usr/local/lib/python3.9/dist-packages (from pandas>=1.3.0->yfinance) (2.8.2)\n",
            "Requirement already satisfied: certifi>=2017.4.17 in /usr/local/lib/python3.9/dist-packages (from requests>=2.26->yfinance) (2022.12.7)\n",
            "Collecting charset-normalizer<4,>=2\n",
            "  Downloading charset_normalizer-3.1.0-cp39-cp39-manylinux_2_17_x86_64.manylinux2014_x86_64.whl (199 kB)\n",
            "\u001b[2K     \u001b[90m━━━━━━━━━━━━━━━━━━━━━━━━━━━━━━━━━━━━━━\u001b[0m \u001b[32m199.2/199.2 KB\u001b[0m \u001b[31m15.3 MB/s\u001b[0m eta \u001b[36m0:00:00\u001b[0m\n",
            "\u001b[?25hRequirement already satisfied: urllib3<1.27,>=1.21.1 in /usr/local/lib/python3.9/dist-packages (from requests>=2.26->yfinance) (1.26.14)\n",
            "Requirement already satisfied: idna<4,>=2.5 in /usr/local/lib/python3.9/dist-packages (from requests>=2.26->yfinance) (2.10)\n",
            "Requirement already satisfied: pycparser in /usr/local/lib/python3.9/dist-packages (from cffi>=1.12->cryptography>=3.3.2->yfinance) (2.21)\n",
            "Installing collected packages: appdirs, soupsieve, html5lib, frozendict, charset-normalizer, requests, cryptography, beautifulsoup4, yfinance\n",
            "  Attempting uninstall: html5lib\n",
            "    Found existing installation: html5lib 1.0.1\n",
            "    Uninstalling html5lib-1.0.1:\n",
            "      Successfully uninstalled html5lib-1.0.1\n",
            "  Attempting uninstall: requests\n",
            "    Found existing installation: requests 2.25.1\n",
            "    Uninstalling requests-2.25.1:\n",
            "      Successfully uninstalled requests-2.25.1\n",
            "  Attempting uninstall: beautifulsoup4\n",
            "    Found existing installation: beautifulsoup4 4.6.3\n",
            "    Uninstalling beautifulsoup4-4.6.3:\n",
            "      Successfully uninstalled beautifulsoup4-4.6.3\n",
            "Successfully installed appdirs-1.4.4 beautifulsoup4-4.11.2 charset-normalizer-3.1.0 cryptography-39.0.2 frozendict-2.3.5 html5lib-1.1 requests-2.28.2 soupsieve-2.4 yfinance-0.2.12\n"
          ]
        }
      ],
      "source": [
        "!pip install yfinance"
      ]
    },
    {
      "cell_type": "code",
      "source": [
        "import yfinance as yf"
      ],
      "metadata": {
        "id": "vmiptZXBH9mz"
      },
      "execution_count": 2,
      "outputs": []
    },
    {
      "cell_type": "code",
      "source": [
        "TIP = yf.Ticker(\"TIP\")\n",
        "TIP"
      ],
      "metadata": {
        "colab": {
          "base_uri": "https://localhost:8080/"
        },
        "id": "r5G-XCqHID9R",
        "outputId": "326f057a-61c4-46e8-ea79-68de17c3cd6c"
      },
      "execution_count": 3,
      "outputs": [
        {
          "output_type": "execute_result",
          "data": {
            "text/plain": [
              "yfinance.Ticker object <TIP>"
            ]
          },
          "metadata": {},
          "execution_count": 3
        }
      ]
    },
    {
      "cell_type": "code",
      "source": [
        "TIP_df = TIP.history(start=\"2022-02-28\", end=\"2023-02-28\", period=\"1d\")\n",
        "TIP_df"
      ],
      "metadata": {
        "colab": {
          "base_uri": "https://localhost:8080/",
          "height": 455
        },
        "id": "aiyDdu_BIKpa",
        "outputId": "fe05cfbd-a973-4742-cdc1-b78350e6c51e"
      },
      "execution_count": 5,
      "outputs": [
        {
          "output_type": "execute_result",
          "data": {
            "text/plain": [
              "                                 Open        High         Low       Close  \\\n",
              "Date                                                                        \n",
              "2022-02-28 00:00:00-05:00  118.572852  119.901429  118.563435  119.835472   \n",
              "2022-03-01 00:00:00-05:00  120.155476  121.108868  120.146034  120.693527   \n",
              "2022-03-02 00:00:00-05:00  120.466969  120.580238  119.881717  119.910034   \n",
              "2022-03-03 00:00:00-05:00  120.070527  120.259322  119.730704  119.768463   \n",
              "2022-03-04 00:00:00-05:00  120.504736  121.278768  120.504736  120.684082   \n",
              "...                               ...         ...         ...         ...   \n",
              "2023-02-21 00:00:00-05:00  107.099998  107.260002  106.870003  106.970001   \n",
              "2023-02-22 00:00:00-05:00  107.349998  107.510002  106.830002  106.910004   \n",
              "2023-02-23 00:00:00-05:00  107.000000  107.379997  106.959999  107.260002   \n",
              "2023-02-24 00:00:00-05:00  106.730003  106.769997  106.349998  106.559998   \n",
              "2023-02-27 00:00:00-05:00  106.769997  106.870003  106.639999  106.779999   \n",
              "\n",
              "                            Volume  Dividends  Stock Splits  Capital Gains  \n",
              "Date                                                                        \n",
              "2022-02-28 00:00:00-05:00  7282300      0.000           0.0            0.0  \n",
              "2022-03-01 00:00:00-05:00  8968800      0.229           0.0            0.0  \n",
              "2022-03-02 00:00:00-05:00  5829800      0.000           0.0            0.0  \n",
              "2022-03-03 00:00:00-05:00  4892900      0.000           0.0            0.0  \n",
              "2022-03-04 00:00:00-05:00  4735200      0.000           0.0            0.0  \n",
              "...                            ...        ...           ...            ...  \n",
              "2023-02-21 00:00:00-05:00  2344000      0.000           0.0            0.0  \n",
              "2023-02-22 00:00:00-05:00  5106800      0.000           0.0            0.0  \n",
              "2023-02-23 00:00:00-05:00  3038100      0.000           0.0            0.0  \n",
              "2023-02-24 00:00:00-05:00  3524300      0.000           0.0            0.0  \n",
              "2023-02-27 00:00:00-05:00  1614400      0.000           0.0            0.0  \n",
              "\n",
              "[251 rows x 8 columns]"
            ],
            "text/html": [
              "\n",
              "  <div id=\"df-03aa055c-b23a-4e8a-b2f9-962eb1412a13\">\n",
              "    <div class=\"colab-df-container\">\n",
              "      <div>\n",
              "<style scoped>\n",
              "    .dataframe tbody tr th:only-of-type {\n",
              "        vertical-align: middle;\n",
              "    }\n",
              "\n",
              "    .dataframe tbody tr th {\n",
              "        vertical-align: top;\n",
              "    }\n",
              "\n",
              "    .dataframe thead th {\n",
              "        text-align: right;\n",
              "    }\n",
              "</style>\n",
              "<table border=\"1\" class=\"dataframe\">\n",
              "  <thead>\n",
              "    <tr style=\"text-align: right;\">\n",
              "      <th></th>\n",
              "      <th>Open</th>\n",
              "      <th>High</th>\n",
              "      <th>Low</th>\n",
              "      <th>Close</th>\n",
              "      <th>Volume</th>\n",
              "      <th>Dividends</th>\n",
              "      <th>Stock Splits</th>\n",
              "      <th>Capital Gains</th>\n",
              "    </tr>\n",
              "    <tr>\n",
              "      <th>Date</th>\n",
              "      <th></th>\n",
              "      <th></th>\n",
              "      <th></th>\n",
              "      <th></th>\n",
              "      <th></th>\n",
              "      <th></th>\n",
              "      <th></th>\n",
              "      <th></th>\n",
              "    </tr>\n",
              "  </thead>\n",
              "  <tbody>\n",
              "    <tr>\n",
              "      <th>2022-02-28 00:00:00-05:00</th>\n",
              "      <td>118.572852</td>\n",
              "      <td>119.901429</td>\n",
              "      <td>118.563435</td>\n",
              "      <td>119.835472</td>\n",
              "      <td>7282300</td>\n",
              "      <td>0.000</td>\n",
              "      <td>0.0</td>\n",
              "      <td>0.0</td>\n",
              "    </tr>\n",
              "    <tr>\n",
              "      <th>2022-03-01 00:00:00-05:00</th>\n",
              "      <td>120.155476</td>\n",
              "      <td>121.108868</td>\n",
              "      <td>120.146034</td>\n",
              "      <td>120.693527</td>\n",
              "      <td>8968800</td>\n",
              "      <td>0.229</td>\n",
              "      <td>0.0</td>\n",
              "      <td>0.0</td>\n",
              "    </tr>\n",
              "    <tr>\n",
              "      <th>2022-03-02 00:00:00-05:00</th>\n",
              "      <td>120.466969</td>\n",
              "      <td>120.580238</td>\n",
              "      <td>119.881717</td>\n",
              "      <td>119.910034</td>\n",
              "      <td>5829800</td>\n",
              "      <td>0.000</td>\n",
              "      <td>0.0</td>\n",
              "      <td>0.0</td>\n",
              "    </tr>\n",
              "    <tr>\n",
              "      <th>2022-03-03 00:00:00-05:00</th>\n",
              "      <td>120.070527</td>\n",
              "      <td>120.259322</td>\n",
              "      <td>119.730704</td>\n",
              "      <td>119.768463</td>\n",
              "      <td>4892900</td>\n",
              "      <td>0.000</td>\n",
              "      <td>0.0</td>\n",
              "      <td>0.0</td>\n",
              "    </tr>\n",
              "    <tr>\n",
              "      <th>2022-03-04 00:00:00-05:00</th>\n",
              "      <td>120.504736</td>\n",
              "      <td>121.278768</td>\n",
              "      <td>120.504736</td>\n",
              "      <td>120.684082</td>\n",
              "      <td>4735200</td>\n",
              "      <td>0.000</td>\n",
              "      <td>0.0</td>\n",
              "      <td>0.0</td>\n",
              "    </tr>\n",
              "    <tr>\n",
              "      <th>...</th>\n",
              "      <td>...</td>\n",
              "      <td>...</td>\n",
              "      <td>...</td>\n",
              "      <td>...</td>\n",
              "      <td>...</td>\n",
              "      <td>...</td>\n",
              "      <td>...</td>\n",
              "      <td>...</td>\n",
              "    </tr>\n",
              "    <tr>\n",
              "      <th>2023-02-21 00:00:00-05:00</th>\n",
              "      <td>107.099998</td>\n",
              "      <td>107.260002</td>\n",
              "      <td>106.870003</td>\n",
              "      <td>106.970001</td>\n",
              "      <td>2344000</td>\n",
              "      <td>0.000</td>\n",
              "      <td>0.0</td>\n",
              "      <td>0.0</td>\n",
              "    </tr>\n",
              "    <tr>\n",
              "      <th>2023-02-22 00:00:00-05:00</th>\n",
              "      <td>107.349998</td>\n",
              "      <td>107.510002</td>\n",
              "      <td>106.830002</td>\n",
              "      <td>106.910004</td>\n",
              "      <td>5106800</td>\n",
              "      <td>0.000</td>\n",
              "      <td>0.0</td>\n",
              "      <td>0.0</td>\n",
              "    </tr>\n",
              "    <tr>\n",
              "      <th>2023-02-23 00:00:00-05:00</th>\n",
              "      <td>107.000000</td>\n",
              "      <td>107.379997</td>\n",
              "      <td>106.959999</td>\n",
              "      <td>107.260002</td>\n",
              "      <td>3038100</td>\n",
              "      <td>0.000</td>\n",
              "      <td>0.0</td>\n",
              "      <td>0.0</td>\n",
              "    </tr>\n",
              "    <tr>\n",
              "      <th>2023-02-24 00:00:00-05:00</th>\n",
              "      <td>106.730003</td>\n",
              "      <td>106.769997</td>\n",
              "      <td>106.349998</td>\n",
              "      <td>106.559998</td>\n",
              "      <td>3524300</td>\n",
              "      <td>0.000</td>\n",
              "      <td>0.0</td>\n",
              "      <td>0.0</td>\n",
              "    </tr>\n",
              "    <tr>\n",
              "      <th>2023-02-27 00:00:00-05:00</th>\n",
              "      <td>106.769997</td>\n",
              "      <td>106.870003</td>\n",
              "      <td>106.639999</td>\n",
              "      <td>106.779999</td>\n",
              "      <td>1614400</td>\n",
              "      <td>0.000</td>\n",
              "      <td>0.0</td>\n",
              "      <td>0.0</td>\n",
              "    </tr>\n",
              "  </tbody>\n",
              "</table>\n",
              "<p>251 rows × 8 columns</p>\n",
              "</div>\n",
              "      <button class=\"colab-df-convert\" onclick=\"convertToInteractive('df-03aa055c-b23a-4e8a-b2f9-962eb1412a13')\"\n",
              "              title=\"Convert this dataframe to an interactive table.\"\n",
              "              style=\"display:none;\">\n",
              "        \n",
              "  <svg xmlns=\"http://www.w3.org/2000/svg\" height=\"24px\"viewBox=\"0 0 24 24\"\n",
              "       width=\"24px\">\n",
              "    <path d=\"M0 0h24v24H0V0z\" fill=\"none\"/>\n",
              "    <path d=\"M18.56 5.44l.94 2.06.94-2.06 2.06-.94-2.06-.94-.94-2.06-.94 2.06-2.06.94zm-11 1L8.5 8.5l.94-2.06 2.06-.94-2.06-.94L8.5 2.5l-.94 2.06-2.06.94zm10 10l.94 2.06.94-2.06 2.06-.94-2.06-.94-.94-2.06-.94 2.06-2.06.94z\"/><path d=\"M17.41 7.96l-1.37-1.37c-.4-.4-.92-.59-1.43-.59-.52 0-1.04.2-1.43.59L10.3 9.45l-7.72 7.72c-.78.78-.78 2.05 0 2.83L4 21.41c.39.39.9.59 1.41.59.51 0 1.02-.2 1.41-.59l7.78-7.78 2.81-2.81c.8-.78.8-2.07 0-2.86zM5.41 20L4 18.59l7.72-7.72 1.47 1.35L5.41 20z\"/>\n",
              "  </svg>\n",
              "      </button>\n",
              "      \n",
              "  <style>\n",
              "    .colab-df-container {\n",
              "      display:flex;\n",
              "      flex-wrap:wrap;\n",
              "      gap: 12px;\n",
              "    }\n",
              "\n",
              "    .colab-df-convert {\n",
              "      background-color: #E8F0FE;\n",
              "      border: none;\n",
              "      border-radius: 50%;\n",
              "      cursor: pointer;\n",
              "      display: none;\n",
              "      fill: #1967D2;\n",
              "      height: 32px;\n",
              "      padding: 0 0 0 0;\n",
              "      width: 32px;\n",
              "    }\n",
              "\n",
              "    .colab-df-convert:hover {\n",
              "      background-color: #E2EBFA;\n",
              "      box-shadow: 0px 1px 2px rgba(60, 64, 67, 0.3), 0px 1px 3px 1px rgba(60, 64, 67, 0.15);\n",
              "      fill: #174EA6;\n",
              "    }\n",
              "\n",
              "    [theme=dark] .colab-df-convert {\n",
              "      background-color: #3B4455;\n",
              "      fill: #D2E3FC;\n",
              "    }\n",
              "\n",
              "    [theme=dark] .colab-df-convert:hover {\n",
              "      background-color: #434B5C;\n",
              "      box-shadow: 0px 1px 3px 1px rgba(0, 0, 0, 0.15);\n",
              "      filter: drop-shadow(0px 1px 2px rgba(0, 0, 0, 0.3));\n",
              "      fill: #FFFFFF;\n",
              "    }\n",
              "  </style>\n",
              "\n",
              "      <script>\n",
              "        const buttonEl =\n",
              "          document.querySelector('#df-03aa055c-b23a-4e8a-b2f9-962eb1412a13 button.colab-df-convert');\n",
              "        buttonEl.style.display =\n",
              "          google.colab.kernel.accessAllowed ? 'block' : 'none';\n",
              "\n",
              "        async function convertToInteractive(key) {\n",
              "          const element = document.querySelector('#df-03aa055c-b23a-4e8a-b2f9-962eb1412a13');\n",
              "          const dataTable =\n",
              "            await google.colab.kernel.invokeFunction('convertToInteractive',\n",
              "                                                     [key], {});\n",
              "          if (!dataTable) return;\n",
              "\n",
              "          const docLinkHtml = 'Like what you see? Visit the ' +\n",
              "            '<a target=\"_blank\" href=https://colab.research.google.com/notebooks/data_table.ipynb>data table notebook</a>'\n",
              "            + ' to learn more about interactive tables.';\n",
              "          element.innerHTML = '';\n",
              "          dataTable['output_type'] = 'display_data';\n",
              "          await google.colab.output.renderOutput(dataTable, element);\n",
              "          const docLink = document.createElement('div');\n",
              "          docLink.innerHTML = docLinkHtml;\n",
              "          element.appendChild(docLink);\n",
              "        }\n",
              "      </script>\n",
              "    </div>\n",
              "  </div>\n",
              "  "
            ]
          },
          "metadata": {},
          "execution_count": 5
        }
      ]
    },
    {
      "cell_type": "code",
      "source": [
        "daily_simple_returns = TIP_df.pct_change() \n",
        "daily_simple_returns"
      ],
      "metadata": {
        "colab": {
          "base_uri": "https://localhost:8080/",
          "height": 455
        },
        "id": "o2NLKbmeJLki",
        "outputId": "7f0e08e5-a20f-441c-e8b0-7d2d5bbd25b3"
      },
      "execution_count": 8,
      "outputs": [
        {
          "output_type": "execute_result",
          "data": {
            "text/plain": [
              "                               Open      High       Low     Close    Volume  \\\n",
              "Date                                                                          \n",
              "2022-02-28 00:00:00-05:00       NaN       NaN       NaN       NaN       NaN   \n",
              "2022-03-01 00:00:00-05:00  0.013347  0.010070  0.013348  0.007160  0.231589   \n",
              "2022-03-02 00:00:00-05:00  0.002592 -0.004365 -0.002200 -0.006492 -0.349991   \n",
              "2022-03-03 00:00:00-05:00 -0.003291 -0.002661 -0.001260 -0.001181 -0.160709   \n",
              "2022-03-04 00:00:00-05:00  0.003616  0.008477  0.006465  0.007645 -0.032230   \n",
              "...                             ...       ...       ...       ...       ...   \n",
              "2023-02-21 00:00:00-05:00  0.000187 -0.002325 -0.001495 -0.004467 -0.558094   \n",
              "2023-02-22 00:00:00-05:00  0.002334  0.002331 -0.000374 -0.000561  1.178669   \n",
              "2023-02-23 00:00:00-05:00 -0.003260 -0.001209  0.001217  0.003274 -0.405087   \n",
              "2023-02-24 00:00:00-05:00 -0.002523 -0.005681 -0.005703 -0.006526  0.160034   \n",
              "2023-02-27 00:00:00-05:00  0.000375  0.000937  0.002727  0.002065 -0.541923   \n",
              "\n",
              "                           Dividends  Stock Splits  Capital Gains  \n",
              "Date                                                               \n",
              "2022-02-28 00:00:00-05:00        NaN           NaN            NaN  \n",
              "2022-03-01 00:00:00-05:00        inf           NaN            NaN  \n",
              "2022-03-02 00:00:00-05:00       -1.0           NaN            NaN  \n",
              "2022-03-03 00:00:00-05:00        NaN           NaN            NaN  \n",
              "2022-03-04 00:00:00-05:00        NaN           NaN            NaN  \n",
              "...                              ...           ...            ...  \n",
              "2023-02-21 00:00:00-05:00        NaN           NaN            NaN  \n",
              "2023-02-22 00:00:00-05:00        NaN           NaN            NaN  \n",
              "2023-02-23 00:00:00-05:00        NaN           NaN            NaN  \n",
              "2023-02-24 00:00:00-05:00        NaN           NaN            NaN  \n",
              "2023-02-27 00:00:00-05:00        NaN           NaN            NaN  \n",
              "\n",
              "[251 rows x 8 columns]"
            ],
            "text/html": [
              "\n",
              "  <div id=\"df-94118b47-0554-46d6-bd24-2067d999549f\">\n",
              "    <div class=\"colab-df-container\">\n",
              "      <div>\n",
              "<style scoped>\n",
              "    .dataframe tbody tr th:only-of-type {\n",
              "        vertical-align: middle;\n",
              "    }\n",
              "\n",
              "    .dataframe tbody tr th {\n",
              "        vertical-align: top;\n",
              "    }\n",
              "\n",
              "    .dataframe thead th {\n",
              "        text-align: right;\n",
              "    }\n",
              "</style>\n",
              "<table border=\"1\" class=\"dataframe\">\n",
              "  <thead>\n",
              "    <tr style=\"text-align: right;\">\n",
              "      <th></th>\n",
              "      <th>Open</th>\n",
              "      <th>High</th>\n",
              "      <th>Low</th>\n",
              "      <th>Close</th>\n",
              "      <th>Volume</th>\n",
              "      <th>Dividends</th>\n",
              "      <th>Stock Splits</th>\n",
              "      <th>Capital Gains</th>\n",
              "    </tr>\n",
              "    <tr>\n",
              "      <th>Date</th>\n",
              "      <th></th>\n",
              "      <th></th>\n",
              "      <th></th>\n",
              "      <th></th>\n",
              "      <th></th>\n",
              "      <th></th>\n",
              "      <th></th>\n",
              "      <th></th>\n",
              "    </tr>\n",
              "  </thead>\n",
              "  <tbody>\n",
              "    <tr>\n",
              "      <th>2022-02-28 00:00:00-05:00</th>\n",
              "      <td>NaN</td>\n",
              "      <td>NaN</td>\n",
              "      <td>NaN</td>\n",
              "      <td>NaN</td>\n",
              "      <td>NaN</td>\n",
              "      <td>NaN</td>\n",
              "      <td>NaN</td>\n",
              "      <td>NaN</td>\n",
              "    </tr>\n",
              "    <tr>\n",
              "      <th>2022-03-01 00:00:00-05:00</th>\n",
              "      <td>0.013347</td>\n",
              "      <td>0.010070</td>\n",
              "      <td>0.013348</td>\n",
              "      <td>0.007160</td>\n",
              "      <td>0.231589</td>\n",
              "      <td>inf</td>\n",
              "      <td>NaN</td>\n",
              "      <td>NaN</td>\n",
              "    </tr>\n",
              "    <tr>\n",
              "      <th>2022-03-02 00:00:00-05:00</th>\n",
              "      <td>0.002592</td>\n",
              "      <td>-0.004365</td>\n",
              "      <td>-0.002200</td>\n",
              "      <td>-0.006492</td>\n",
              "      <td>-0.349991</td>\n",
              "      <td>-1.0</td>\n",
              "      <td>NaN</td>\n",
              "      <td>NaN</td>\n",
              "    </tr>\n",
              "    <tr>\n",
              "      <th>2022-03-03 00:00:00-05:00</th>\n",
              "      <td>-0.003291</td>\n",
              "      <td>-0.002661</td>\n",
              "      <td>-0.001260</td>\n",
              "      <td>-0.001181</td>\n",
              "      <td>-0.160709</td>\n",
              "      <td>NaN</td>\n",
              "      <td>NaN</td>\n",
              "      <td>NaN</td>\n",
              "    </tr>\n",
              "    <tr>\n",
              "      <th>2022-03-04 00:00:00-05:00</th>\n",
              "      <td>0.003616</td>\n",
              "      <td>0.008477</td>\n",
              "      <td>0.006465</td>\n",
              "      <td>0.007645</td>\n",
              "      <td>-0.032230</td>\n",
              "      <td>NaN</td>\n",
              "      <td>NaN</td>\n",
              "      <td>NaN</td>\n",
              "    </tr>\n",
              "    <tr>\n",
              "      <th>...</th>\n",
              "      <td>...</td>\n",
              "      <td>...</td>\n",
              "      <td>...</td>\n",
              "      <td>...</td>\n",
              "      <td>...</td>\n",
              "      <td>...</td>\n",
              "      <td>...</td>\n",
              "      <td>...</td>\n",
              "    </tr>\n",
              "    <tr>\n",
              "      <th>2023-02-21 00:00:00-05:00</th>\n",
              "      <td>0.000187</td>\n",
              "      <td>-0.002325</td>\n",
              "      <td>-0.001495</td>\n",
              "      <td>-0.004467</td>\n",
              "      <td>-0.558094</td>\n",
              "      <td>NaN</td>\n",
              "      <td>NaN</td>\n",
              "      <td>NaN</td>\n",
              "    </tr>\n",
              "    <tr>\n",
              "      <th>2023-02-22 00:00:00-05:00</th>\n",
              "      <td>0.002334</td>\n",
              "      <td>0.002331</td>\n",
              "      <td>-0.000374</td>\n",
              "      <td>-0.000561</td>\n",
              "      <td>1.178669</td>\n",
              "      <td>NaN</td>\n",
              "      <td>NaN</td>\n",
              "      <td>NaN</td>\n",
              "    </tr>\n",
              "    <tr>\n",
              "      <th>2023-02-23 00:00:00-05:00</th>\n",
              "      <td>-0.003260</td>\n",
              "      <td>-0.001209</td>\n",
              "      <td>0.001217</td>\n",
              "      <td>0.003274</td>\n",
              "      <td>-0.405087</td>\n",
              "      <td>NaN</td>\n",
              "      <td>NaN</td>\n",
              "      <td>NaN</td>\n",
              "    </tr>\n",
              "    <tr>\n",
              "      <th>2023-02-24 00:00:00-05:00</th>\n",
              "      <td>-0.002523</td>\n",
              "      <td>-0.005681</td>\n",
              "      <td>-0.005703</td>\n",
              "      <td>-0.006526</td>\n",
              "      <td>0.160034</td>\n",
              "      <td>NaN</td>\n",
              "      <td>NaN</td>\n",
              "      <td>NaN</td>\n",
              "    </tr>\n",
              "    <tr>\n",
              "      <th>2023-02-27 00:00:00-05:00</th>\n",
              "      <td>0.000375</td>\n",
              "      <td>0.000937</td>\n",
              "      <td>0.002727</td>\n",
              "      <td>0.002065</td>\n",
              "      <td>-0.541923</td>\n",
              "      <td>NaN</td>\n",
              "      <td>NaN</td>\n",
              "      <td>NaN</td>\n",
              "    </tr>\n",
              "  </tbody>\n",
              "</table>\n",
              "<p>251 rows × 8 columns</p>\n",
              "</div>\n",
              "      <button class=\"colab-df-convert\" onclick=\"convertToInteractive('df-94118b47-0554-46d6-bd24-2067d999549f')\"\n",
              "              title=\"Convert this dataframe to an interactive table.\"\n",
              "              style=\"display:none;\">\n",
              "        \n",
              "  <svg xmlns=\"http://www.w3.org/2000/svg\" height=\"24px\"viewBox=\"0 0 24 24\"\n",
              "       width=\"24px\">\n",
              "    <path d=\"M0 0h24v24H0V0z\" fill=\"none\"/>\n",
              "    <path d=\"M18.56 5.44l.94 2.06.94-2.06 2.06-.94-2.06-.94-.94-2.06-.94 2.06-2.06.94zm-11 1L8.5 8.5l.94-2.06 2.06-.94-2.06-.94L8.5 2.5l-.94 2.06-2.06.94zm10 10l.94 2.06.94-2.06 2.06-.94-2.06-.94-.94-2.06-.94 2.06-2.06.94z\"/><path d=\"M17.41 7.96l-1.37-1.37c-.4-.4-.92-.59-1.43-.59-.52 0-1.04.2-1.43.59L10.3 9.45l-7.72 7.72c-.78.78-.78 2.05 0 2.83L4 21.41c.39.39.9.59 1.41.59.51 0 1.02-.2 1.41-.59l7.78-7.78 2.81-2.81c.8-.78.8-2.07 0-2.86zM5.41 20L4 18.59l7.72-7.72 1.47 1.35L5.41 20z\"/>\n",
              "  </svg>\n",
              "      </button>\n",
              "      \n",
              "  <style>\n",
              "    .colab-df-container {\n",
              "      display:flex;\n",
              "      flex-wrap:wrap;\n",
              "      gap: 12px;\n",
              "    }\n",
              "\n",
              "    .colab-df-convert {\n",
              "      background-color: #E8F0FE;\n",
              "      border: none;\n",
              "      border-radius: 50%;\n",
              "      cursor: pointer;\n",
              "      display: none;\n",
              "      fill: #1967D2;\n",
              "      height: 32px;\n",
              "      padding: 0 0 0 0;\n",
              "      width: 32px;\n",
              "    }\n",
              "\n",
              "    .colab-df-convert:hover {\n",
              "      background-color: #E2EBFA;\n",
              "      box-shadow: 0px 1px 2px rgba(60, 64, 67, 0.3), 0px 1px 3px 1px rgba(60, 64, 67, 0.15);\n",
              "      fill: #174EA6;\n",
              "    }\n",
              "\n",
              "    [theme=dark] .colab-df-convert {\n",
              "      background-color: #3B4455;\n",
              "      fill: #D2E3FC;\n",
              "    }\n",
              "\n",
              "    [theme=dark] .colab-df-convert:hover {\n",
              "      background-color: #434B5C;\n",
              "      box-shadow: 0px 1px 3px 1px rgba(0, 0, 0, 0.15);\n",
              "      filter: drop-shadow(0px 1px 2px rgba(0, 0, 0, 0.3));\n",
              "      fill: #FFFFFF;\n",
              "    }\n",
              "  </style>\n",
              "\n",
              "      <script>\n",
              "        const buttonEl =\n",
              "          document.querySelector('#df-94118b47-0554-46d6-bd24-2067d999549f button.colab-df-convert');\n",
              "        buttonEl.style.display =\n",
              "          google.colab.kernel.accessAllowed ? 'block' : 'none';\n",
              "\n",
              "        async function convertToInteractive(key) {\n",
              "          const element = document.querySelector('#df-94118b47-0554-46d6-bd24-2067d999549f');\n",
              "          const dataTable =\n",
              "            await google.colab.kernel.invokeFunction('convertToInteractive',\n",
              "                                                     [key], {});\n",
              "          if (!dataTable) return;\n",
              "\n",
              "          const docLinkHtml = 'Like what you see? Visit the ' +\n",
              "            '<a target=\"_blank\" href=https://colab.research.google.com/notebooks/data_table.ipynb>data table notebook</a>'\n",
              "            + ' to learn more about interactive tables.';\n",
              "          element.innerHTML = '';\n",
              "          dataTable['output_type'] = 'display_data';\n",
              "          await google.colab.output.renderOutput(dataTable, element);\n",
              "          const docLink = document.createElement('div');\n",
              "          docLink.innerHTML = docLinkHtml;\n",
              "          element.appendChild(docLink);\n",
              "        }\n",
              "      </script>\n",
              "    </div>\n",
              "  </div>\n",
              "  "
            ]
          },
          "metadata": {},
          "execution_count": 8
        }
      ]
    },
    {
      "cell_type": "code",
      "source": [
        "daily_simple_returns.Close"
      ],
      "metadata": {
        "colab": {
          "base_uri": "https://localhost:8080/"
        },
        "id": "OOBNEiqEKlrp",
        "outputId": "23eb2882-9e80-45bd-8db0-7d44bd0529e1"
      },
      "execution_count": 10,
      "outputs": [
        {
          "output_type": "execute_result",
          "data": {
            "text/plain": [
              "Date\n",
              "2022-02-28 00:00:00-05:00         NaN\n",
              "2022-03-01 00:00:00-05:00    0.007160\n",
              "2022-03-02 00:00:00-05:00   -0.006492\n",
              "2022-03-03 00:00:00-05:00   -0.001181\n",
              "2022-03-04 00:00:00-05:00    0.007645\n",
              "                               ...   \n",
              "2023-02-21 00:00:00-05:00   -0.004467\n",
              "2023-02-22 00:00:00-05:00   -0.000561\n",
              "2023-02-23 00:00:00-05:00    0.003274\n",
              "2023-02-24 00:00:00-05:00   -0.006526\n",
              "2023-02-27 00:00:00-05:00    0.002065\n",
              "Name: Close, Length: 251, dtype: float64"
            ]
          },
          "metadata": {},
          "execution_count": 10
        }
      ]
    },
    {
      "cell_type": "code",
      "source": [
        "# Annual Return\n",
        "\n",
        "Annual_retun = daily_simple_returns.Close.mean() * 252\n",
        "Annual_retun"
      ],
      "metadata": {
        "colab": {
          "base_uri": "https://localhost:8080/"
        },
        "id": "559TdoHjJtFq",
        "outputId": "73f6c50a-8a05-44cd-c057-b511689c4218"
      },
      "execution_count": 11,
      "outputs": [
        {
          "output_type": "execute_result",
          "data": {
            "text/plain": [
              "-0.11198633641963823"
            ]
          },
          "metadata": {},
          "execution_count": 11
        }
      ]
    },
    {
      "cell_type": "code",
      "source": [
        "# monthly Return\n",
        "\n",
        "Monthly_retun = daily_simple_returns.Close.mean() * 21\n",
        "Monthly_retun"
      ],
      "metadata": {
        "colab": {
          "base_uri": "https://localhost:8080/"
        },
        "id": "3WxOiXA_KTDo",
        "outputId": "c2e0167d-4dd3-47ae-c271-1221aeb5b99b"
      },
      "execution_count": 12,
      "outputs": [
        {
          "output_type": "execute_result",
          "data": {
            "text/plain": [
              "-0.00933219470163652"
            ]
          },
          "metadata": {},
          "execution_count": 12
        }
      ]
    },
    {
      "cell_type": "code",
      "source": [
        "# 3 month Return\n",
        "\n",
        "quatarly_return = daily_simple_returns.Close.mean() * 63\n",
        "quatarly_return"
      ],
      "metadata": {
        "colab": {
          "base_uri": "https://localhost:8080/"
        },
        "id": "qEFeqn86Lsm_",
        "outputId": "00cdcc4b-4432-4551-96c5-393aeb69d6f2"
      },
      "execution_count": 13,
      "outputs": [
        {
          "output_type": "execute_result",
          "data": {
            "text/plain": [
              "-0.027996584104909558"
            ]
          },
          "metadata": {},
          "execution_count": 13
        }
      ]
    },
    {
      "cell_type": "code",
      "source": [
        "# 6 months Return\n",
        "\n",
        "half_year_return = daily_simple_returns.Close.mean() * 126\n",
        "half_year_return"
      ],
      "metadata": {
        "colab": {
          "base_uri": "https://localhost:8080/"
        },
        "id": "Y7Cg55nML4zx",
        "outputId": "e88d471e-f1ac-421e-ba53-20f0d372a842"
      },
      "execution_count": 14,
      "outputs": [
        {
          "output_type": "execute_result",
          "data": {
            "text/plain": [
              "-0.055993168209819116"
            ]
          },
          "metadata": {},
          "execution_count": 14
        }
      ]
    },
    {
      "cell_type": "code",
      "source": [
        "momentum = (Monthly_retun + quatarly_return + half_year_return + Annual_retun) / 4 \n",
        "\n",
        "momentum"
      ],
      "metadata": {
        "colab": {
          "base_uri": "https://localhost:8080/"
        },
        "id": "2C1PKm9KMJqw",
        "outputId": "eab959b2-bf44-4385-ec35-9c8dbfd7651e"
      },
      "execution_count": 16,
      "outputs": [
        {
          "output_type": "execute_result",
          "data": {
            "text/plain": [
              "-0.05132707085900086"
            ]
          },
          "metadata": {},
          "execution_count": 16
        }
      ]
    },
    {
      "cell_type": "code",
      "source": [],
      "metadata": {
        "id": "7MGMge4zMvPA"
      },
      "execution_count": null,
      "outputs": []
    }
  ]
}