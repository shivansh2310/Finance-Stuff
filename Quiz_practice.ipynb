{
  "nbformat": 4,
  "nbformat_minor": 0,
  "metadata": {
    "colab": {
      "provenance": [],
      "authorship_tag": "ABX9TyPQN6MwALvi5OkolzwNk+kp",
      "include_colab_link": true
    },
    "kernelspec": {
      "name": "python3",
      "display_name": "Python 3"
    },
    "language_info": {
      "name": "python"
    }
  },
  "cells": [
    {
      "cell_type": "markdown",
      "metadata": {
        "id": "view-in-github",
        "colab_type": "text"
      },
      "source": [
        "<a href=\"https://colab.research.google.com/github/shivansh2310/Finance-Stuff/blob/main/Quiz_practice.ipynb\" target=\"_parent\"><img src=\"https://colab.research.google.com/assets/colab-badge.svg\" alt=\"Open In Colab\"/></a>"
      ]
    },
    {
      "cell_type": "markdown",
      "source": [
        "## Cholesky decomposition and Correlation matrix"
      ],
      "metadata": {
        "id": "oT3iMtc0BDNs"
      }
    },
    {
      "cell_type": "code",
      "execution_count": 1,
      "metadata": {
        "id": "07v4Qvop3SUq"
      },
      "outputs": [],
      "source": [
        "# Import libraries\n",
        "%matplotlib inline\n",
        "from math import exp, sqrt\n",
        "\n",
        "import matplotlib.pyplot as plt\n",
        "import numpy as np\n",
        "import yfinance as yf"
      ]
    },
    {
      "cell_type": "code",
      "source": [
        "tickers = [\"BA\", \"C\", \"JPM\"]\n",
        "df_tickers = yf.download(tickers, start=\"2020-01-01\", end=\"2020-12-31\")[\"Adj Close\"]\n",
        "df_tickers.head()"
      ],
      "metadata": {
        "colab": {
          "base_uri": "https://localhost:8080/",
          "height": 255
        },
        "id": "2arOZKPtBb5P",
        "outputId": "0f610728-a489-4e2f-ed70-afac5c598b08"
      },
      "execution_count": 49,
      "outputs": [
        {
          "output_type": "stream",
          "name": "stderr",
          "text": [
            "[*********************100%%**********************]  3 of 3 completed\n"
          ]
        },
        {
          "output_type": "execute_result",
          "data": {
            "text/plain": [
              "Ticker              BA          C         JPM\n",
              "Date                                         \n",
              "2020-01-02  331.348572  68.369751  123.533615\n",
              "2020-01-03  330.791901  67.081985  121.903412\n",
              "2020-01-06  331.766083  66.871567  121.806465\n",
              "2020-01-07  335.285156  66.290794  119.735695\n",
              "2020-01-08  329.410095  66.795815  120.669754"
            ],
            "text/html": [
              "\n",
              "  <div id=\"df-01e782ac-4b74-4f50-bbda-5ebb10eab696\" class=\"colab-df-container\">\n",
              "    <div>\n",
              "<style scoped>\n",
              "    .dataframe tbody tr th:only-of-type {\n",
              "        vertical-align: middle;\n",
              "    }\n",
              "\n",
              "    .dataframe tbody tr th {\n",
              "        vertical-align: top;\n",
              "    }\n",
              "\n",
              "    .dataframe thead th {\n",
              "        text-align: right;\n",
              "    }\n",
              "</style>\n",
              "<table border=\"1\" class=\"dataframe\">\n",
              "  <thead>\n",
              "    <tr style=\"text-align: right;\">\n",
              "      <th>Ticker</th>\n",
              "      <th>BA</th>\n",
              "      <th>C</th>\n",
              "      <th>JPM</th>\n",
              "    </tr>\n",
              "    <tr>\n",
              "      <th>Date</th>\n",
              "      <th></th>\n",
              "      <th></th>\n",
              "      <th></th>\n",
              "    </tr>\n",
              "  </thead>\n",
              "  <tbody>\n",
              "    <tr>\n",
              "      <th>2020-01-02</th>\n",
              "      <td>331.348572</td>\n",
              "      <td>68.369751</td>\n",
              "      <td>123.533615</td>\n",
              "    </tr>\n",
              "    <tr>\n",
              "      <th>2020-01-03</th>\n",
              "      <td>330.791901</td>\n",
              "      <td>67.081985</td>\n",
              "      <td>121.903412</td>\n",
              "    </tr>\n",
              "    <tr>\n",
              "      <th>2020-01-06</th>\n",
              "      <td>331.766083</td>\n",
              "      <td>66.871567</td>\n",
              "      <td>121.806465</td>\n",
              "    </tr>\n",
              "    <tr>\n",
              "      <th>2020-01-07</th>\n",
              "      <td>335.285156</td>\n",
              "      <td>66.290794</td>\n",
              "      <td>119.735695</td>\n",
              "    </tr>\n",
              "    <tr>\n",
              "      <th>2020-01-08</th>\n",
              "      <td>329.410095</td>\n",
              "      <td>66.795815</td>\n",
              "      <td>120.669754</td>\n",
              "    </tr>\n",
              "  </tbody>\n",
              "</table>\n",
              "</div>\n",
              "    <div class=\"colab-df-buttons\">\n",
              "\n",
              "  <div class=\"colab-df-container\">\n",
              "    <button class=\"colab-df-convert\" onclick=\"convertToInteractive('df-01e782ac-4b74-4f50-bbda-5ebb10eab696')\"\n",
              "            title=\"Convert this dataframe to an interactive table.\"\n",
              "            style=\"display:none;\">\n",
              "\n",
              "  <svg xmlns=\"http://www.w3.org/2000/svg\" height=\"24px\" viewBox=\"0 -960 960 960\">\n",
              "    <path d=\"M120-120v-720h720v720H120Zm60-500h600v-160H180v160Zm220 220h160v-160H400v160Zm0 220h160v-160H400v160ZM180-400h160v-160H180v160Zm440 0h160v-160H620v160ZM180-180h160v-160H180v160Zm440 0h160v-160H620v160Z\"/>\n",
              "  </svg>\n",
              "    </button>\n",
              "\n",
              "  <style>\n",
              "    .colab-df-container {\n",
              "      display:flex;\n",
              "      gap: 12px;\n",
              "    }\n",
              "\n",
              "    .colab-df-convert {\n",
              "      background-color: #E8F0FE;\n",
              "      border: none;\n",
              "      border-radius: 50%;\n",
              "      cursor: pointer;\n",
              "      display: none;\n",
              "      fill: #1967D2;\n",
              "      height: 32px;\n",
              "      padding: 0 0 0 0;\n",
              "      width: 32px;\n",
              "    }\n",
              "\n",
              "    .colab-df-convert:hover {\n",
              "      background-color: #E2EBFA;\n",
              "      box-shadow: 0px 1px 2px rgba(60, 64, 67, 0.3), 0px 1px 3px 1px rgba(60, 64, 67, 0.15);\n",
              "      fill: #174EA6;\n",
              "    }\n",
              "\n",
              "    .colab-df-buttons div {\n",
              "      margin-bottom: 4px;\n",
              "    }\n",
              "\n",
              "    [theme=dark] .colab-df-convert {\n",
              "      background-color: #3B4455;\n",
              "      fill: #D2E3FC;\n",
              "    }\n",
              "\n",
              "    [theme=dark] .colab-df-convert:hover {\n",
              "      background-color: #434B5C;\n",
              "      box-shadow: 0px 1px 3px 1px rgba(0, 0, 0, 0.15);\n",
              "      filter: drop-shadow(0px 1px 2px rgba(0, 0, 0, 0.3));\n",
              "      fill: #FFFFFF;\n",
              "    }\n",
              "  </style>\n",
              "\n",
              "    <script>\n",
              "      const buttonEl =\n",
              "        document.querySelector('#df-01e782ac-4b74-4f50-bbda-5ebb10eab696 button.colab-df-convert');\n",
              "      buttonEl.style.display =\n",
              "        google.colab.kernel.accessAllowed ? 'block' : 'none';\n",
              "\n",
              "      async function convertToInteractive(key) {\n",
              "        const element = document.querySelector('#df-01e782ac-4b74-4f50-bbda-5ebb10eab696');\n",
              "        const dataTable =\n",
              "          await google.colab.kernel.invokeFunction('convertToInteractive',\n",
              "                                                    [key], {});\n",
              "        if (!dataTable) return;\n",
              "\n",
              "        const docLinkHtml = 'Like what you see? Visit the ' +\n",
              "          '<a target=\"_blank\" href=https://colab.research.google.com/notebooks/data_table.ipynb>data table notebook</a>'\n",
              "          + ' to learn more about interactive tables.';\n",
              "        element.innerHTML = '';\n",
              "        dataTable['output_type'] = 'display_data';\n",
              "        await google.colab.output.renderOutput(dataTable, element);\n",
              "        const docLink = document.createElement('div');\n",
              "        docLink.innerHTML = docLinkHtml;\n",
              "        element.appendChild(docLink);\n",
              "      }\n",
              "    </script>\n",
              "  </div>\n",
              "\n",
              "\n",
              "<div id=\"df-f8823266-b2b5-41ae-aa27-471b13e3731b\">\n",
              "  <button class=\"colab-df-quickchart\" onclick=\"quickchart('df-f8823266-b2b5-41ae-aa27-471b13e3731b')\"\n",
              "            title=\"Suggest charts\"\n",
              "            style=\"display:none;\">\n",
              "\n",
              "<svg xmlns=\"http://www.w3.org/2000/svg\" height=\"24px\"viewBox=\"0 0 24 24\"\n",
              "     width=\"24px\">\n",
              "    <g>\n",
              "        <path d=\"M19 3H5c-1.1 0-2 .9-2 2v14c0 1.1.9 2 2 2h14c1.1 0 2-.9 2-2V5c0-1.1-.9-2-2-2zM9 17H7v-7h2v7zm4 0h-2V7h2v10zm4 0h-2v-4h2v4z\"/>\n",
              "    </g>\n",
              "</svg>\n",
              "  </button>\n",
              "\n",
              "<style>\n",
              "  .colab-df-quickchart {\n",
              "      --bg-color: #E8F0FE;\n",
              "      --fill-color: #1967D2;\n",
              "      --hover-bg-color: #E2EBFA;\n",
              "      --hover-fill-color: #174EA6;\n",
              "      --disabled-fill-color: #AAA;\n",
              "      --disabled-bg-color: #DDD;\n",
              "  }\n",
              "\n",
              "  [theme=dark] .colab-df-quickchart {\n",
              "      --bg-color: #3B4455;\n",
              "      --fill-color: #D2E3FC;\n",
              "      --hover-bg-color: #434B5C;\n",
              "      --hover-fill-color: #FFFFFF;\n",
              "      --disabled-bg-color: #3B4455;\n",
              "      --disabled-fill-color: #666;\n",
              "  }\n",
              "\n",
              "  .colab-df-quickchart {\n",
              "    background-color: var(--bg-color);\n",
              "    border: none;\n",
              "    border-radius: 50%;\n",
              "    cursor: pointer;\n",
              "    display: none;\n",
              "    fill: var(--fill-color);\n",
              "    height: 32px;\n",
              "    padding: 0;\n",
              "    width: 32px;\n",
              "  }\n",
              "\n",
              "  .colab-df-quickchart:hover {\n",
              "    background-color: var(--hover-bg-color);\n",
              "    box-shadow: 0 1px 2px rgba(60, 64, 67, 0.3), 0 1px 3px 1px rgba(60, 64, 67, 0.15);\n",
              "    fill: var(--button-hover-fill-color);\n",
              "  }\n",
              "\n",
              "  .colab-df-quickchart-complete:disabled,\n",
              "  .colab-df-quickchart-complete:disabled:hover {\n",
              "    background-color: var(--disabled-bg-color);\n",
              "    fill: var(--disabled-fill-color);\n",
              "    box-shadow: none;\n",
              "  }\n",
              "\n",
              "  .colab-df-spinner {\n",
              "    border: 2px solid var(--fill-color);\n",
              "    border-color: transparent;\n",
              "    border-bottom-color: var(--fill-color);\n",
              "    animation:\n",
              "      spin 1s steps(1) infinite;\n",
              "  }\n",
              "\n",
              "  @keyframes spin {\n",
              "    0% {\n",
              "      border-color: transparent;\n",
              "      border-bottom-color: var(--fill-color);\n",
              "      border-left-color: var(--fill-color);\n",
              "    }\n",
              "    20% {\n",
              "      border-color: transparent;\n",
              "      border-left-color: var(--fill-color);\n",
              "      border-top-color: var(--fill-color);\n",
              "    }\n",
              "    30% {\n",
              "      border-color: transparent;\n",
              "      border-left-color: var(--fill-color);\n",
              "      border-top-color: var(--fill-color);\n",
              "      border-right-color: var(--fill-color);\n",
              "    }\n",
              "    40% {\n",
              "      border-color: transparent;\n",
              "      border-right-color: var(--fill-color);\n",
              "      border-top-color: var(--fill-color);\n",
              "    }\n",
              "    60% {\n",
              "      border-color: transparent;\n",
              "      border-right-color: var(--fill-color);\n",
              "    }\n",
              "    80% {\n",
              "      border-color: transparent;\n",
              "      border-right-color: var(--fill-color);\n",
              "      border-bottom-color: var(--fill-color);\n",
              "    }\n",
              "    90% {\n",
              "      border-color: transparent;\n",
              "      border-bottom-color: var(--fill-color);\n",
              "    }\n",
              "  }\n",
              "</style>\n",
              "\n",
              "  <script>\n",
              "    async function quickchart(key) {\n",
              "      const quickchartButtonEl =\n",
              "        document.querySelector('#' + key + ' button');\n",
              "      quickchartButtonEl.disabled = true;  // To prevent multiple clicks.\n",
              "      quickchartButtonEl.classList.add('colab-df-spinner');\n",
              "      try {\n",
              "        const charts = await google.colab.kernel.invokeFunction(\n",
              "            'suggestCharts', [key], {});\n",
              "      } catch (error) {\n",
              "        console.error('Error during call to suggestCharts:', error);\n",
              "      }\n",
              "      quickchartButtonEl.classList.remove('colab-df-spinner');\n",
              "      quickchartButtonEl.classList.add('colab-df-quickchart-complete');\n",
              "    }\n",
              "    (() => {\n",
              "      let quickchartButtonEl =\n",
              "        document.querySelector('#df-f8823266-b2b5-41ae-aa27-471b13e3731b button');\n",
              "      quickchartButtonEl.style.display =\n",
              "        google.colab.kernel.accessAllowed ? 'block' : 'none';\n",
              "    })();\n",
              "  </script>\n",
              "</div>\n",
              "\n",
              "    </div>\n",
              "  </div>\n"
            ],
            "application/vnd.google.colaboratory.intrinsic+json": {
              "type": "dataframe",
              "variable_name": "df_tickers",
              "summary": "{\n  \"name\": \"df_tickers\",\n  \"rows\": 252,\n  \"fields\": [\n    {\n      \"column\": \"Date\",\n      \"properties\": {\n        \"dtype\": \"date\",\n        \"min\": \"2020-01-02 00:00:00\",\n        \"max\": \"2020-12-30 00:00:00\",\n        \"num_unique_values\": 252,\n        \"samples\": [\n          \"2020-08-27 00:00:00\",\n          \"2020-01-10 00:00:00\",\n          \"2020-06-11 00:00:00\"\n        ],\n        \"semantic_type\": \"\",\n        \"description\": \"\"\n      }\n    },\n    {\n      \"column\": \"BA\",\n      \"properties\": {\n        \"dtype\": \"number\",\n        \"std\": 64.0004009307046,\n        \"min\": 95.01000213623047,\n        \"max\": 345.39501953125,\n        \"num_unique_values\": 249,\n        \"samples\": [\n          178.6300048828125,\n          327.96868896484375,\n          137.52999877929688\n        ],\n        \"semantic_type\": \"\",\n        \"description\": \"\"\n      }\n    },\n    {\n      \"column\": \"C\",\n      \"properties\": {\n        \"dtype\": \"number\",\n        \"std\": 9.935139660774553,\n        \"min\": 29.984577178955078,\n        \"max\": 68.94210052490234,\n        \"num_unique_values\": 248,\n        \"samples\": [\n          66.27281188964844,\n          66.70323181152344,\n          36.49121856689453\n        ],\n        \"semantic_type\": \"\",\n        \"description\": \"\"\n      }\n    },\n    {\n      \"column\": \"JPM\",\n      \"properties\": {\n        \"dtype\": \"number\",\n        \"std\": 13.901419619457966,\n        \"min\": 69.64021301269531,\n        \"max\": 123.53361511230469,\n        \"num_unique_values\": 246,\n        \"samples\": [\n          116.45767974853516,\n          119.90313720703125,\n          84.03136444091797\n        ],\n        \"semantic_type\": \"\",\n        \"description\": \"\"\n      }\n    }\n  ]\n}"
            }
          },
          "metadata": {},
          "execution_count": 49
        }
      ]
    },
    {
      "cell_type": "code",
      "source": [
        "df_tickers_ret = df_tickers / df_tickers.shift(1) - 1\n",
        "volatility = (\n",
        "    df_tickers_ret.std()\n",
        ")  # This is daily volatility, we will later on annualize it!\n",
        "df_tickers_corr = df_tickers_ret.corr()\n",
        "print(df_tickers_corr)"
      ],
      "metadata": {
        "colab": {
          "base_uri": "https://localhost:8080/"
        },
        "id": "r2Rg9P_FBeR9",
        "outputId": "fe944a78-5056-4181-d48e-f66384ae20f1"
      },
      "execution_count": 50,
      "outputs": [
        {
          "output_type": "stream",
          "name": "stdout",
          "text": [
            "Ticker        BA         C       JPM\n",
            "Ticker                              \n",
            "BA      1.000000  0.732748  0.709412\n",
            "C       0.732748  1.000000  0.916919\n",
            "JPM     0.709412  0.916919  1.000000\n"
          ]
        }
      ]
    },
    {
      "cell_type": "code",
      "source": [
        "# Perform Cholesky decomposition on coefficient matrix\n",
        "R = np.linalg.cholesky(df_tickers_corr)\n",
        "\n",
        "# Compute transpose conjugate (only for validation)\n",
        "RT = R.T.conj()\n",
        "\n",
        "# Compare the R matrix and check the reconstruction of the original correlation matrix:\n",
        "# 1. R  matrix from Cholesky decomposition\n",
        "print(\"This is the R matrix: \")\n",
        "print(R)\n",
        "# 2. Reconstruct coefficient matrix from factorization (only for validation)\n",
        "print(\"This is the reconstructed original correlation matrix \")\n",
        "print(np.dot(R, RT))"
      ],
      "metadata": {
        "colab": {
          "base_uri": "https://localhost:8080/"
        },
        "id": "g9L9OefJBn-c",
        "outputId": "96f39e49-4342-4d95-bd6b-9f67d6addbb6"
      },
      "execution_count": 54,
      "outputs": [
        {
          "output_type": "stream",
          "name": "stdout",
          "text": [
            "This is the R matrix: \n",
            "[[1.         0.         0.        ]\n",
            " [0.73274843 0.68049963 0.        ]\n",
            " [0.70941221 0.58353931 0.39524194]]\n",
            "This is the reconstructed original correlation matrix \n",
            "[[1.         0.73274843 0.70941221]\n",
            " [0.73274843 1.         0.91691896]\n",
            " [0.70941221 0.91691896 1.        ]]\n"
          ]
        }
      ]
    },
    {
      "cell_type": "markdown",
      "source": [
        "## Continuous Compounded returns"
      ],
      "metadata": {
        "id": "ekaYSwPODHM4"
      }
    },
    {
      "cell_type": "code",
      "source": [
        "tickers = [\"XOM\"]\n",
        "df_tickers = yf.download(tickers, start=\"2021-01-01\", end=\"2021-12-31\")\n",
        "df_tickers.head()"
      ],
      "metadata": {
        "colab": {
          "base_uri": "https://localhost:8080/",
          "height": 255
        },
        "id": "hTqn7XQbBqxl",
        "outputId": "879e9c83-f80d-4268-ab20-a4eaf31a58ac"
      },
      "execution_count": 22,
      "outputs": [
        {
          "output_type": "stream",
          "name": "stderr",
          "text": [
            "\r[*********************100%%**********************]  1 of 1 completed\n"
          ]
        },
        {
          "output_type": "execute_result",
          "data": {
            "text/plain": [
              "                 Open       High        Low      Close  Adj Close    Volume\n",
              "Date                                                                       \n",
              "2021-01-04  41.450001  42.250000  41.000000  41.500000  35.737587  27764700\n",
              "2021-01-05  41.840000  44.799999  41.830002  43.500000  37.459869  44035100\n",
              "2021-01-06  44.410000  45.099998  43.700001  44.610001  38.415745  36484800\n",
              "2021-01-07  45.000000  45.570000  44.529999  44.959999  38.717148  29528100\n",
              "2021-01-08  45.200001  45.820000  44.950001  45.459999  39.147720  28628200"
            ],
            "text/html": [
              "\n",
              "  <div id=\"df-06d2f8e0-3426-46bc-b4aa-6fe07d11bbc5\" class=\"colab-df-container\">\n",
              "    <div>\n",
              "<style scoped>\n",
              "    .dataframe tbody tr th:only-of-type {\n",
              "        vertical-align: middle;\n",
              "    }\n",
              "\n",
              "    .dataframe tbody tr th {\n",
              "        vertical-align: top;\n",
              "    }\n",
              "\n",
              "    .dataframe thead th {\n",
              "        text-align: right;\n",
              "    }\n",
              "</style>\n",
              "<table border=\"1\" class=\"dataframe\">\n",
              "  <thead>\n",
              "    <tr style=\"text-align: right;\">\n",
              "      <th></th>\n",
              "      <th>Open</th>\n",
              "      <th>High</th>\n",
              "      <th>Low</th>\n",
              "      <th>Close</th>\n",
              "      <th>Adj Close</th>\n",
              "      <th>Volume</th>\n",
              "    </tr>\n",
              "    <tr>\n",
              "      <th>Date</th>\n",
              "      <th></th>\n",
              "      <th></th>\n",
              "      <th></th>\n",
              "      <th></th>\n",
              "      <th></th>\n",
              "      <th></th>\n",
              "    </tr>\n",
              "  </thead>\n",
              "  <tbody>\n",
              "    <tr>\n",
              "      <th>2021-01-04</th>\n",
              "      <td>41.450001</td>\n",
              "      <td>42.250000</td>\n",
              "      <td>41.000000</td>\n",
              "      <td>41.500000</td>\n",
              "      <td>35.737587</td>\n",
              "      <td>27764700</td>\n",
              "    </tr>\n",
              "    <tr>\n",
              "      <th>2021-01-05</th>\n",
              "      <td>41.840000</td>\n",
              "      <td>44.799999</td>\n",
              "      <td>41.830002</td>\n",
              "      <td>43.500000</td>\n",
              "      <td>37.459869</td>\n",
              "      <td>44035100</td>\n",
              "    </tr>\n",
              "    <tr>\n",
              "      <th>2021-01-06</th>\n",
              "      <td>44.410000</td>\n",
              "      <td>45.099998</td>\n",
              "      <td>43.700001</td>\n",
              "      <td>44.610001</td>\n",
              "      <td>38.415745</td>\n",
              "      <td>36484800</td>\n",
              "    </tr>\n",
              "    <tr>\n",
              "      <th>2021-01-07</th>\n",
              "      <td>45.000000</td>\n",
              "      <td>45.570000</td>\n",
              "      <td>44.529999</td>\n",
              "      <td>44.959999</td>\n",
              "      <td>38.717148</td>\n",
              "      <td>29528100</td>\n",
              "    </tr>\n",
              "    <tr>\n",
              "      <th>2021-01-08</th>\n",
              "      <td>45.200001</td>\n",
              "      <td>45.820000</td>\n",
              "      <td>44.950001</td>\n",
              "      <td>45.459999</td>\n",
              "      <td>39.147720</td>\n",
              "      <td>28628200</td>\n",
              "    </tr>\n",
              "  </tbody>\n",
              "</table>\n",
              "</div>\n",
              "    <div class=\"colab-df-buttons\">\n",
              "\n",
              "  <div class=\"colab-df-container\">\n",
              "    <button class=\"colab-df-convert\" onclick=\"convertToInteractive('df-06d2f8e0-3426-46bc-b4aa-6fe07d11bbc5')\"\n",
              "            title=\"Convert this dataframe to an interactive table.\"\n",
              "            style=\"display:none;\">\n",
              "\n",
              "  <svg xmlns=\"http://www.w3.org/2000/svg\" height=\"24px\" viewBox=\"0 -960 960 960\">\n",
              "    <path d=\"M120-120v-720h720v720H120Zm60-500h600v-160H180v160Zm220 220h160v-160H400v160Zm0 220h160v-160H400v160ZM180-400h160v-160H180v160Zm440 0h160v-160H620v160ZM180-180h160v-160H180v160Zm440 0h160v-160H620v160Z\"/>\n",
              "  </svg>\n",
              "    </button>\n",
              "\n",
              "  <style>\n",
              "    .colab-df-container {\n",
              "      display:flex;\n",
              "      gap: 12px;\n",
              "    }\n",
              "\n",
              "    .colab-df-convert {\n",
              "      background-color: #E8F0FE;\n",
              "      border: none;\n",
              "      border-radius: 50%;\n",
              "      cursor: pointer;\n",
              "      display: none;\n",
              "      fill: #1967D2;\n",
              "      height: 32px;\n",
              "      padding: 0 0 0 0;\n",
              "      width: 32px;\n",
              "    }\n",
              "\n",
              "    .colab-df-convert:hover {\n",
              "      background-color: #E2EBFA;\n",
              "      box-shadow: 0px 1px 2px rgba(60, 64, 67, 0.3), 0px 1px 3px 1px rgba(60, 64, 67, 0.15);\n",
              "      fill: #174EA6;\n",
              "    }\n",
              "\n",
              "    .colab-df-buttons div {\n",
              "      margin-bottom: 4px;\n",
              "    }\n",
              "\n",
              "    [theme=dark] .colab-df-convert {\n",
              "      background-color: #3B4455;\n",
              "      fill: #D2E3FC;\n",
              "    }\n",
              "\n",
              "    [theme=dark] .colab-df-convert:hover {\n",
              "      background-color: #434B5C;\n",
              "      box-shadow: 0px 1px 3px 1px rgba(0, 0, 0, 0.15);\n",
              "      filter: drop-shadow(0px 1px 2px rgba(0, 0, 0, 0.3));\n",
              "      fill: #FFFFFF;\n",
              "    }\n",
              "  </style>\n",
              "\n",
              "    <script>\n",
              "      const buttonEl =\n",
              "        document.querySelector('#df-06d2f8e0-3426-46bc-b4aa-6fe07d11bbc5 button.colab-df-convert');\n",
              "      buttonEl.style.display =\n",
              "        google.colab.kernel.accessAllowed ? 'block' : 'none';\n",
              "\n",
              "      async function convertToInteractive(key) {\n",
              "        const element = document.querySelector('#df-06d2f8e0-3426-46bc-b4aa-6fe07d11bbc5');\n",
              "        const dataTable =\n",
              "          await google.colab.kernel.invokeFunction('convertToInteractive',\n",
              "                                                    [key], {});\n",
              "        if (!dataTable) return;\n",
              "\n",
              "        const docLinkHtml = 'Like what you see? Visit the ' +\n",
              "          '<a target=\"_blank\" href=https://colab.research.google.com/notebooks/data_table.ipynb>data table notebook</a>'\n",
              "          + ' to learn more about interactive tables.';\n",
              "        element.innerHTML = '';\n",
              "        dataTable['output_type'] = 'display_data';\n",
              "        await google.colab.output.renderOutput(dataTable, element);\n",
              "        const docLink = document.createElement('div');\n",
              "        docLink.innerHTML = docLinkHtml;\n",
              "        element.appendChild(docLink);\n",
              "      }\n",
              "    </script>\n",
              "  </div>\n",
              "\n",
              "\n",
              "<div id=\"df-19ea694a-5ba2-4007-9861-beaf6eea9cfa\">\n",
              "  <button class=\"colab-df-quickchart\" onclick=\"quickchart('df-19ea694a-5ba2-4007-9861-beaf6eea9cfa')\"\n",
              "            title=\"Suggest charts\"\n",
              "            style=\"display:none;\">\n",
              "\n",
              "<svg xmlns=\"http://www.w3.org/2000/svg\" height=\"24px\"viewBox=\"0 0 24 24\"\n",
              "     width=\"24px\">\n",
              "    <g>\n",
              "        <path d=\"M19 3H5c-1.1 0-2 .9-2 2v14c0 1.1.9 2 2 2h14c1.1 0 2-.9 2-2V5c0-1.1-.9-2-2-2zM9 17H7v-7h2v7zm4 0h-2V7h2v10zm4 0h-2v-4h2v4z\"/>\n",
              "    </g>\n",
              "</svg>\n",
              "  </button>\n",
              "\n",
              "<style>\n",
              "  .colab-df-quickchart {\n",
              "      --bg-color: #E8F0FE;\n",
              "      --fill-color: #1967D2;\n",
              "      --hover-bg-color: #E2EBFA;\n",
              "      --hover-fill-color: #174EA6;\n",
              "      --disabled-fill-color: #AAA;\n",
              "      --disabled-bg-color: #DDD;\n",
              "  }\n",
              "\n",
              "  [theme=dark] .colab-df-quickchart {\n",
              "      --bg-color: #3B4455;\n",
              "      --fill-color: #D2E3FC;\n",
              "      --hover-bg-color: #434B5C;\n",
              "      --hover-fill-color: #FFFFFF;\n",
              "      --disabled-bg-color: #3B4455;\n",
              "      --disabled-fill-color: #666;\n",
              "  }\n",
              "\n",
              "  .colab-df-quickchart {\n",
              "    background-color: var(--bg-color);\n",
              "    border: none;\n",
              "    border-radius: 50%;\n",
              "    cursor: pointer;\n",
              "    display: none;\n",
              "    fill: var(--fill-color);\n",
              "    height: 32px;\n",
              "    padding: 0;\n",
              "    width: 32px;\n",
              "  }\n",
              "\n",
              "  .colab-df-quickchart:hover {\n",
              "    background-color: var(--hover-bg-color);\n",
              "    box-shadow: 0 1px 2px rgba(60, 64, 67, 0.3), 0 1px 3px 1px rgba(60, 64, 67, 0.15);\n",
              "    fill: var(--button-hover-fill-color);\n",
              "  }\n",
              "\n",
              "  .colab-df-quickchart-complete:disabled,\n",
              "  .colab-df-quickchart-complete:disabled:hover {\n",
              "    background-color: var(--disabled-bg-color);\n",
              "    fill: var(--disabled-fill-color);\n",
              "    box-shadow: none;\n",
              "  }\n",
              "\n",
              "  .colab-df-spinner {\n",
              "    border: 2px solid var(--fill-color);\n",
              "    border-color: transparent;\n",
              "    border-bottom-color: var(--fill-color);\n",
              "    animation:\n",
              "      spin 1s steps(1) infinite;\n",
              "  }\n",
              "\n",
              "  @keyframes spin {\n",
              "    0% {\n",
              "      border-color: transparent;\n",
              "      border-bottom-color: var(--fill-color);\n",
              "      border-left-color: var(--fill-color);\n",
              "    }\n",
              "    20% {\n",
              "      border-color: transparent;\n",
              "      border-left-color: var(--fill-color);\n",
              "      border-top-color: var(--fill-color);\n",
              "    }\n",
              "    30% {\n",
              "      border-color: transparent;\n",
              "      border-left-color: var(--fill-color);\n",
              "      border-top-color: var(--fill-color);\n",
              "      border-right-color: var(--fill-color);\n",
              "    }\n",
              "    40% {\n",
              "      border-color: transparent;\n",
              "      border-right-color: var(--fill-color);\n",
              "      border-top-color: var(--fill-color);\n",
              "    }\n",
              "    60% {\n",
              "      border-color: transparent;\n",
              "      border-right-color: var(--fill-color);\n",
              "    }\n",
              "    80% {\n",
              "      border-color: transparent;\n",
              "      border-right-color: var(--fill-color);\n",
              "      border-bottom-color: var(--fill-color);\n",
              "    }\n",
              "    90% {\n",
              "      border-color: transparent;\n",
              "      border-bottom-color: var(--fill-color);\n",
              "    }\n",
              "  }\n",
              "</style>\n",
              "\n",
              "  <script>\n",
              "    async function quickchart(key) {\n",
              "      const quickchartButtonEl =\n",
              "        document.querySelector('#' + key + ' button');\n",
              "      quickchartButtonEl.disabled = true;  // To prevent multiple clicks.\n",
              "      quickchartButtonEl.classList.add('colab-df-spinner');\n",
              "      try {\n",
              "        const charts = await google.colab.kernel.invokeFunction(\n",
              "            'suggestCharts', [key], {});\n",
              "      } catch (error) {\n",
              "        console.error('Error during call to suggestCharts:', error);\n",
              "      }\n",
              "      quickchartButtonEl.classList.remove('colab-df-spinner');\n",
              "      quickchartButtonEl.classList.add('colab-df-quickchart-complete');\n",
              "    }\n",
              "    (() => {\n",
              "      let quickchartButtonEl =\n",
              "        document.querySelector('#df-19ea694a-5ba2-4007-9861-beaf6eea9cfa button');\n",
              "      quickchartButtonEl.style.display =\n",
              "        google.colab.kernel.accessAllowed ? 'block' : 'none';\n",
              "    })();\n",
              "  </script>\n",
              "</div>\n",
              "\n",
              "    </div>\n",
              "  </div>\n"
            ],
            "application/vnd.google.colaboratory.intrinsic+json": {
              "type": "dataframe",
              "variable_name": "df_tickers",
              "summary": "{\n  \"name\": \"df_tickers\",\n  \"rows\": 251,\n  \"fields\": [\n    {\n      \"column\": \"Date\",\n      \"properties\": {\n        \"dtype\": \"date\",\n        \"min\": \"2021-01-04 00:00:00\",\n        \"max\": \"2021-12-30 00:00:00\",\n        \"num_unique_values\": 251,\n        \"samples\": [\n          \"2021-08-16 00:00:00\",\n          \"2021-01-12 00:00:00\",\n          \"2021-08-27 00:00:00\"\n        ],\n        \"semantic_type\": \"\",\n        \"description\": \"\"\n      }\n    },\n    {\n      \"column\": \"Open\",\n      \"properties\": {\n        \"dtype\": \"number\",\n        \"std\": 5.083084681067101,\n        \"min\": 41.45000076293945,\n        \"max\": 65.7699966430664,\n        \"num_unique_values\": 232,\n        \"samples\": [\n          62.04999923706055,\n          55.29999923706055,\n          48.90999984741211\n        ],\n        \"semantic_type\": \"\",\n        \"description\": \"\"\n      }\n    },\n    {\n      \"column\": \"High\",\n      \"properties\": {\n        \"dtype\": \"number\",\n        \"std\": 5.008170407159029,\n        \"min\": 42.25,\n        \"max\": 66.37999725341797,\n        \"num_unique_values\": 231,\n        \"samples\": [\n          63.029998779296875,\n          56.439998626708984,\n          49.08000183105469\n        ],\n        \"semantic_type\": \"\",\n        \"description\": \"\"\n      }\n    },\n    {\n      \"column\": \"Low\",\n      \"properties\": {\n        \"dtype\": \"number\",\n        \"std\": 5.059108192937703,\n        \"min\": 41.0,\n        \"max\": 65.37999725341797,\n        \"num_unique_values\": 226,\n        \"samples\": [\n          47.290000915527344,\n          62.720001220703125,\n          62.41999816894531\n        ],\n        \"semantic_type\": \"\",\n        \"description\": \"\"\n      }\n    },\n    {\n      \"column\": \"Close\",\n      \"properties\": {\n        \"dtype\": \"number\",\n        \"std\": 5.022959989885432,\n        \"min\": 41.5,\n        \"max\": 66.36000061035156,\n        \"num_unique_values\": 236,\n        \"samples\": [\n          56.97999954223633,\n          63.5,\n          61.619998931884766\n        ],\n        \"semantic_type\": \"\",\n        \"description\": \"\"\n      }\n    },\n    {\n      \"column\": \"Adj Close\",\n      \"properties\": {\n        \"dtype\": \"number\",\n        \"std\": 5.0582455999931675,\n        \"min\": 35.737586975097656,\n        \"max\": 59.855220794677734,\n        \"num_unique_values\": 246,\n        \"samples\": [\n          47.554351806640625,\n          41.23169708251953,\n          54.04648971557617\n        ],\n        \"semantic_type\": \"\",\n        \"description\": \"\"\n      }\n    },\n    {\n      \"column\": \"Volume\",\n      \"properties\": {\n        \"dtype\": \"number\",\n        \"std\": 8250231,\n        \"min\": 11842600,\n        \"max\": 84439400,\n        \"num_unique_values\": 250,\n        \"samples\": [\n          18607800,\n          36915100,\n          25616100\n        ],\n        \"semantic_type\": \"\",\n        \"description\": \"\"\n      }\n    }\n  ]\n}"
            }
          },
          "metadata": {},
          "execution_count": 22
        }
      ]
    },
    {
      "cell_type": "code",
      "source": [
        "import yfinance as yf\n",
        "import pandas as pd\n",
        "import numpy as np\n",
        "\n",
        "# Define the stock ticker and the date range\n",
        "ticker = 'AMZN'\n",
        "start_date = '2021-01-01'\n",
        "end_date = '2021-12-31'\n",
        "\n",
        "# Fetch the historical data\n",
        "data = yf.download(ticker, start=start_date, end=end_date)\n",
        "\n",
        "# Check if data is not empty\n",
        "if data.empty:\n",
        "    print(f\"No data found for ticker {ticker} between {start_date} and {end_date}.\")\n",
        "else:\n",
        "    # Use the Adjusted Close prices\n",
        "    data['Adjusted Close'] = data['Adj Close']\n",
        "\n",
        "    # Calculate the daily continuous compounded returns\n",
        "    data['Log Return'] = np.log(data['Adjusted Close'] / data['Adjusted Close'].shift(1))\n",
        "\n",
        "    # Drop the first NaN value\n",
        "    log_returns = data['Log Return'].dropna()\n",
        "\n",
        "    # Calculate the cumulative log return\n",
        "    cumulative_log_return = log_returns.sum()\n",
        "\n",
        "    print(cumulative_log_return * 100)"
      ],
      "metadata": {
        "colab": {
          "base_uri": "https://localhost:8080/"
        },
        "id": "4btL2tzGFOQh",
        "outputId": "e9a86e49-3d18-4879-918a-bd9b6986aa3f"
      },
      "execution_count": 37,
      "outputs": [
        {
          "output_type": "stream",
          "name": "stderr",
          "text": [
            "\r[*********************100%%**********************]  1 of 1 completed"
          ]
        },
        {
          "output_type": "stream",
          "name": "stdout",
          "text": [
            "5.680603354093318\n"
          ]
        },
        {
          "output_type": "stream",
          "name": "stderr",
          "text": [
            "\n"
          ]
        }
      ]
    },
    {
      "cell_type": "code",
      "source": [
        "import yfinance as yf\n",
        "import pandas as pd\n",
        "import numpy as np\n",
        "\n",
        "# Define the stock ticker and the date range\n",
        "ticker = 'AAPL'\n",
        "start_date = '2021-01-01'\n",
        "end_date = '2021-07-30'\n",
        "\n",
        "# Fetch the historical data\n",
        "data = yf.download(ticker, start=start_date, end=end_date)\n",
        "\n",
        "# Check if data is not empty\n",
        "if data.empty:\n",
        "    print(f\"No data found for ticker {ticker} between {start_date} and {end_date}.\")\n",
        "else:\n",
        "    # Use the Adjusted Close prices\n",
        "    data['Adjusted Close'] = data['Adj Close']\n",
        "\n",
        "    # Calculate the daily continuous compounded returns\n",
        "    data['Log Return'] = np.log(data['Adjusted Close'] / data['Adjusted Close'].shift(1))\n",
        "\n",
        "    # Drop the first NaN value\n",
        "    log_returns = data['Log Return'].dropna()\n",
        "\n",
        "    # Calculate the cumulative log return\n",
        "    cumulative_log_return = log_returns.sum()\n",
        "\n",
        "    # Initial investment\n",
        "    initial_investment = 10000\n",
        "\n",
        "    # Calculate the value of the investment by the end date\n",
        "\n",
        "    final_value = initial_investment * (1 + cumulative_log_return)\n",
        "\n",
        "    print(f\"\\n Value of a $10,000 investment in Tesla (TSLA) from the first trading day of January 2021 to July 30, 2021: ${final_value:.2f}\")\n"
      ],
      "metadata": {
        "colab": {
          "base_uri": "https://localhost:8080/"
        },
        "id": "WUvEJ0gMFvB1",
        "outputId": "cf875a8d-f49a-44d8-c727-ea39dc4b7c6e"
      },
      "execution_count": 85,
      "outputs": [
        {
          "output_type": "stream",
          "name": "stderr",
          "text": [
            "\r[*********************100%%**********************]  1 of 1 completed"
          ]
        },
        {
          "output_type": "stream",
          "name": "stdout",
          "text": [
            "\n",
            " Value of a $10,000 investment in Tesla (TSLA) from the first trading day of January 2021 to July 30, 2021: $11213.43\n"
          ]
        },
        {
          "output_type": "stream",
          "name": "stderr",
          "text": [
            "\n"
          ]
        }
      ]
    },
    {
      "cell_type": "markdown",
      "source": [
        "## Dicsrete annual compunded return"
      ],
      "metadata": {
        "id": "B7lFlgNOVTsY"
      }
    },
    {
      "cell_type": "code",
      "source": [
        "import yfinance as yf\n",
        "import pandas as pd\n",
        "\n",
        "# Define the stock ticker and the date range\n",
        "ticker = 'AAPL'\n",
        "start_date = '2021-01-01'\n",
        "end_date = '2021-07-30'\n",
        "\n",
        "# Fetch the historical data\n",
        "data = yf.download(ticker, start=start_date, end=end_date)\n",
        "\n",
        "\n",
        "\n",
        "# Calculate the daily returns\n",
        "data['Daily Return'] = data['Adj Close'].pct_change()\n",
        "\n",
        "# Drop the first NaN value\n",
        "daily_returns = data['Daily Return'].dropna()\n",
        "\n",
        "# Calculate the cumulative return\n",
        "cumulative_return = (1 + daily_returns).prod() - 1\n",
        "\n",
        "# Initial investment\n",
        "initial_investment = 10000\n",
        "\n",
        "# Calculate the value of the investment by the end date\n",
        "final_value = initial_investment * (1 + cumulative_return)\n",
        "\n",
        "print(f\"Value of a $10,000 investment in Tesla (TSLA) from the first trading day of January 2021 to July 30, 2021: ${final_value:.2f}\")\n"
      ],
      "metadata": {
        "colab": {
          "base_uri": "https://localhost:8080/"
        },
        "id": "NMRgCZ2gXXHF",
        "outputId": "e1625eb4-2b1a-494c-934d-eb3085203d85"
      },
      "execution_count": 86,
      "outputs": [
        {
          "output_type": "stream",
          "name": "stderr",
          "text": [
            "\r[*********************100%%**********************]  1 of 1 completed"
          ]
        },
        {
          "output_type": "stream",
          "name": "stdout",
          "text": [
            "Value of a $10,000 investment in Tesla (TSLA) from the first trading day of January 2021 to July 30, 2021: $11290.12\n"
          ]
        },
        {
          "output_type": "stream",
          "name": "stderr",
          "text": [
            "\n"
          ]
        }
      ]
    },
    {
      "cell_type": "markdown",
      "source": [
        "## Annual return"
      ],
      "metadata": {
        "id": "kn0ArwkDHwWK"
      }
    },
    {
      "cell_type": "markdown",
      "source": [
        "## investment return"
      ],
      "metadata": {
        "id": "OTK_HAgDH_2-"
      }
    },
    {
      "cell_type": "markdown",
      "source": [
        "## Daily return"
      ],
      "metadata": {
        "id": "0avoObZjJlwx"
      }
    },
    {
      "cell_type": "code",
      "source": [
        "df_tickers['Daily Return'] = df_tickers['Close'].pct_change()"
      ],
      "metadata": {
        "id": "Ih_l8wPBIzuf"
      },
      "execution_count": 8,
      "outputs": []
    },
    {
      "cell_type": "code",
      "source": [
        "df_tickers['Daily Return'].min()*100"
      ],
      "metadata": {
        "colab": {
          "base_uri": "https://localhost:8080/"
        },
        "id": "5ikPdJNzJq4t",
        "outputId": "b3bec883-493d-4f63-bf25-b50c89daae2f"
      },
      "execution_count": 9,
      "outputs": [
        {
          "output_type": "execute_result",
          "data": {
            "text/plain": [
              "-8.549845855559933"
            ]
          },
          "metadata": {},
          "execution_count": 9
        }
      ]
    },
    {
      "cell_type": "code",
      "source": [
        "tickers = [\"JPM\"]\n",
        "df_jpm = yf.download(tickers, start=\"2007-01-01\", end=\"2010-12-31\")\n",
        "df_jpm.head()"
      ],
      "metadata": {
        "colab": {
          "base_uri": "https://localhost:8080/",
          "height": 255
        },
        "id": "LOnANZoWJsTd",
        "outputId": "86c80bbb-ea4a-4c0d-b494-3e7fff0ed512"
      },
      "execution_count": 45,
      "outputs": [
        {
          "output_type": "stream",
          "name": "stderr",
          "text": [
            "\r[*********************100%%**********************]  1 of 1 completed\n"
          ]
        },
        {
          "output_type": "execute_result",
          "data": {
            "text/plain": [
              "                 Open       High        Low      Close  Adj Close    Volume\n",
              "Date                                                                       \n",
              "2007-01-03  48.000000  48.369999  47.590000  48.070000  30.657495  14244700\n",
              "2007-01-04  48.049999  48.549999  47.750000  48.189999  30.734026   9471500\n",
              "2007-01-05  48.169998  48.250000  47.630001  47.790001  30.478937  10760500\n",
              "2007-01-08  47.570000  48.060001  47.320000  47.950001  30.580976   8239200\n",
              "2007-01-09  47.900002  48.110001  47.360001  47.750000  30.453405   9276700"
            ],
            "text/html": [
              "\n",
              "  <div id=\"df-dece8ab1-5b92-4988-85ed-969a2d305353\" class=\"colab-df-container\">\n",
              "    <div>\n",
              "<style scoped>\n",
              "    .dataframe tbody tr th:only-of-type {\n",
              "        vertical-align: middle;\n",
              "    }\n",
              "\n",
              "    .dataframe tbody tr th {\n",
              "        vertical-align: top;\n",
              "    }\n",
              "\n",
              "    .dataframe thead th {\n",
              "        text-align: right;\n",
              "    }\n",
              "</style>\n",
              "<table border=\"1\" class=\"dataframe\">\n",
              "  <thead>\n",
              "    <tr style=\"text-align: right;\">\n",
              "      <th></th>\n",
              "      <th>Open</th>\n",
              "      <th>High</th>\n",
              "      <th>Low</th>\n",
              "      <th>Close</th>\n",
              "      <th>Adj Close</th>\n",
              "      <th>Volume</th>\n",
              "    </tr>\n",
              "    <tr>\n",
              "      <th>Date</th>\n",
              "      <th></th>\n",
              "      <th></th>\n",
              "      <th></th>\n",
              "      <th></th>\n",
              "      <th></th>\n",
              "      <th></th>\n",
              "    </tr>\n",
              "  </thead>\n",
              "  <tbody>\n",
              "    <tr>\n",
              "      <th>2007-01-03</th>\n",
              "      <td>48.000000</td>\n",
              "      <td>48.369999</td>\n",
              "      <td>47.590000</td>\n",
              "      <td>48.070000</td>\n",
              "      <td>30.657495</td>\n",
              "      <td>14244700</td>\n",
              "    </tr>\n",
              "    <tr>\n",
              "      <th>2007-01-04</th>\n",
              "      <td>48.049999</td>\n",
              "      <td>48.549999</td>\n",
              "      <td>47.750000</td>\n",
              "      <td>48.189999</td>\n",
              "      <td>30.734026</td>\n",
              "      <td>9471500</td>\n",
              "    </tr>\n",
              "    <tr>\n",
              "      <th>2007-01-05</th>\n",
              "      <td>48.169998</td>\n",
              "      <td>48.250000</td>\n",
              "      <td>47.630001</td>\n",
              "      <td>47.790001</td>\n",
              "      <td>30.478937</td>\n",
              "      <td>10760500</td>\n",
              "    </tr>\n",
              "    <tr>\n",
              "      <th>2007-01-08</th>\n",
              "      <td>47.570000</td>\n",
              "      <td>48.060001</td>\n",
              "      <td>47.320000</td>\n",
              "      <td>47.950001</td>\n",
              "      <td>30.580976</td>\n",
              "      <td>8239200</td>\n",
              "    </tr>\n",
              "    <tr>\n",
              "      <th>2007-01-09</th>\n",
              "      <td>47.900002</td>\n",
              "      <td>48.110001</td>\n",
              "      <td>47.360001</td>\n",
              "      <td>47.750000</td>\n",
              "      <td>30.453405</td>\n",
              "      <td>9276700</td>\n",
              "    </tr>\n",
              "  </tbody>\n",
              "</table>\n",
              "</div>\n",
              "    <div class=\"colab-df-buttons\">\n",
              "\n",
              "  <div class=\"colab-df-container\">\n",
              "    <button class=\"colab-df-convert\" onclick=\"convertToInteractive('df-dece8ab1-5b92-4988-85ed-969a2d305353')\"\n",
              "            title=\"Convert this dataframe to an interactive table.\"\n",
              "            style=\"display:none;\">\n",
              "\n",
              "  <svg xmlns=\"http://www.w3.org/2000/svg\" height=\"24px\" viewBox=\"0 -960 960 960\">\n",
              "    <path d=\"M120-120v-720h720v720H120Zm60-500h600v-160H180v160Zm220 220h160v-160H400v160Zm0 220h160v-160H400v160ZM180-400h160v-160H180v160Zm440 0h160v-160H620v160ZM180-180h160v-160H180v160Zm440 0h160v-160H620v160Z\"/>\n",
              "  </svg>\n",
              "    </button>\n",
              "\n",
              "  <style>\n",
              "    .colab-df-container {\n",
              "      display:flex;\n",
              "      gap: 12px;\n",
              "    }\n",
              "\n",
              "    .colab-df-convert {\n",
              "      background-color: #E8F0FE;\n",
              "      border: none;\n",
              "      border-radius: 50%;\n",
              "      cursor: pointer;\n",
              "      display: none;\n",
              "      fill: #1967D2;\n",
              "      height: 32px;\n",
              "      padding: 0 0 0 0;\n",
              "      width: 32px;\n",
              "    }\n",
              "\n",
              "    .colab-df-convert:hover {\n",
              "      background-color: #E2EBFA;\n",
              "      box-shadow: 0px 1px 2px rgba(60, 64, 67, 0.3), 0px 1px 3px 1px rgba(60, 64, 67, 0.15);\n",
              "      fill: #174EA6;\n",
              "    }\n",
              "\n",
              "    .colab-df-buttons div {\n",
              "      margin-bottom: 4px;\n",
              "    }\n",
              "\n",
              "    [theme=dark] .colab-df-convert {\n",
              "      background-color: #3B4455;\n",
              "      fill: #D2E3FC;\n",
              "    }\n",
              "\n",
              "    [theme=dark] .colab-df-convert:hover {\n",
              "      background-color: #434B5C;\n",
              "      box-shadow: 0px 1px 3px 1px rgba(0, 0, 0, 0.15);\n",
              "      filter: drop-shadow(0px 1px 2px rgba(0, 0, 0, 0.3));\n",
              "      fill: #FFFFFF;\n",
              "    }\n",
              "  </style>\n",
              "\n",
              "    <script>\n",
              "      const buttonEl =\n",
              "        document.querySelector('#df-dece8ab1-5b92-4988-85ed-969a2d305353 button.colab-df-convert');\n",
              "      buttonEl.style.display =\n",
              "        google.colab.kernel.accessAllowed ? 'block' : 'none';\n",
              "\n",
              "      async function convertToInteractive(key) {\n",
              "        const element = document.querySelector('#df-dece8ab1-5b92-4988-85ed-969a2d305353');\n",
              "        const dataTable =\n",
              "          await google.colab.kernel.invokeFunction('convertToInteractive',\n",
              "                                                    [key], {});\n",
              "        if (!dataTable) return;\n",
              "\n",
              "        const docLinkHtml = 'Like what you see? Visit the ' +\n",
              "          '<a target=\"_blank\" href=https://colab.research.google.com/notebooks/data_table.ipynb>data table notebook</a>'\n",
              "          + ' to learn more about interactive tables.';\n",
              "        element.innerHTML = '';\n",
              "        dataTable['output_type'] = 'display_data';\n",
              "        await google.colab.output.renderOutput(dataTable, element);\n",
              "        const docLink = document.createElement('div');\n",
              "        docLink.innerHTML = docLinkHtml;\n",
              "        element.appendChild(docLink);\n",
              "      }\n",
              "    </script>\n",
              "  </div>\n",
              "\n",
              "\n",
              "<div id=\"df-4e0dbc3a-704c-4990-b569-010efe8e5732\">\n",
              "  <button class=\"colab-df-quickchart\" onclick=\"quickchart('df-4e0dbc3a-704c-4990-b569-010efe8e5732')\"\n",
              "            title=\"Suggest charts\"\n",
              "            style=\"display:none;\">\n",
              "\n",
              "<svg xmlns=\"http://www.w3.org/2000/svg\" height=\"24px\"viewBox=\"0 0 24 24\"\n",
              "     width=\"24px\">\n",
              "    <g>\n",
              "        <path d=\"M19 3H5c-1.1 0-2 .9-2 2v14c0 1.1.9 2 2 2h14c1.1 0 2-.9 2-2V5c0-1.1-.9-2-2-2zM9 17H7v-7h2v7zm4 0h-2V7h2v10zm4 0h-2v-4h2v4z\"/>\n",
              "    </g>\n",
              "</svg>\n",
              "  </button>\n",
              "\n",
              "<style>\n",
              "  .colab-df-quickchart {\n",
              "      --bg-color: #E8F0FE;\n",
              "      --fill-color: #1967D2;\n",
              "      --hover-bg-color: #E2EBFA;\n",
              "      --hover-fill-color: #174EA6;\n",
              "      --disabled-fill-color: #AAA;\n",
              "      --disabled-bg-color: #DDD;\n",
              "  }\n",
              "\n",
              "  [theme=dark] .colab-df-quickchart {\n",
              "      --bg-color: #3B4455;\n",
              "      --fill-color: #D2E3FC;\n",
              "      --hover-bg-color: #434B5C;\n",
              "      --hover-fill-color: #FFFFFF;\n",
              "      --disabled-bg-color: #3B4455;\n",
              "      --disabled-fill-color: #666;\n",
              "  }\n",
              "\n",
              "  .colab-df-quickchart {\n",
              "    background-color: var(--bg-color);\n",
              "    border: none;\n",
              "    border-radius: 50%;\n",
              "    cursor: pointer;\n",
              "    display: none;\n",
              "    fill: var(--fill-color);\n",
              "    height: 32px;\n",
              "    padding: 0;\n",
              "    width: 32px;\n",
              "  }\n",
              "\n",
              "  .colab-df-quickchart:hover {\n",
              "    background-color: var(--hover-bg-color);\n",
              "    box-shadow: 0 1px 2px rgba(60, 64, 67, 0.3), 0 1px 3px 1px rgba(60, 64, 67, 0.15);\n",
              "    fill: var(--button-hover-fill-color);\n",
              "  }\n",
              "\n",
              "  .colab-df-quickchart-complete:disabled,\n",
              "  .colab-df-quickchart-complete:disabled:hover {\n",
              "    background-color: var(--disabled-bg-color);\n",
              "    fill: var(--disabled-fill-color);\n",
              "    box-shadow: none;\n",
              "  }\n",
              "\n",
              "  .colab-df-spinner {\n",
              "    border: 2px solid var(--fill-color);\n",
              "    border-color: transparent;\n",
              "    border-bottom-color: var(--fill-color);\n",
              "    animation:\n",
              "      spin 1s steps(1) infinite;\n",
              "  }\n",
              "\n",
              "  @keyframes spin {\n",
              "    0% {\n",
              "      border-color: transparent;\n",
              "      border-bottom-color: var(--fill-color);\n",
              "      border-left-color: var(--fill-color);\n",
              "    }\n",
              "    20% {\n",
              "      border-color: transparent;\n",
              "      border-left-color: var(--fill-color);\n",
              "      border-top-color: var(--fill-color);\n",
              "    }\n",
              "    30% {\n",
              "      border-color: transparent;\n",
              "      border-left-color: var(--fill-color);\n",
              "      border-top-color: var(--fill-color);\n",
              "      border-right-color: var(--fill-color);\n",
              "    }\n",
              "    40% {\n",
              "      border-color: transparent;\n",
              "      border-right-color: var(--fill-color);\n",
              "      border-top-color: var(--fill-color);\n",
              "    }\n",
              "    60% {\n",
              "      border-color: transparent;\n",
              "      border-right-color: var(--fill-color);\n",
              "    }\n",
              "    80% {\n",
              "      border-color: transparent;\n",
              "      border-right-color: var(--fill-color);\n",
              "      border-bottom-color: var(--fill-color);\n",
              "    }\n",
              "    90% {\n",
              "      border-color: transparent;\n",
              "      border-bottom-color: var(--fill-color);\n",
              "    }\n",
              "  }\n",
              "</style>\n",
              "\n",
              "  <script>\n",
              "    async function quickchart(key) {\n",
              "      const quickchartButtonEl =\n",
              "        document.querySelector('#' + key + ' button');\n",
              "      quickchartButtonEl.disabled = true;  // To prevent multiple clicks.\n",
              "      quickchartButtonEl.classList.add('colab-df-spinner');\n",
              "      try {\n",
              "        const charts = await google.colab.kernel.invokeFunction(\n",
              "            'suggestCharts', [key], {});\n",
              "      } catch (error) {\n",
              "        console.error('Error during call to suggestCharts:', error);\n",
              "      }\n",
              "      quickchartButtonEl.classList.remove('colab-df-spinner');\n",
              "      quickchartButtonEl.classList.add('colab-df-quickchart-complete');\n",
              "    }\n",
              "    (() => {\n",
              "      let quickchartButtonEl =\n",
              "        document.querySelector('#df-4e0dbc3a-704c-4990-b569-010efe8e5732 button');\n",
              "      quickchartButtonEl.style.display =\n",
              "        google.colab.kernel.accessAllowed ? 'block' : 'none';\n",
              "    })();\n",
              "  </script>\n",
              "</div>\n",
              "\n",
              "    </div>\n",
              "  </div>\n"
            ],
            "application/vnd.google.colaboratory.intrinsic+json": {
              "type": "dataframe",
              "variable_name": "df_jpm",
              "summary": "{\n  \"name\": \"df_jpm\",\n  \"rows\": 1007,\n  \"fields\": [\n    {\n      \"column\": \"Date\",\n      \"properties\": {\n        \"dtype\": \"date\",\n        \"min\": \"2007-01-03 00:00:00\",\n        \"max\": \"2010-12-30 00:00:00\",\n        \"num_unique_values\": 1007,\n        \"samples\": [\n          \"2010-09-08 00:00:00\",\n          \"2009-07-06 00:00:00\",\n          \"2009-09-17 00:00:00\"\n        ],\n        \"semantic_type\": \"\",\n        \"description\": \"\"\n      }\n    },\n    {\n      \"column\": \"Open\",\n      \"properties\": {\n        \"dtype\": \"number\",\n        \"std\": 6.753357044573947,\n        \"min\": 15.369999885559082,\n        \"max\": 52.83000183105469,\n        \"num_unique_values\": 799,\n        \"samples\": [\n          43.47999954223633,\n          40.11000061035156,\n          49.099998474121094\n        ],\n        \"semantic_type\": \"\",\n        \"description\": \"\"\n      }\n    },\n    {\n      \"column\": \"High\",\n      \"properties\": {\n        \"dtype\": \"number\",\n        \"std\": 6.557523519872138,\n        \"min\": 17.290000915527344,\n        \"max\": 53.25,\n        \"num_unique_values\": 788,\n        \"samples\": [\n          43.599998474121094,\n          48.68000030517578,\n          46.2599983215332\n        ],\n        \"semantic_type\": \"\",\n        \"description\": \"\"\n      }\n    },\n    {\n      \"column\": \"Low\",\n      \"properties\": {\n        \"dtype\": \"number\",\n        \"std\": 6.920733443878852,\n        \"min\": 14.960000038146973,\n        \"max\": 52.59000015258789,\n        \"num_unique_values\": 805,\n        \"samples\": [\n          42.060001373291016,\n          37.2599983215332,\n          45.7400016784668\n        ],\n        \"semantic_type\": \"\",\n        \"description\": \"\"\n      }\n    },\n    {\n      \"column\": \"Close\",\n      \"properties\": {\n        \"dtype\": \"number\",\n        \"std\": 6.746547249903035,\n        \"min\": 15.899999618530273,\n        \"max\": 53.20000076293945,\n        \"num_unique_values\": 801,\n        \"samples\": [\n          40.810001373291016,\n          40.849998474121094,\n          52.540000915527344\n        ],\n        \"semantic_type\": \"\",\n        \"description\": \"\"\n      }\n    },\n    {\n      \"column\": \"Adj Close\",\n      \"properties\": {\n        \"dtype\": \"number\",\n        \"std\": 4.133880441089129,\n        \"min\": 10.88377571105957,\n        \"max\": 34.17007064819336,\n        \"num_unique_values\": 955,\n        \"samples\": [\n          28.118696212768555,\n          25.13674545288086,\n          28.987974166870117\n        ],\n        \"semantic_type\": \"\",\n        \"description\": \"\"\n      }\n    },\n    {\n      \"column\": \"Volume\",\n      \"properties\": {\n        \"dtype\": \"number\",\n        \"std\": 29391283,\n        \"min\": 7375400,\n        \"max\": 194075000,\n        \"num_unique_values\": 1007,\n        \"samples\": [\n          30781000,\n          60664000,\n          35705700\n        ],\n        \"semantic_type\": \"\",\n        \"description\": \"\"\n      }\n    }\n  ]\n}"
            }
          },
          "metadata": {},
          "execution_count": 45
        }
      ]
    },
    {
      "cell_type": "markdown",
      "source": [
        "## Annual Volatitlity"
      ],
      "metadata": {
        "id": "5ywQWaEFOuva"
      }
    },
    {
      "cell_type": "code",
      "source": [
        "df_ret = df_jpm['Adj Close'].pct_change()\n",
        "daily_vol = df_ret.std()\n",
        "annual_vol = daily_vol * np.sqrt(252)"
      ],
      "metadata": {
        "id": "ZRDT-bPELzlk"
      },
      "execution_count": 46,
      "outputs": []
    },
    {
      "cell_type": "code",
      "source": [
        "annual_vol * 100"
      ],
      "metadata": {
        "colab": {
          "base_uri": "https://localhost:8080/"
        },
        "id": "SRCFCJS5MqDW",
        "outputId": "6454bbc4-767f-4308-ac07-6ddc3125e7e9"
      },
      "execution_count": 47,
      "outputs": [
        {
          "output_type": "execute_result",
          "data": {
            "text/plain": [
              "62.028430864414176"
            ]
          },
          "metadata": {},
          "execution_count": 47
        }
      ]
    },
    {
      "cell_type": "code",
      "source": [
        "A_ret = 0.325\n",
        "n_year = 30\n",
        "Initial_invest = 1000\n",
        "\n",
        "Total_ret = (1 + A_ret) ** n_year\n",
        "Final_invest = Initial_invest * Total_ret\n",
        "print(\"Your investment will be worth \" + str(Final_invest / 10 ** 6 ) + \" millions!\")"
      ],
      "metadata": {
        "colab": {
          "base_uri": "https://localhost:8080/"
        },
        "id": "8AyTDdwKSc5f",
        "outputId": "fcbc35be-19b9-426e-cf32-1a4b1d94f15f"
      },
      "execution_count": 90,
      "outputs": [
        {
          "output_type": "stream",
          "name": "stdout",
          "text": [
            "Your investment will be worth 4.63955522129227 millions!\n"
          ]
        }
      ]
    },
    {
      "cell_type": "code",
      "source": [
        "corr = np.array([[0.056, 0.025], [0.025, 0.045]])\n",
        "\n",
        "R = np.linalg.cholesky(corr)\n",
        "\n",
        "print(R)\n",
        "\n"
      ],
      "metadata": {
        "colab": {
          "base_uri": "https://localhost:8080/"
        },
        "id": "f-qTom1fb6k5",
        "outputId": "376251cf-d1bf-4b1a-a735-6c2ec1d6bbc6"
      },
      "execution_count": 16,
      "outputs": [
        {
          "output_type": "stream",
          "name": "stdout",
          "text": [
            "[[0.23664319 0.        ]\n",
            " [0.10564428 0.18395458]]\n"
          ]
        }
      ]
    },
    {
      "cell_type": "markdown",
      "source": [
        "## Correleted random variable"
      ],
      "metadata": {
        "id": "s5xW1h-LGA4D"
      }
    },
    {
      "cell_type": "code",
      "source": [
        "import numpy as np\n",
        "\n",
        "# Set the random seed for reproducibility\n",
        "np.random.seed(10)\n",
        "\n",
        "# Define the correlation matrix\n",
        "correlation_matrix = np.array([\n",
        "    [1, 0.679, 0.338],\n",
        "    [0.679, 1, 0.435],\n",
        "    [0.338, 0.435, 1]\n",
        "])\n",
        "\n",
        "# Perform Cholesky decomposition\n",
        "L = np.linalg.cholesky(correlation_matrix)\n",
        "\n",
        "# Generate standard normal random variables\n",
        "Z = np.random.standard_normal(3)\n",
        "\n",
        "# Transform to correlated random variables\n",
        "correlated_random_variables = np.dot(L, Z)\n",
        "\n",
        "# Print the correlated random variables\n",
        "print(\"Correlated Random Variables:\", correlated_random_variables)"
      ],
      "metadata": {
        "id": "ZgC9YChjf-3y",
        "colab": {
          "base_uri": "https://localhost:8080/"
        },
        "outputId": "e8b1e8b4-89d5-4371-c75d-f533aa1eea58"
      },
      "execution_count": 39,
      "outputs": [
        {
          "output_type": "stream",
          "name": "stdout",
          "text": [
            "Correlated Random Variables: [ 1.3315865   1.42926091 -0.73833301]\n"
          ]
        }
      ]
    },
    {
      "cell_type": "code",
      "source": [
        "T = 1 /12\n",
        "N = 30\n",
        "dt = T / N"
      ],
      "metadata": {
        "id": "5GI-F0XnNIm2"
      },
      "execution_count": 69,
      "outputs": []
    },
    {
      "cell_type": "code",
      "source": [
        "( (-0.25 * 0.44) + (-1.26 * np.sqrt(1 - (-0.25 ** 2))) ) * 0.15"
      ],
      "metadata": {
        "id": "BjUomsNuGGL5",
        "colab": {
          "base_uri": "https://localhost:8080/"
        },
        "outputId": "ebd06ccd-86f3-4b57-912e-da0fdfb25e0b"
      },
      "execution_count": 88,
      "outputs": [
        {
          "output_type": "execute_result",
          "data": {
            "text/plain": [
              "-0.21131674081043447"
            ]
          },
          "metadata": {},
          "execution_count": 88
        }
      ]
    },
    {
      "cell_type": "code",
      "source": [
        "(14/16) * 100"
      ],
      "metadata": {
        "colab": {
          "base_uri": "https://localhost:8080/"
        },
        "id": "Xl5kWNjkIz_z",
        "outputId": "8564e978-fc7e-45cb-e353-a06bd5152a44"
      },
      "execution_count": 89,
      "outputs": [
        {
          "output_type": "execute_result",
          "data": {
            "text/plain": [
              "87.5"
            ]
          },
          "metadata": {},
          "execution_count": 89
        }
      ]
    },
    {
      "cell_type": "code",
      "source": [
        "0.25 * np.sqrt(1/12)"
      ],
      "metadata": {
        "colab": {
          "base_uri": "https://localhost:8080/"
        },
        "id": "XiaoPSawPt8T",
        "outputId": "c256c3b0-b70e-4e6d-92a2-d73950ad7fa2"
      },
      "execution_count": 92,
      "outputs": [
        {
          "output_type": "execute_result",
          "data": {
            "text/plain": [
              "0.07216878364870322"
            ]
          },
          "metadata": {},
          "execution_count": 92
        }
      ]
    },
    {
      "cell_type": "code",
      "source": [
        "(44 + 44 + 47 + 31 + 38 + 41 + 41)"
      ],
      "metadata": {
        "colab": {
          "base_uri": "https://localhost:8080/"
        },
        "id": "qM7ldC8LQcKb",
        "outputId": "d9d907f6-762c-4fa3-b63e-067e3d5ad79f"
      },
      "execution_count": 94,
      "outputs": [
        {
          "output_type": "execute_result",
          "data": {
            "text/plain": [
              "286"
            ]
          },
          "metadata": {},
          "execution_count": 94
        }
      ]
    },
    {
      "cell_type": "code",
      "source": [
        "108 + 286 + 88 + 88 + 110 + 110 + 110"
      ],
      "metadata": {
        "colab": {
          "base_uri": "https://localhost:8080/"
        },
        "id": "SYF6npLpROMq",
        "outputId": "e91829d1-c0d8-43da-cb41-1716b67d17f1"
      },
      "execution_count": 95,
      "outputs": [
        {
          "output_type": "execute_result",
          "data": {
            "text/plain": [
              "900"
            ]
          },
          "metadata": {},
          "execution_count": 95
        }
      ]
    },
    {
      "cell_type": "code",
      "source": [],
      "metadata": {
        "id": "lyz1Uh1oRfEJ"
      },
      "execution_count": null,
      "outputs": []
    }
  ]
}