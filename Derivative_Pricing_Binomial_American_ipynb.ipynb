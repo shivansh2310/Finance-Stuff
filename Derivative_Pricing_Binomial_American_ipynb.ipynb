{
  "nbformat": 4,
  "nbformat_minor": 0,
  "metadata": {
    "colab": {
      "provenance": [],
      "authorship_tag": "ABX9TyM1tMpMm72z6WQ5DvSJB98P",
      "include_colab_link": true
    },
    "kernelspec": {
      "name": "python3",
      "display_name": "Python 3"
    },
    "language_info": {
      "name": "python"
    }
  },
  "cells": [
    {
      "cell_type": "markdown",
      "metadata": {
        "id": "view-in-github",
        "colab_type": "text"
      },
      "source": [
        "<a href=\"https://colab.research.google.com/github/shivansh2310/Finance-Stuff/blob/main/Derivative_Pricing_Binomial_American_ipynb.ipynb\" target=\"_parent\"><img src=\"https://colab.research.google.com/assets/colab-badge.svg\" alt=\"Open In Colab\"/></a>"
      ]
    },
    {
      "cell_type": "code",
      "execution_count": 59,
      "metadata": {
        "id": "P-Cmc8MN4siM"
      },
      "outputs": [],
      "source": [
        "import numpy as np"
      ]
    },
    {
      "cell_type": "markdown",
      "source": [
        "## American options : Binomial Pricing\n",
        "\n",
        "* American Options Payoff\n",
        "* Dynamic Delta Heding"
      ],
      "metadata": {
        "id": "tICfJVzT5Wsm"
      }
    },
    {
      "cell_type": "code",
      "source": [
        "def american_options(S_o, K, T, r, u, d, N, optype):\n",
        "  dt = T / N\n",
        "  p = (np.exp(r * dt) - d) / (u - d)\n",
        "  C = np.zeros([N+1, N+1])\n",
        "  S = np.zeros([N+1, N+1])\n",
        "\n",
        "  for i in range(0, N+1):\n",
        "    S[N, i] = S_o * (u ** (i)) * (d ** (N - i))\n",
        "\n",
        "    if optype == \"C\":\n",
        "      C[N, i] = max(S[N, i] - K, 0)\n",
        "    elif optype == \"P\":\n",
        "      C[N, i] = max(K - S[N, i], 0)\n",
        "    else:\n",
        "      print(\"Invalid Optype\")\n",
        "\n",
        "  for j in range(N-1, -1, -1):\n",
        "    for i in range(0, j+1):\n",
        "      C[j, i] = np.exp(-r * dt) * (\n",
        "          p * C[j+1, i+1] + (1-p) * C[j+1, i]\n",
        "        )\n",
        "\n",
        "      S[j, i] = (\n",
        "          S_o * (u ** (i)) * (d ** (j - i))\n",
        "        )\n",
        "\n",
        "      if optype == \"C\":\n",
        "        C[j, i] = max(\n",
        "            C[j, i], S[j, i] - K\n",
        "          )\n",
        "      elif optype == \"P\":\n",
        "        C[j, i] = max(\n",
        "            C[j, i], K -  S[j, i]\n",
        "          )\n",
        "      else:\n",
        "        print(\"invalid\")\n",
        "\n",
        "\n",
        "  return C[0, 0], C, S\n"
      ],
      "metadata": {
        "id": "eWUrRYTO5UfH"
      },
      "execution_count": 69,
      "outputs": []
    },
    {
      "cell_type": "code",
      "source": [
        "# Put option Pricing\n",
        "option_price, C, S = american_options(145, 100, 100, 0.1, 1.2, 0.8, 100, \"P\")"
      ],
      "metadata": {
        "id": "CAMt9gJF9ZRJ"
      },
      "execution_count": 70,
      "outputs": []
    },
    {
      "cell_type": "code",
      "source": [
        "print(option_price)"
      ],
      "metadata": {
        "colab": {
          "base_uri": "https://localhost:8080/"
        },
        "id": "Cq6dQYM49rq9",
        "outputId": "0710518d-8805-4210-cf7e-00e2f08daee0"
      },
      "execution_count": 71,
      "outputs": [
        {
          "output_type": "stream",
          "name": "stdout",
          "text": [
            "0.662571812972355\n"
          ]
        }
      ]
    },
    {
      "cell_type": "code",
      "source": [
        "S"
      ],
      "metadata": {
        "colab": {
          "base_uri": "https://localhost:8080/"
        },
        "id": "i2Ytv-fqB-7f",
        "outputId": "ed530027-3d13-4af8-dc97-05d0da7055db"
      },
      "execution_count": 63,
      "outputs": [
        {
          "output_type": "execute_result",
          "data": {
            "text/plain": [
              "array([[1.45000000e+02, 0.00000000e+00, 0.00000000e+00, ...,\n",
              "        0.00000000e+00, 0.00000000e+00, 0.00000000e+00],\n",
              "       [1.16000000e+02, 1.74000000e+02, 0.00000000e+00, ...,\n",
              "        0.00000000e+00, 0.00000000e+00, 0.00000000e+00],\n",
              "       [9.28000000e+01, 1.39200000e+02, 2.08800000e+02, ...,\n",
              "        0.00000000e+00, 0.00000000e+00, 0.00000000e+00],\n",
              "       ...,\n",
              "       [4.61515963e-08, 6.92273945e-08, 1.03841092e-07, ...,\n",
              "        8.33930993e+09, 0.00000000e+00, 0.00000000e+00],\n",
              "       [3.69212771e-08, 5.53819156e-08, 8.30728734e-08, ...,\n",
              "        6.67144795e+09, 1.00071719e+10, 0.00000000e+00],\n",
              "       [2.95370217e-08, 4.43055325e-08, 6.64582987e-08, ...,\n",
              "        5.33715836e+09, 8.00573754e+09, 1.20086063e+10]])"
            ]
          },
          "metadata": {},
          "execution_count": 63
        }
      ]
    },
    {
      "cell_type": "code",
      "source": [
        "# Call option Pricing\n",
        "option_price, C, S = american_options(145, 100, 100, 0.1, 1.2, 0.8, 100, \"C\")"
      ],
      "metadata": {
        "id": "DdNCTdM5Cor3"
      },
      "execution_count": 72,
      "outputs": []
    },
    {
      "cell_type": "code",
      "source": [
        "print(option_price)"
      ],
      "metadata": {
        "colab": {
          "base_uri": "https://localhost:8080/"
        },
        "id": "TcnipS7yGHWo",
        "outputId": "0372359f-4897-416f-f945-aa67054cedb8"
      },
      "execution_count": 73,
      "outputs": [
        {
          "output_type": "stream",
          "name": "stdout",
          "text": [
            "144.99546000779415\n"
          ]
        }
      ]
    },
    {
      "cell_type": "code",
      "source": [
        "# Matching Volatility in American Options\n",
        "\n",
        "def american_options_vol(S_o, K, T, r, sigma, N, optype):\n",
        "  dt = T / N\n",
        "  u = np.exp(sigma * np.sqrt(dt))\n",
        "  d = np.exp(-sigma * np.sqrt(dt))\n",
        "  p = (np.exp(r * dt) - d) / (u - d)\n",
        "  C = np.zeros([N+1, N+1])\n",
        "  S = np.zeros([N+1, N+1])\n",
        "\n",
        "  for i in range(0, N+1):\n",
        "    S[N, i] = S_o * (u ** (i)) * (d ** (N - i))\n",
        "\n",
        "    if optype == \"C\":\n",
        "      C[N, i] = max(S[N, i] - K, 0)\n",
        "    elif optype == \"P\":\n",
        "      C[N, i] = max(K - S[N, i], 0)\n",
        "    else:\n",
        "      print(\"Invalid Optype\")\n",
        "\n",
        "  for j in range(N-1, -1, -1):\n",
        "    for i in range(0, j+1):\n",
        "      C[j, i] = np.exp(-r * dt) * (\n",
        "          p * C[j+1, i+1] + (1-p) * C[j+1, i]\n",
        "        )\n",
        "\n",
        "      S[j, i] = (\n",
        "          S_o * (u ** (i)) * (d ** (j - i))\n",
        "        )\n",
        "\n",
        "      if optype == \"C\":\n",
        "        C[j, i] = max(\n",
        "            C[j, i], S[j, i] - K\n",
        "          )\n",
        "      elif optype == \"P\":\n",
        "        C[j, i] = max(\n",
        "            C[j, i], K -  S[j, i]\n",
        "          )\n",
        "      else:\n",
        "        print(\"invalid\")\n",
        "\n",
        "\n",
        "  return C[0, 0], C, S"
      ],
      "metadata": {
        "id": "_WKorTGkGJ4W"
      },
      "execution_count": 78,
      "outputs": []
    },
    {
      "cell_type": "code",
      "source": [
        "price, C, S = american_options_vol(100, 90, 10, 0, 0.3, 10, \"C\")\n",
        "print(price)"
      ],
      "metadata": {
        "colab": {
          "base_uri": "https://localhost:8080/"
        },
        "id": "iq4g1nPmGix2",
        "outputId": "ffdbfbc7-2190-4400-beca-d72fe63d8b74"
      },
      "execution_count": 79,
      "outputs": [
        {
          "output_type": "stream",
          "name": "stdout",
          "text": [
            "39.899240766330934\n"
          ]
        }
      ]
    },
    {
      "cell_type": "code",
      "source": [
        "price_array = []\n",
        "for N in [1, 10, 100, 200, 300, 400, 500, 600, 700, 800, 900, 1000, 1500, 2000, 2500]:\n",
        "  call_price, C, S = american_options_vol(100, 90, 1, 0, 0.3, N, \"C\")\n",
        "  price_array.append(call_price)\n",
        "  print(\"With N = {:3d}, the price is {:.2f}\".format(N, call_price))"
      ],
      "metadata": {
        "colab": {
          "base_uri": "https://localhost:8080/"
        },
        "id": "rCVH0hV6GmYW",
        "outputId": "e8445137-1324-4863-b838-0c91fdd99006"
      },
      "execution_count": 84,
      "outputs": [
        {
          "output_type": "stream",
          "name": "stdout",
          "text": [
            "With N =   1, the price is 19.14\n",
            "With N =  10, the price is 17.26\n",
            "With N = 100, the price is 17.02\n",
            "With N = 200, the price is 17.03\n",
            "With N = 300, the price is 17.01\n",
            "With N = 400, the price is 17.02\n",
            "With N = 500, the price is 17.01\n",
            "With N = 600, the price is 17.02\n",
            "With N = 700, the price is 17.02\n",
            "With N = 800, the price is 17.01\n",
            "With N = 900, the price is 17.01\n",
            "With N = 1000, the price is 17.02\n",
            "With N = 1500, the price is 17.01\n",
            "With N = 2000, the price is 17.01\n",
            "With N = 2500, the price is 17.01\n"
          ]
        }
      ]
    },
    {
      "cell_type": "code",
      "source": [
        "import matplotlib.pyplot as plt\n",
        "\n",
        "N = [1, 10, 100, 200, 300, 400, 500, 600, 700, 800, 900, 1000, 1500, 2000, 2500]\n",
        "\n",
        "plt.plot(N, np.array(price_array))\n"
      ],
      "metadata": {
        "colab": {
          "base_uri": "https://localhost:8080/",
          "height": 447
        },
        "id": "aa8n3ld0HDG3",
        "outputId": "923648be-51db-4b16-c65d-3055ce790b5b"
      },
      "execution_count": 86,
      "outputs": [
        {
          "output_type": "execute_result",
          "data": {
            "text/plain": [
              "[<matplotlib.lines.Line2D at 0x799e53da45e0>]"
            ]
          },
          "metadata": {},
          "execution_count": 86
        },
        {
          "output_type": "display_data",
          "data": {
            "text/plain": [
              "<Figure size 640x480 with 1 Axes>"
            ],
            "image/png": "[encoded data removed]"
          },
          "metadata": {}
        }
      ]
    },
    {
      "cell_type": "code",
      "source": [
        "# Dynamic Delta hedging\n",
        "\n",
        "def american_options(S_o, K, T, r, u, d, N, optype):\n",
        "  dt = T / N\n",
        "  p = (np.exp(r * dt) - d) / (u - d)\n",
        "  C = np.zeros([N+1, N+1])\n",
        "  S = np.zeros([N+1, N+1])\n",
        "  delta = np.zeros([N, N])\n",
        "\n",
        "  for i in range(0, N+1):\n",
        "    S[N, i] = S_o * (u ** (i)) * (d ** (N - i))\n",
        "\n",
        "    if optype == \"C\":\n",
        "      C[N, i] = max(S[N, i] - K, 0)\n",
        "    elif optype == \"P\":\n",
        "      C[N, i] = max(K - S[N, i], 0)\n",
        "    else:\n",
        "      print(\"Invalid Optype\")\n",
        "\n",
        "  for j in range(N-1, -1, -1):\n",
        "    for i in range(0, j+1):\n",
        "      C[j, i] = np.exp(-r * dt) * (\n",
        "          p * C[j+1, i+1] + (1-p) * C[j+1, i]\n",
        "        )\n",
        "\n",
        "      S[j, i] = (\n",
        "          S_o * (u ** (i)) * (d ** (j - i))\n",
        "        )\n",
        "\n",
        "      if optype == \"C\":\n",
        "        C[j, i] = max(\n",
        "            C[j, i], S[j, i] - K\n",
        "          )\n",
        "      elif optype == \"P\":\n",
        "        C[j, i] = max(\n",
        "            C[j, i], K -  S[j, i]\n",
        "          )\n",
        "      else:\n",
        "        print(\"invalid\")\n",
        "\n",
        "      delta[j, i] = (C[j+1, i+1] - C[j+1, i]) / (S[j+1, i+1] - S[j+1, i])\n",
        "\n",
        "\n",
        "  return C[0, 0], C, S, delta"
      ],
      "metadata": {
        "id": "39233983IDd2"
      },
      "execution_count": 92,
      "outputs": []
    },
    {
      "cell_type": "code",
      "source": [
        "price, C, S, delta = american_options(45, 100, 5, 0, 1.5, 1 / 1.5, 5, \"C\")"
      ],
      "metadata": {
        "id": "gsbXQdGAJPsu"
      },
      "execution_count": 93,
      "outputs": []
    },
    {
      "cell_type": "code",
      "source": [
        "price"
      ],
      "metadata": {
        "colab": {
          "base_uri": "https://localhost:8080/"
        },
        "id": "jJycCv13JR3f",
        "outputId": "dd9804c9-1609-4175-a27c-360a010883d9"
      },
      "execution_count": 94,
      "outputs": [
        {
          "output_type": "execute_result",
          "data": {
            "text/plain": [
              "6.459200000000002"
            ]
          },
          "metadata": {},
          "execution_count": 94
        }
      ]
    },
    {
      "cell_type": "code",
      "source": [
        "delta"
      ],
      "metadata": {
        "colab": {
          "base_uri": "https://localhost:8080/"
        },
        "id": "i0cXm5CbJf-O",
        "outputId": "e65ef2ea-c6ce-4346-cea4-b7efaef370ae"
      },
      "execution_count": 95,
      "outputs": [
        {
          "output_type": "execute_result",
          "data": {
            "text/plain": [
              "array([[0.34208   , 0.        , 0.        , 0.        , 0.        ],\n",
              "       [0.1328    , 0.4816    , 0.        , 0.        , 0.        ],\n",
              "       [0.        , 0.22133333, 0.65511111, 0.        , 0.        ],\n",
              "       [0.        , 0.        , 0.36888889, 0.84592593, 0.        ],\n",
              "       [0.        , 0.        , 0.        , 0.61481481, 1.        ]])"
            ]
          },
          "metadata": {},
          "execution_count": 95
        }
      ]
    },
    {
      "cell_type": "code",
      "source": [
        "# Dynamic Delta hedging European\n",
        "\n",
        "def euro_options(S_o, K, T, r, u, d, N, optype):\n",
        "  dt = T / N\n",
        "  p = (np.exp(r * dt) - d) / (u - d)\n",
        "  C = np.zeros([N+1, N+1])\n",
        "  S = np.zeros([N+1, N+1])\n",
        "  delta = np.zeros([N, N])\n",
        "\n",
        "  for i in range(0, N+1):\n",
        "    S[N, i] = S_o * (u ** (i)) * (d ** (N - i))\n",
        "\n",
        "    if optype == \"C\":\n",
        "      C[N, i] = max(S[N, i] - K, 0)\n",
        "    elif optype == \"P\":\n",
        "      C[N, i] = max(K - S[N, i], 0)\n",
        "    else:\n",
        "      print(\"Invalid Optype\")\n",
        "\n",
        "  for j in range(N-1, -1, -1):\n",
        "    for i in range(0, j+1):\n",
        "      C[j, i] = np.exp(-r * dt) * (\n",
        "          p * C[j+1, i+1] + (1-p) * C[j+1, i]\n",
        "        )\n",
        "\n",
        "      S[j, i] = (\n",
        "          S_o * (u ** (i)) * (d ** (j - i))\n",
        "        )\n",
        "\n",
        "      delta[j, i] = (C[j+1, i+1] - C[j+1, i]) / (S[j+1, i+1] - S[j+1, i])\n",
        "\n",
        "\n",
        "  return C[0, 0], C, S, delta"
      ],
      "metadata": {
        "id": "FiGHnocSJhbf"
      },
      "execution_count": 96,
      "outputs": []
    },
    {
      "cell_type": "code",
      "source": [
        "price_euro, C_euro, S_euro, delta_euro = euro_options(\n",
        "    50, 52, 5, 0.05, 1.2, 0.8, 5, \"C\"\n",
        ")\n",
        "delta_euro"
      ],
      "metadata": {
        "colab": {
          "base_uri": "https://localhost:8080/"
        },
        "id": "E9IHnIuHJ4GW",
        "outputId": "ce93a46d-118e-42d9-b309-067f7794b875"
      },
      "execution_count": 98,
      "outputs": [
        {
          "output_type": "execute_result",
          "data": {
            "text/plain": [
              "array([[0.72579669, 0.        , 0.        , 0.        , 0.        ],\n",
              "       [0.44672292, 0.83592034, 0.        , 0.        , 0.        ],\n",
              "       [0.09194177, 0.58672101, 0.93425542, 0.        , 0.        ],\n",
              "       [0.        , 0.12822237, 0.76764645, 1.        , 0.        ],\n",
              "       [0.        , 0.        , 0.17881944, 1.        , 1.        ]])"
            ]
          },
          "metadata": {},
          "execution_count": 98
        }
      ]
    },
    {
      "cell_type": "code",
      "source": [
        "price_euro"
      ],
      "metadata": {
        "colab": {
          "base_uri": "https://localhost:8080/"
        },
        "id": "UImZeeH7J7yn",
        "outputId": "8218d0b8-660a-406b-bc9a-1b1e46c78903"
      },
      "execution_count": 99,
      "outputs": [
        {
          "output_type": "execute_result",
          "data": {
            "text/plain": [
              "13.37283461304853"
            ]
          },
          "metadata": {},
          "execution_count": 99
        }
      ]
    },
    {
      "cell_type": "code",
      "source": [],
      "metadata": {
        "id": "pONrkT7hKBKm"
      },
      "execution_count": null,
      "outputs": []
    }
  ]
}