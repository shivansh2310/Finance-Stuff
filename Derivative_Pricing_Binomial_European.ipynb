{
  "nbformat": 4,
  "nbformat_minor": 0,
  "metadata": {
    "colab": {
      "provenance": [],
      "authorship_tag": "ABX9TyOXnQ3ILTqt6aJIp411SX57",
      "include_colab_link": true
    },
    "kernelspec": {
      "name": "python3",
      "display_name": "Python 3"
    },
    "language_info": {
      "name": "python"
    }
  },
  "cells": [
    {
      "cell_type": "markdown",
      "metadata": {
        "id": "view-in-github",
        "colab_type": "text"
      },
      "source": [
        "<a href=\"https://colab.research.google.com/github/shivansh2310/Finance-Stuff/blob/main/Derivative_Pricing_Binomial_European.ipynb\" target=\"_parent\"><img src=\"https://colab.research.google.com/assets/colab-badge.svg\" alt=\"Open In Colab\"/></a>"
      ]
    },
    {
      "cell_type": "code",
      "execution_count": 3,
      "metadata": {
        "id": "tqnS5n8snq5U"
      },
      "outputs": [],
      "source": [
        "import numpy as np"
      ]
    },
    {
      "cell_type": "markdown",
      "source": [
        "## Binomial Tree :\n",
        "\n",
        "* Binomial tree Basics Implementation\n",
        "* European Call option\n",
        "* European Put Option\n",
        "* Put-call Parity\n",
        "* Delta Hedging\n",
        "* Volatility Adusting"
      ],
      "metadata": {
        "id": "pPEFFh0mr_mF"
      }
    },
    {
      "cell_type": "code",
      "source": [
        "def binomial_tree(S_o, T, u, d, N):\n",
        "  S = np.zeros([N+1, N+1])\n",
        "\n",
        "  for i in range (0, N+1):\n",
        "    S[N, i] = S_o * (u ** (i)) * (d ** (N-i))\n",
        "\n",
        "  for j in range(N - 1, -1, -1):\n",
        "    for i in range(0, j + 1):\n",
        "      S[j, i] = S_o * (u ** (i)) * (d ** (j-i))\n",
        "\n",
        "  return S"
      ],
      "metadata": {
        "id": "IqrakLkdpDlY"
      },
      "execution_count": 4,
      "outputs": []
    },
    {
      "cell_type": "code",
      "source": [
        "stock = binomial_tree(100, 1, 1.2, 0.8, 2)\n",
        "stock"
      ],
      "metadata": {
        "colab": {
          "base_uri": "https://localhost:8080/"
        },
        "id": "7P8l65xRqHdI",
        "outputId": "7322f68e-6998-4c71-cf15-27ba50e2f204"
      },
      "execution_count": 5,
      "outputs": [
        {
          "output_type": "execute_result",
          "data": {
            "text/plain": [
              "array([[100.,   0.,   0.],\n",
              "       [ 80., 120.,   0.],\n",
              "       [ 64.,  96., 144.]])"
            ]
          },
          "metadata": {},
          "execution_count": 5
        }
      ]
    },
    {
      "cell_type": "code",
      "source": [
        "# Binomial Tree with call_payoff\n",
        "\n",
        "def binomial_tree_call(S_o, K, T, u, d, N):\n",
        "  C = np.zeros([N+1, N+1])\n",
        "  S = np.zeros([N+1, N+1])\n",
        "\n",
        "  for i in range(0, N+1):\n",
        "    C[N, i] = max(S_o * (u ** (i)) * (d ** (N-i)) - K, 0)\n",
        "    S[N, i] = S_o * (u ** (i)) * (d ** (N-i))\n",
        "\n",
        "  for j in range(N-1, -1, -1):\n",
        "    for i in range(0, j+1):\n",
        "      S[j, i] = S_o * (u ** (i)) * (d ** (j-i))\n",
        "\n",
        "  return S, C\n"
      ],
      "metadata": {
        "id": "3yOjq27Os1-G"
      },
      "execution_count": 6,
      "outputs": []
    },
    {
      "cell_type": "code",
      "source": [
        "Stock, Call = binomial_tree_call(100, 90, 10, 1.2, 0.8, 10)\n",
        "print(\"Underlying Price Evolution:\\n\", Stock)\n",
        "print(\"\\n\")\n",
        "print(\"Call Option Payoff:\\n\", Call)"
      ],
      "metadata": {
        "colab": {
          "base_uri": "https://localhost:8080/"
        },
        "id": "NhBdxyzKucSP",
        "outputId": "f1b9df97-988c-4f75-95bc-2fbf8bbc5908"
      },
      "execution_count": 7,
      "outputs": [
        {
          "output_type": "stream",
          "name": "stdout",
          "text": [
            "Underlying Price Evolution:\n",
            " [[100.           0.           0.           0.           0.\n",
            "    0.           0.           0.           0.           0.\n",
            "    0.        ]\n",
            " [ 80.         120.           0.           0.           0.\n",
            "    0.           0.           0.           0.           0.\n",
            "    0.        ]\n",
            " [ 64.          96.         144.           0.           0.\n",
            "    0.           0.           0.           0.           0.\n",
            "    0.        ]\n",
            " [ 51.2         76.8        115.2        172.8          0.\n",
            "    0.           0.           0.           0.           0.\n",
            "    0.        ]\n",
            " [ 40.96        61.44        92.16       138.24       207.36\n",
            "    0.           0.           0.           0.           0.\n",
            "    0.        ]\n",
            " [ 32.768       49.152       73.728      110.592      165.888\n",
            "  248.832        0.           0.           0.           0.\n",
            "    0.        ]\n",
            " [ 26.2144      39.3216      58.9824      88.4736     132.7104\n",
            "  199.0656     298.5984       0.           0.           0.\n",
            "    0.        ]\n",
            " [ 20.97152     31.45728     47.18592     70.77888    106.16832\n",
            "  159.25248    238.87872    358.31808      0.           0.\n",
            "    0.        ]\n",
            " [ 16.777216    25.165824    37.748736    56.623104    84.934656\n",
            "  127.401984   191.102976   286.654464   429.981696     0.\n",
            "    0.        ]\n",
            " [ 13.4217728   20.1326592   30.1989888   45.2984832   67.9477248\n",
            "  101.9215872  152.8823808  229.3235712  343.9853568  515.9780352\n",
            "    0.        ]\n",
            " [ 10.73741824  16.10612736  24.15919104  36.23878656  54.35817984\n",
            "   81.53726976 122.30590464 183.45885696 275.18828544 412.78242816\n",
            "  619.17364224]]\n",
            "\n",
            "\n",
            "Call Option Payoff:\n",
            " [[  0.           0.           0.           0.           0.\n",
            "    0.           0.           0.           0.           0.\n",
            "    0.        ]\n",
            " [  0.           0.           0.           0.           0.\n",
            "    0.           0.           0.           0.           0.\n",
            "    0.        ]\n",
            " [  0.           0.           0.           0.           0.\n",
            "    0.           0.           0.           0.           0.\n",
            "    0.        ]\n",
            " [  0.           0.           0.           0.           0.\n",
            "    0.           0.           0.           0.           0.\n",
            "    0.        ]\n",
            " [  0.           0.           0.           0.           0.\n",
            "    0.           0.           0.           0.           0.\n",
            "    0.        ]\n",
            " [  0.           0.           0.           0.           0.\n",
            "    0.           0.           0.           0.           0.\n",
            "    0.        ]\n",
            " [  0.           0.           0.           0.           0.\n",
            "    0.           0.           0.           0.           0.\n",
            "    0.        ]\n",
            " [  0.           0.           0.           0.           0.\n",
            "    0.           0.           0.           0.           0.\n",
            "    0.        ]\n",
            " [  0.           0.           0.           0.           0.\n",
            "    0.           0.           0.           0.           0.\n",
            "    0.        ]\n",
            " [  0.           0.           0.           0.           0.\n",
            "    0.           0.           0.           0.           0.\n",
            "    0.        ]\n",
            " [  0.           0.           0.           0.           0.\n",
            "    0.          32.30590464  93.45885696 185.18828544 322.78242816\n",
            "  529.17364224]]\n"
          ]
        }
      ]
    },
    {
      "cell_type": "code",
      "source": [
        "# Binomial Risk-neutral Probabilities and backward induction of call option value.\n",
        "\n",
        "def binomial_call_full(S_o, K, T, r, u, d, N):\n",
        "  dt = T / N\n",
        "  p = (np.exp(r*dt) - d) / (u - d)\n",
        "  C = np.zeros([N+1, N+1])\n",
        "  S = np.zeros([N+1, N+1])\n",
        "\n",
        "  for i in range(0 , N+1):\n",
        "    C[N, i] = max(S_o * (u ** (i)) * (d ** (N-i)) - K, 0)\n",
        "    S[N, i] = S_o * (u ** (i)) * (d ** (N-i))\n",
        "\n",
        "  for j in range(N-1, -1, -1):\n",
        "    for i in range(0, j+1):\n",
        "      C[j, i] = np.exp(-r * dt) * (p * C[j+1, i+1] + (1-p) * C[j+1, i])\n",
        "      S[j, i] = S_o * (u ** (i)) * (d ** (j-i))\n",
        "\n",
        "  return C[0,0], C, S"
      ],
      "metadata": {
        "id": "0oEyz7vMw9xJ"
      },
      "execution_count": 8,
      "outputs": []
    },
    {
      "cell_type": "code",
      "source": [
        "call_price, C, S = binomial_call_full(100, 90, 10, 0, 1.2, 0.8, 10)\n",
        "print(\"Underlying Price Evolution:\\n\", S)\n",
        "print(\"\\n\")\n",
        "print(\"Call Option Payoff:\\n\", C)\n",
        "print(\"\\n\")\n",
        "print(\"Call Option Price at t=0: \", \"{:.2f}\".format(call_price))"
      ],
      "metadata": {
        "colab": {
          "base_uri": "https://localhost:8080/"
        },
        "id": "D55dV_Oh0KBA",
        "outputId": "12e9dd9c-ab16-421b-d150-93b9a602fe0e"
      },
      "execution_count": 9,
      "outputs": [
        {
          "output_type": "stream",
          "name": "stdout",
          "text": [
            "Underlying Price Evolution:\n",
            " [[100.           0.           0.           0.           0.\n",
            "    0.           0.           0.           0.           0.\n",
            "    0.        ]\n",
            " [ 80.         120.           0.           0.           0.\n",
            "    0.           0.           0.           0.           0.\n",
            "    0.        ]\n",
            " [ 64.          96.         144.           0.           0.\n",
            "    0.           0.           0.           0.           0.\n",
            "    0.        ]\n",
            " [ 51.2         76.8        115.2        172.8          0.\n",
            "    0.           0.           0.           0.           0.\n",
            "    0.        ]\n",
            " [ 40.96        61.44        92.16       138.24       207.36\n",
            "    0.           0.           0.           0.           0.\n",
            "    0.        ]\n",
            " [ 32.768       49.152       73.728      110.592      165.888\n",
            "  248.832        0.           0.           0.           0.\n",
            "    0.        ]\n",
            " [ 26.2144      39.3216      58.9824      88.4736     132.7104\n",
            "  199.0656     298.5984       0.           0.           0.\n",
            "    0.        ]\n",
            " [ 20.97152     31.45728     47.18592     70.77888    106.16832\n",
            "  159.25248    238.87872    358.31808      0.           0.\n",
            "    0.        ]\n",
            " [ 16.777216    25.165824    37.748736    56.623104    84.934656\n",
            "  127.401984   191.102976   286.654464   429.981696     0.\n",
            "    0.        ]\n",
            " [ 13.4217728   20.1326592   30.1989888   45.2984832   67.9477248\n",
            "  101.9215872  152.8823808  229.3235712  343.9853568  515.9780352\n",
            "    0.        ]\n",
            " [ 10.73741824  16.10612736  24.15919104  36.23878656  54.35817984\n",
            "   81.53726976 122.30590464 183.45885696 275.18828544 412.78242816\n",
            "  619.17364224]]\n",
            "\n",
            "\n",
            "Call Option Payoff:\n",
            " [[2.93845445e+01 0.00000000e+00 0.00000000e+00 0.00000000e+00\n",
            "  0.00000000e+00 0.00000000e+00 0.00000000e+00 0.00000000e+00\n",
            "  0.00000000e+00 0.00000000e+00 0.00000000e+00]\n",
            " [1.57572106e+01 4.30118784e+01 0.00000000e+00 0.00000000e+00\n",
            "  0.00000000e+00 0.00000000e+00 0.00000000e+00 0.00000000e+00\n",
            "  0.00000000e+00 0.00000000e+00 0.00000000e+00]\n",
            " [7.17743934e+00 2.43369819e+01 6.16867749e+01 0.00000000e+00\n",
            "  0.00000000e+00 0.00000000e+00 0.00000000e+00 0.00000000e+00\n",
            "  0.00000000e+00 0.00000000e+00 0.00000000e+00]\n",
            " [2.49687648e+00 1.18580022e+01 3.68159616e+01 8.65575882e+01\n",
            "  0.00000000e+00 0.00000000e+00 0.00000000e+00 0.00000000e+00\n",
            "  0.00000000e+00 0.00000000e+00 0.00000000e+00]\n",
            " [5.04779760e-01 4.48897320e+00 1.92270312e+01 5.44048920e+01\n",
            "  1.18710284e+02 0.00000000e+00 0.00000000e+00 0.00000000e+00\n",
            "  0.00000000e+00 0.00000000e+00 0.00000000e+00]\n",
            " [0.00000000e+00 1.00955952e+00 7.96838688e+00 3.04856755e+01\n",
            "  7.83241085e+01 1.59096460e+02 0.00000000e+00 0.00000000e+00\n",
            "  0.00000000e+00 0.00000000e+00 0.00000000e+00]\n",
            " [0.00000000e+00 0.00000000e+00 2.01911904e+00 1.39176547e+01\n",
            "  4.70536963e+01 1.09594521e+02 2.08598400e+02 0.00000000e+00\n",
            "  0.00000000e+00 0.00000000e+00 0.00000000e+00]\n",
            " [0.00000000e+00 0.00000000e+00 0.00000000e+00 4.03823808e+00\n",
            "  2.37970714e+01 7.03103213e+01 1.48878720e+02 2.68318080e+02\n",
            "  0.00000000e+00 0.00000000e+00 0.00000000e+00]\n",
            " [0.00000000e+00 0.00000000e+00 0.00000000e+00 0.00000000e+00\n",
            "  8.07647616e+00 3.95176666e+01 1.01102976e+02 1.96654464e+02\n",
            "  3.39981696e+02 0.00000000e+00 0.00000000e+00]\n",
            " [0.00000000e+00 0.00000000e+00 0.00000000e+00 0.00000000e+00\n",
            "  0.00000000e+00 1.61529523e+01 6.28823808e+01 1.39323571e+02\n",
            "  2.53985357e+02 4.25978035e+02 0.00000000e+00]\n",
            " [0.00000000e+00 0.00000000e+00 0.00000000e+00 0.00000000e+00\n",
            "  0.00000000e+00 0.00000000e+00 3.23059046e+01 9.34588570e+01\n",
            "  1.85188285e+02 3.22782428e+02 5.29173642e+02]]\n",
            "\n",
            "\n",
            "Call Option Price at t=0:  29.38\n"
          ]
        }
      ]
    },
    {
      "cell_type": "code",
      "source": [
        "# Binomial Put Option Full with Risk-neutral Probabilities and backward induction of call option value.\n",
        "\n",
        "def binomial_put_full(S_o, K, T, r, u, d, N):\n",
        "  dt = T / N\n",
        "  p = (np.exp(r * dt) - d) / (u - d)\n",
        "  P = np.zeros([N + 1, N + 1])\n",
        "  S = np.zeros([N + 1, N + 1])\n",
        "\n",
        "  for i in range(0, N + 1):\n",
        "    P[N, i] = max(K - (S_o * (u ** (i)) * (d ** (N-i))), 0)\n",
        "    S[N, i] = S_o * (u ** (i)) * (d ** (N-i))\n",
        "\n",
        "  for j in range(N - 1, -1, -1):\n",
        "    for i in range(0, j + 1):\n",
        "      P[j, i] = np.exp(-r * dt) * (p * P[j + 1, i + 1] + (1 - p) * P[j + 1, i])\n",
        "      S[j, i] = S_o * (u ** (i)) * (d ** (j-i))\n",
        "\n",
        "  return P[0, 0], P, S"
      ],
      "metadata": {
        "id": "22a5W12S1ZmN"
      },
      "execution_count": 10,
      "outputs": []
    },
    {
      "cell_type": "code",
      "source": [
        "put_price, P, S = binomial_put_full(36, 36, 50, 0.01, 1.1, 0.7, 50)\n",
        "print(\"Underlying Price Evolution:\\n\", S)\n",
        "print(\"\\n\")\n",
        "print(\"put Option Payoff:\\n\", P)\n",
        "print(\"\\n\")\n",
        "print(\"Put Option Price at t=0: \", \"{:.2f}\".format(put_price))"
      ],
      "metadata": {
        "colab": {
          "base_uri": "https://localhost:8080/"
        },
        "id": "AeLVunmZ3Qco",
        "outputId": "61cba0ab-29aa-410e-e929-966194ddac15"
      },
      "execution_count": 11,
      "outputs": [
        {
          "output_type": "stream",
          "name": "stdout",
          "text": [
            "Underlying Price Evolution:\n",
            " [[3.60000000e+01 0.00000000e+00 0.00000000e+00 ... 0.00000000e+00\n",
            "  0.00000000e+00 0.00000000e+00]\n",
            " [2.52000000e+01 3.96000000e+01 0.00000000e+00 ... 0.00000000e+00\n",
            "  0.00000000e+00 0.00000000e+00]\n",
            " [1.76400000e+01 2.77200000e+01 4.35600000e+01 ... 0.00000000e+00\n",
            "  0.00000000e+00 0.00000000e+00]\n",
            " ...\n",
            " [1.32132126e-06 2.07636197e-06 3.26285453e-06 ... 3.49262042e+03\n",
            "  0.00000000e+00 0.00000000e+00]\n",
            " [9.24924879e-07 1.45345338e-06 2.28399817e-06 ... 2.44483429e+03\n",
            "  3.84188246e+03 0.00000000e+00]\n",
            " [6.47447415e-07 1.01741737e-06 1.59879872e-06 ... 1.71138400e+03\n",
            "  2.68931772e+03 4.22607070e+03]]\n",
            "\n",
            "\n",
            "put Option Payoff:\n",
            " [[ 7.5822903   0.          0.         ...  0.          0.\n",
            "   0.        ]\n",
            " [ 9.54336876  7.11166527  0.         ...  0.          0.\n",
            "   0.        ]\n",
            " [11.63290642  9.06090302  6.63837335 ...  0.          0.\n",
            "   0.        ]\n",
            " ...\n",
            " [35.28715092 35.28715016 35.28714898 ...  0.          0.\n",
            "   0.        ]\n",
            " [35.64179309 35.64179256 35.64179173 ...  0.          0.\n",
            "   0.        ]\n",
            " [35.99999935 35.99999898 35.9999984  ...  0.          0.\n",
            "   0.        ]]\n",
            "\n",
            "\n",
            "Put Option Price at t=0:  7.58\n"
          ]
        }
      ]
    },
    {
      "cell_type": "code",
      "source": [
        "# Put-Call parity\n",
        "\n",
        "put_price, P, S = binomial_put_full(100, 90, 10, 0, 1.2, 0.8, 10)\n",
        "print(\"Price at t=0 for Put option is $\", \"{:.2f}\".format(put_price))\n",
        "call_price, C, S = binomial_call_full(100, 90, 10, 0, 1.2, 0.8, 10)\n",
        "print(\"Price at t=0 for Call option is $\", \"{:.2f}\".format(call_price))"
      ],
      "metadata": {
        "colab": {
          "base_uri": "https://localhost:8080/"
        },
        "id": "J5qVxTAE5hUu",
        "outputId": "1bee0f5d-5dd1-49aa-a451-b4d9197e68b1"
      },
      "execution_count": 12,
      "outputs": [
        {
          "output_type": "stream",
          "name": "stdout",
          "text": [
            "Price at t=0 for Put option is $ 19.38\n",
            "Price at t=0 for Call option is $ 29.38\n"
          ]
        }
      ]
    },
    {
      "cell_type": "code",
      "source": [
        "# Parity Check\n",
        "\n",
        "round(call_price + 90 * np.exp(-0 * 1), 2) == round(S[0, 0] + put_price, 2)"
      ],
      "metadata": {
        "colab": {
          "base_uri": "https://localhost:8080/"
        },
        "id": "akF2khHW7Fd-",
        "outputId": "85e7eba9-56b0-4690-e24d-f86437b6cb71"
      },
      "execution_count": 13,
      "outputs": [
        {
          "output_type": "execute_result",
          "data": {
            "text/plain": [
              "True"
            ]
          },
          "metadata": {},
          "execution_count": 13
        }
      ]
    },
    {
      "cell_type": "code",
      "source": [
        "put_price, P, S = binomial_put_full(100, 90, 1, 0, 1.2, 0.8, 2)\n",
        "print(\"Price at t=0 for Put option is $\", \"{:.2f}\".format(put_price))\n",
        "call_price, C, S = binomial_call_full(100, 90, 1, 0, 1.2, 0.8, 2)\n",
        "print(\"Price at t=0 for Call option is $\", \"{:.2f}\".format(call_price))"
      ],
      "metadata": {
        "colab": {
          "base_uri": "https://localhost:8080/"
        },
        "id": "59-JqltZ7hAm",
        "outputId": "61724981-0f4e-4417-8147-eff4ad59ce57"
      },
      "execution_count": 14,
      "outputs": [
        {
          "output_type": "stream",
          "name": "stdout",
          "text": [
            "Price at t=0 for Put option is $ 6.50\n",
            "Price at t=0 for Call option is $ 16.50\n"
          ]
        }
      ]
    },
    {
      "cell_type": "code",
      "source": [
        "round(call_price + 90 * np.exp(-0 * 1), 2) == round(S[0, 0] + put_price, 2)"
      ],
      "metadata": {
        "colab": {
          "base_uri": "https://localhost:8080/"
        },
        "id": "JMkM0qL-7mRd",
        "outputId": "3f7bb0c6-6c3d-4e3c-a464-db0d26a20da1"
      },
      "execution_count": 15,
      "outputs": [
        {
          "output_type": "execute_result",
          "data": {
            "text/plain": [
              "True"
            ]
          },
          "metadata": {},
          "execution_count": 15
        }
      ]
    },
    {
      "cell_type": "code",
      "source": [
        "print(\"Underlying Price Evolution:\\n\", S)\n",
        "print(\"Call Option Payoff:\\n\", C)\n",
        "print(\"Put Option Payoff:\\n\", P)"
      ],
      "metadata": {
        "colab": {
          "base_uri": "https://localhost:8080/"
        },
        "id": "AjJwFaEe7npm",
        "outputId": "eae3aac4-3209-4814-eb3a-cd5d6f10c5e1"
      },
      "execution_count": 16,
      "outputs": [
        {
          "output_type": "stream",
          "name": "stdout",
          "text": [
            "Underlying Price Evolution:\n",
            " [[100.   0.   0.]\n",
            " [ 80. 120.   0.]\n",
            " [ 64.  96. 144.]]\n",
            "Call Option Payoff:\n",
            " [[16.5  0.   0. ]\n",
            " [ 3.  30.   0. ]\n",
            " [ 0.   6.  54. ]]\n",
            "Put Option Payoff:\n",
            " [[ 6.5  0.   0. ]\n",
            " [13.   0.   0. ]\n",
            " [26.   0.   0. ]]\n"
          ]
        }
      ]
    },
    {
      "cell_type": "code",
      "source": [
        "round(C[1, 0] + 90 * np.exp(-0 * 0.5), 2) == round(S[1, 0] + P[1, 0], 2)"
      ],
      "metadata": {
        "colab": {
          "base_uri": "https://localhost:8080/"
        },
        "id": "GHhMl7NC7uQV",
        "outputId": "7cbff66c-6c2d-4cd0-b3db-db94a83c680c"
      },
      "execution_count": 17,
      "outputs": [
        {
          "output_type": "execute_result",
          "data": {
            "text/plain": [
              "True"
            ]
          },
          "metadata": {},
          "execution_count": 17
        }
      ]
    },
    {
      "cell_type": "code",
      "source": [
        "n = 5\n",
        "\n",
        "for i in range(n):\n",
        "\n",
        "  for j in range(i, n):\n",
        "    print(' ', end=' ')\n",
        "\n",
        "  for j in range(i+1):\n",
        "    print('*', end=' ')\n",
        "\n",
        "  print()"
      ],
      "metadata": {
        "colab": {
          "base_uri": "https://localhost:8080/"
        },
        "id": "nw0a-qjZ7ydG",
        "outputId": "1fd0619f-eb73-49ab-e3f3-ded8bc04ffd0"
      },
      "execution_count": 18,
      "outputs": [
        {
          "output_type": "stream",
          "name": "stdout",
          "text": [
            "          * \n",
            "        * * \n",
            "      * * * \n",
            "    * * * * \n",
            "  * * * * * \n"
          ]
        }
      ]
    },
    {
      "cell_type": "code",
      "source": [
        "n = 5\n",
        "\n",
        "for i in range(n):\n",
        "\n",
        "  for j in range(i+1):\n",
        "    print(' ', end=' ')\n",
        "\n",
        "  for j in range(i, n):\n",
        "    print('*', end=' ')\n",
        "\n",
        "\n",
        "  print()"
      ],
      "metadata": {
        "colab": {
          "base_uri": "https://localhost:8080/"
        },
        "id": "RBd-ZA4k_8PO",
        "outputId": "5a1a5bef-650b-491e-d5cd-d455517b2613"
      },
      "execution_count": 19,
      "outputs": [
        {
          "output_type": "stream",
          "name": "stdout",
          "text": [
            "  * * * * * \n",
            "    * * * * \n",
            "      * * * \n",
            "        * * \n",
            "          * \n"
          ]
        }
      ]
    },
    {
      "cell_type": "code",
      "source": [
        "n = 5\n",
        "\n",
        "for i in range(n):\n",
        "\n",
        "  for j in range(i, n):\n",
        "    print(' ', end=' ')\n",
        "\n",
        "  for j in range(i):\n",
        "    print('*', end=' ')\n",
        "\n",
        "  for j in range(i+1):\n",
        "    print('*', end=' ')\n",
        "\n",
        "  print()"
      ],
      "metadata": {
        "colab": {
          "base_uri": "https://localhost:8080/"
        },
        "id": "Jo9kIZApAqKQ",
        "outputId": "05ad68bc-ecdb-4a97-8b6c-b1b5f4e97a39"
      },
      "execution_count": 20,
      "outputs": [
        {
          "output_type": "stream",
          "name": "stdout",
          "text": [
            "          * \n",
            "        * * * \n",
            "      * * * * * \n",
            "    * * * * * * * \n",
            "  * * * * * * * * * \n"
          ]
        }
      ]
    },
    {
      "cell_type": "code",
      "source": [
        "n = 5\n",
        "\n",
        "for i in range(n):\n",
        "\n",
        "  for j in range(i+1):\n",
        "    print(' ', end=' ')\n",
        "\n",
        "  for j in range(i, n-1):\n",
        "    print('*', end=' ')\n",
        "\n",
        "  for j in range(i, n):\n",
        "    print('*', end=' ')\n",
        "\n",
        "\n",
        "  print()"
      ],
      "metadata": {
        "colab": {
          "base_uri": "https://localhost:8080/"
        },
        "id": "JT4y-RiCA7rv",
        "outputId": "1aadc3bc-b549-490a-f0a7-e89774946b44"
      },
      "execution_count": 21,
      "outputs": [
        {
          "output_type": "stream",
          "name": "stdout",
          "text": [
            "  * * * * * * * * * \n",
            "    * * * * * * * \n",
            "      * * * * * \n",
            "        * * * \n",
            "          * \n"
          ]
        }
      ]
    },
    {
      "cell_type": "code",
      "source": [
        "n = 5\n",
        "\n",
        "for i in range(n-1):\n",
        "\n",
        "  for j in range(i, n):\n",
        "    print(' ', end=' ')\n",
        "\n",
        "  for j in range(i):\n",
        "    print('*', end=' ')\n",
        "\n",
        "  for j in range(i+1):\n",
        "    print('*', end=' ')\n",
        "\n",
        "  print()\n",
        "\n",
        "for i in range(n):\n",
        "\n",
        "  for j in range(i+1):\n",
        "    print(' ', end=' ')\n",
        "\n",
        "  for j in range(i, n-1):\n",
        "    print('*', end=' ')\n",
        "\n",
        "  for j in range(i, n):\n",
        "    print('*', end=' ')\n",
        "\n",
        "\n",
        "  print()"
      ],
      "metadata": {
        "colab": {
          "base_uri": "https://localhost:8080/"
        },
        "id": "JrLmxT3BBQ2_",
        "outputId": "588276f6-1ccd-4c42-b3b5-daae68ad9924"
      },
      "execution_count": 22,
      "outputs": [
        {
          "output_type": "stream",
          "name": "stdout",
          "text": [
            "          * \n",
            "        * * * \n",
            "      * * * * * \n",
            "    * * * * * * * \n",
            "  * * * * * * * * * \n",
            "    * * * * * * * \n",
            "      * * * * * \n",
            "        * * * \n",
            "          * \n"
          ]
        }
      ]
    },
    {
      "cell_type": "code",
      "source": [
        "# Delta hedging Call Binomial tree\n",
        "\n",
        "def binomial_call_delta(S_o, K, T, r, u, d, N):\n",
        "  dt = T / N\n",
        "  p = (np.exp(r*dt) - d) / (u - d)\n",
        "  C = np.zeros([N+1, N+1])\n",
        "  S = np.zeros([N+1, N+1])\n",
        "  Delta = np.zeros([N, N])\n",
        "\n",
        "  for i in range(0 , N+1):\n",
        "    C[N, i] = max(S_o * (u ** (i)) * (d ** (N-i)) - K, 0)\n",
        "    S[N, i] = S_o * (u ** (i)) * (d ** (N-i))\n",
        "\n",
        "  for j in range(N-1, -1, -1):\n",
        "    for i in range(0, j+1):\n",
        "      C[j, i] = np.exp(-r * dt) * (p * C[j+1, i+1] + (1-p) * C[j+1, i])\n",
        "      S[j, i] = S_o * (u ** (i)) * (d ** (j-i))\n",
        "      Delta[j, i] = (C[j+1, i+1] - C[j+1, i]) / (S[j+1, i+1] - S[j+1, i])\n",
        "\n",
        "  return C[0,0], C, S, Delta"
      ],
      "metadata": {
        "id": "gXSs16HVBruP"
      },
      "execution_count": 23,
      "outputs": []
    },
    {
      "cell_type": "code",
      "source": [
        "price, call, S, delta = binomial_call_delta(100, 90, 15, 0, 1.2, 0.8, 15)\n",
        "print(\"Underlying: \\n\", S)\n",
        "print(\"Call Price: \\n\", call)\n",
        "print(\"Delta: \\n\", delta)"
      ],
      "metadata": {
        "colab": {
          "base_uri": "https://localhost:8080/"
        },
        "id": "Z0xbgZjLUO9w",
        "outputId": "853b805a-3d1e-4975-aa70-96194f162f21"
      },
      "execution_count": 24,
      "outputs": [
        {
          "output_type": "stream",
          "name": "stdout",
          "text": [
            "Underlying: \n",
            " [[ 100.            0.            0.            0.            0.\n",
            "     0.            0.            0.            0.            0.\n",
            "     0.            0.            0.            0.            0.\n",
            "     0.        ]\n",
            " [  80.          120.            0.            0.            0.\n",
            "     0.            0.            0.            0.            0.\n",
            "     0.            0.            0.            0.            0.\n",
            "     0.        ]\n",
            " [  64.           96.          144.            0.            0.\n",
            "     0.            0.            0.            0.            0.\n",
            "     0.            0.            0.            0.            0.\n",
            "     0.        ]\n",
            " [  51.2          76.8         115.2         172.8           0.\n",
            "     0.            0.            0.            0.            0.\n",
            "     0.            0.            0.            0.            0.\n",
            "     0.        ]\n",
            " [  40.96         61.44         92.16        138.24        207.36\n",
            "     0.            0.            0.            0.            0.\n",
            "     0.            0.            0.            0.            0.\n",
            "     0.        ]\n",
            " [  32.768        49.152        73.728       110.592       165.888\n",
            "   248.832         0.            0.            0.            0.\n",
            "     0.            0.            0.            0.            0.\n",
            "     0.        ]\n",
            " [  26.2144       39.3216       58.9824       88.4736      132.7104\n",
            "   199.0656      298.5984        0.            0.            0.\n",
            "     0.            0.            0.            0.            0.\n",
            "     0.        ]\n",
            " [  20.97152      31.45728      47.18592      70.77888     106.16832\n",
            "   159.25248     238.87872     358.31808       0.            0.\n",
            "     0.            0.            0.            0.            0.\n",
            "     0.        ]\n",
            " [  16.777216     25.165824     37.748736     56.623104     84.934656\n",
            "   127.401984    191.102976    286.654464    429.981696      0.\n",
            "     0.            0.            0.            0.            0.\n",
            "     0.        ]\n",
            " [  13.4217728    20.1326592    30.1989888    45.2984832    67.9477248\n",
            "   101.9215872   152.8823808   229.3235712   343.9853568   515.9780352\n",
            "     0.            0.            0.            0.            0.\n",
            "     0.        ]\n",
            " [  10.73741824   16.10612736   24.15919104   36.23878656   54.35817984\n",
            "    81.53726976  122.30590464  183.45885696  275.18828544  412.78242816\n",
            "   619.17364224    0.            0.            0.            0.\n",
            "     0.        ]\n",
            " [   8.58993459   12.88490189   19.32735283   28.99102925   43.48654387\n",
            "    65.22981581   97.84472371  146.76708557  220.15062835  330.22594253\n",
            "   495.33891379  743.00837069    0.            0.            0.\n",
            "     0.        ]\n",
            " [   6.87194767   10.30792151   15.46188227   23.1928234    34.7892351\n",
            "    52.18385265   78.27577897  117.41366845  176.12050268  264.18075402\n",
            "   396.27113103  594.40669655  891.61004483    0.            0.\n",
            "     0.        ]\n",
            " [   5.49755814    8.24633721   12.36950581   18.55425872   27.83138808\n",
            "    41.74708212   62.62062318   93.93093476  140.89640215  211.34460322\n",
            "   317.01690483  475.52535724  713.28803586 1069.93205379    0.\n",
            "     0.        ]\n",
            " [   4.39804651    6.59706977    9.89560465   14.84340697   22.26511046\n",
            "    33.39766569   50.09649854   75.14474781  112.71712172  169.07568257\n",
            "   253.61352386  380.42028579  570.63042869  855.94564303 1283.91846455\n",
            "     0.        ]\n",
            " [   3.51843721    5.27765581    7.91648372   11.87472558   17.81208837\n",
            "    26.71813255   40.07719883   60.11579825   90.17369737  135.26054606\n",
            "   202.89081909  304.33622863  456.50434295  684.75651443 1027.13477164\n",
            "  1540.70215746]]\n",
            "Call Price: \n",
            " [[3.36896817e+01 0.00000000e+00 0.00000000e+00 0.00000000e+00\n",
            "  0.00000000e+00 0.00000000e+00 0.00000000e+00 0.00000000e+00\n",
            "  0.00000000e+00 0.00000000e+00 0.00000000e+00 0.00000000e+00\n",
            "  0.00000000e+00 0.00000000e+00 0.00000000e+00 0.00000000e+00]\n",
            " [1.98224454e+01 4.75569181e+01 0.00000000e+00 0.00000000e+00\n",
            "  0.00000000e+00 0.00000000e+00 0.00000000e+00 0.00000000e+00\n",
            "  0.00000000e+00 0.00000000e+00 0.00000000e+00 0.00000000e+00\n",
            "  0.00000000e+00 0.00000000e+00 0.00000000e+00 0.00000000e+00]\n",
            " [1.06139102e+01 2.90309806e+01 6.60828557e+01 0.00000000e+00\n",
            "  0.00000000e+00 0.00000000e+00 0.00000000e+00 0.00000000e+00\n",
            "  0.00000000e+00 0.00000000e+00 0.00000000e+00 0.00000000e+00\n",
            "  0.00000000e+00 0.00000000e+00 0.00000000e+00 0.00000000e+00]\n",
            " [4.98843591e+00 1.62393844e+01 4.18225767e+01 9.03431347e+01\n",
            "  0.00000000e+00 0.00000000e+00 0.00000000e+00 0.00000000e+00\n",
            "  0.00000000e+00 0.00000000e+00 0.00000000e+00 0.00000000e+00\n",
            "  0.00000000e+00 0.00000000e+00 0.00000000e+00 0.00000000e+00]\n",
            " [1.94049089e+00 8.03638093e+00 2.44423879e+01 5.92027655e+01\n",
            "  1.21483504e+02 0.00000000e+00 0.00000000e+00 0.00000000e+00\n",
            "  0.00000000e+00 0.00000000e+00 0.00000000e+00 0.00000000e+00\n",
            "  0.00000000e+00 0.00000000e+00 0.00000000e+00 0.00000000e+00]\n",
            " [5.59875646e-01 3.32110613e+00 1.27516557e+01 3.61331201e+01\n",
            "  8.22724110e+01 1.60694597e+02 0.00000000e+00 0.00000000e+00\n",
            "  0.00000000e+00 0.00000000e+00 0.00000000e+00 0.00000000e+00\n",
            "  0.00000000e+00 0.00000000e+00 0.00000000e+00 0.00000000e+00]\n",
            " [9.14527782e-02 1.02829851e+00 5.61391375e+00 1.98893977e+01\n",
            "  5.23768424e+01 1.12167980e+02 2.09221214e+02 0.00000000e+00\n",
            "  0.00000000e+00 0.00000000e+00 0.00000000e+00 0.00000000e+00\n",
            "  0.00000000e+00 0.00000000e+00 0.00000000e+00 0.00000000e+00]\n",
            " [6.78505363e-04 1.82227051e-01 1.87436998e+00 9.35345752e+00\n",
            "  3.04253379e+01 7.43283469e+01 1.50007612e+02 2.68434815e+02\n",
            "  0.00000000e+00 0.00000000e+00 0.00000000e+00 0.00000000e+00\n",
            "  0.00000000e+00 0.00000000e+00 0.00000000e+00 0.00000000e+00]\n",
            " [0.00000000e+00 1.35701073e-03 3.63097091e-01 3.38564286e+00\n",
            "  1.53212722e+01 4.55294036e+01 1.03127290e+02 1.96887934e+02\n",
            "  3.39981696e+02 0.00000000e+00 0.00000000e+00 0.00000000e+00\n",
            "  0.00000000e+00 0.00000000e+00 0.00000000e+00 0.00000000e+00]\n",
            " [0.00000000e+00 0.00000000e+00 2.71402145e-03 7.23480161e-01\n",
            "  6.04780556e+00 2.45947388e+01 6.64640685e+01 1.39790512e+02\n",
            "  2.53985357e+02 4.25978035e+02 0.00000000e+00 0.00000000e+00\n",
            "  0.00000000e+00 0.00000000e+00 0.00000000e+00 0.00000000e+00]\n",
            " [0.00000000e+00 0.00000000e+00 0.00000000e+00 5.42804291e-03\n",
            "  1.44153228e+00 1.06540788e+01 3.85353987e+01 9.43927383e+01\n",
            "  1.85188285e+02 3.22782428e+02 5.29173642e+02 0.00000000e+00\n",
            "  0.00000000e+00 0.00000000e+00 0.00000000e+00 0.00000000e+00]\n",
            " [0.00000000e+00 0.00000000e+00 0.00000000e+00 0.00000000e+00\n",
            "  1.08560858e-02 2.87220847e+00 1.84359492e+01 5.86348482e+01\n",
            "  1.30150628e+02 2.40225943e+02 4.05338914e+02 6.53008371e+02\n",
            "  0.00000000e+00 0.00000000e+00 0.00000000e+00 0.00000000e+00]\n",
            " [0.00000000e+00 0.00000000e+00 0.00000000e+00 0.00000000e+00\n",
            "  0.00000000e+00 2.17121716e-02 5.72270477e+00 3.11491937e+01\n",
            "  8.61205027e+01 1.74180754e+02 3.06271131e+02 5.04406697e+02\n",
            "  8.01610045e+02 0.00000000e+00 0.00000000e+00 0.00000000e+00]\n",
            " [0.00000000e+00 0.00000000e+00 0.00000000e+00 0.00000000e+00\n",
            "  0.00000000e+00 0.00000000e+00 4.34243432e-02 1.14019852e+01\n",
            "  5.08964021e+01 1.21344603e+02 2.27016905e+02 3.85525357e+02\n",
            "  6.23288036e+02 9.79932054e+02 0.00000000e+00 0.00000000e+00]\n",
            " [0.00000000e+00 0.00000000e+00 0.00000000e+00 0.00000000e+00\n",
            "  0.00000000e+00 0.00000000e+00 0.00000000e+00 8.68486865e-02\n",
            "  2.27171217e+01 7.90756826e+01 1.63613524e+02 2.90420286e+02\n",
            "  4.80630429e+02 7.65945643e+02 1.19391846e+03 0.00000000e+00]\n",
            " [0.00000000e+00 0.00000000e+00 0.00000000e+00 0.00000000e+00\n",
            "  0.00000000e+00 0.00000000e+00 0.00000000e+00 0.00000000e+00\n",
            "  1.73697373e-01 4.52605461e+01 1.12890819e+02 2.14336229e+02\n",
            "  3.66504343e+02 5.94756514e+02 9.37134772e+02 1.45070216e+03]]\n",
            "Delta: \n",
            " [[6.93361819e-01 0.00000000e+00 0.00000000e+00 0.00000000e+00\n",
            "  0.00000000e+00 0.00000000e+00 0.00000000e+00 0.00000000e+00\n",
            "  0.00000000e+00 0.00000000e+00 0.00000000e+00 0.00000000e+00\n",
            "  0.00000000e+00 0.00000000e+00 0.00000000e+00]\n",
            " [5.75533450e-01 7.71914065e-01 0.00000000e+00 0.00000000e+00\n",
            "  0.00000000e+00 0.00000000e+00 0.00000000e+00 0.00000000e+00\n",
            "  0.00000000e+00 0.00000000e+00 0.00000000e+00 0.00000000e+00\n",
            "  0.00000000e+00 0.00000000e+00 0.00000000e+00]\n",
            " [4.39490176e-01 6.66228966e-01 8.42370798e-01 0.00000000e+00\n",
            "  0.00000000e+00 0.00000000e+00 0.00000000e+00 0.00000000e+00\n",
            "  0.00000000e+00 0.00000000e+00 0.00000000e+00 0.00000000e+00\n",
            "  0.00000000e+00 0.00000000e+00 0.00000000e+00]\n",
            " [2.97650881e-01 5.34049706e-01 7.54348473e-01 9.01052348e-01\n",
            "  0.00000000e+00 0.00000000e+00 0.00000000e+00 0.00000000e+00\n",
            "  0.00000000e+00 0.00000000e+00 0.00000000e+00 0.00000000e+00\n",
            "  0.00000000e+00 0.00000000e+00 0.00000000e+00]\n",
            " [1.68532134e-01 3.83730045e-01 6.34262813e-01 8.34405580e-01\n",
            "  9.45483527e-01 0.00000000e+00 0.00000000e+00 0.00000000e+00\n",
            "  0.00000000e+00 0.00000000e+00 0.00000000e+00 0.00000000e+00\n",
            "  0.00000000e+00 0.00000000e+00 0.00000000e+00]\n",
            " [7.14756573e-02 2.33236452e-01 4.84059108e-01 7.34398616e-01\n",
            "  9.01076889e-01 9.75087952e-01 0.00000000e+00 0.00000000e+00\n",
            "  0.00000000e+00 0.00000000e+00 0.00000000e+00 0.00000000e+00\n",
            "  0.00000000e+00 0.00000000e+00 0.00000000e+00]\n",
            " [1.73138185e-02 1.07583550e-01 3.17005053e-01 5.95428478e-01\n",
            "  8.27045375e-01 9.50431232e-01 9.91525766e-01 0.00000000e+00\n",
            "  0.00000000e+00 0.00000000e+00 0.00000000e+00 0.00000000e+00\n",
            "  0.00000000e+00 0.00000000e+00 0.00000000e+00]\n",
            " [1.61768285e-04 2.87485187e-02 1.60140237e-01 4.21581597e-01\n",
            "  7.11326398e-01 9.04191359e-01 9.81257813e-01 9.98371068e-01\n",
            "  0.00000000e+00 0.00000000e+00 0.00000000e+00 0.00000000e+00\n",
            "  0.00000000e+00 0.00000000e+00 0.00000000e+00]\n",
            " [0.00000000e+00 2.69613808e-04 4.77344552e-02 2.35077425e-01\n",
            "  5.45917711e-01 8.21598856e-01 9.59253028e-01 9.95927670e-01\n",
            "  1.00000000e+00 0.00000000e+00 0.00000000e+00 0.00000000e+00\n",
            "  0.00000000e+00 0.00000000e+00 0.00000000e+00]\n",
            " [0.00000000e+00 0.00000000e+00 4.49356346e-04 7.92578545e-02\n",
            "  3.38957139e-01 6.83891426e-01 9.13403809e-01 9.89819174e-01\n",
            "  1.00000000e+00 1.00000000e+00 0.00000000e+00 0.00000000e+00\n",
            "  0.00000000e+00 0.00000000e+00 0.00000000e+00]\n",
            " [0.00000000e+00 0.00000000e+00 0.00000000e+00 7.48927244e-04\n",
            "  1.31597139e-01 4.77197139e-01 8.21687617e-01 9.74547936e-01\n",
            "  1.00000000e+00 1.00000000e+00 1.00000000e+00 0.00000000e+00\n",
            "  0.00000000e+00 0.00000000e+00 0.00000000e+00]\n",
            " [0.00000000e+00 0.00000000e+00 0.00000000e+00 0.00000000e+00\n",
            "  1.24821207e-03 2.18496424e-01 6.49664283e-01 9.36369841e-01\n",
            "  1.00000000e+00 1.00000000e+00 1.00000000e+00 1.00000000e+00\n",
            "  0.00000000e+00 0.00000000e+00 0.00000000e+00]\n",
            " [0.00000000e+00 0.00000000e+00 0.00000000e+00 0.00000000e+00\n",
            "  0.00000000e+00 2.08035345e-03 3.62773805e-01 8.40924602e-01\n",
            "  1.00000000e+00 1.00000000e+00 1.00000000e+00 1.00000000e+00\n",
            "  1.00000000e+00 0.00000000e+00 0.00000000e+00]\n",
            " [0.00000000e+00 0.00000000e+00 0.00000000e+00 0.00000000e+00\n",
            "  0.00000000e+00 0.00000000e+00 3.46725576e-03 6.02311504e-01\n",
            "  1.00000000e+00 1.00000000e+00 1.00000000e+00 1.00000000e+00\n",
            "  1.00000000e+00 1.00000000e+00 0.00000000e+00]\n",
            " [0.00000000e+00 0.00000000e+00 0.00000000e+00 0.00000000e+00\n",
            "  0.00000000e+00 0.00000000e+00 0.00000000e+00 5.77875960e-03\n",
            "  1.00000000e+00 1.00000000e+00 1.00000000e+00 1.00000000e+00\n",
            "  1.00000000e+00 1.00000000e+00 1.00000000e+00]]\n"
          ]
        }
      ]
    },
    {
      "cell_type": "code",
      "source": [
        "price, call, S, delta = binomial_call_delta(100, 90, 10, 0, 1.2, 0.8, 4)\n",
        "print(\"Underlying: \\n\", S)\n",
        "print(\"Call Price: \\n\", call)\n",
        "print(\"Delta: \\n\", delta)"
      ],
      "metadata": {
        "colab": {
          "base_uri": "https://localhost:8080/"
        },
        "id": "cUCkpqPsUSxI",
        "outputId": "3d058c03-db49-4c97-c0df-f71f7362a80f"
      },
      "execution_count": 26,
      "outputs": [
        {
          "output_type": "stream",
          "name": "stdout",
          "text": [
            "Underlying: \n",
            " [[100.     0.     0.     0.     0.  ]\n",
            " [ 80.   120.     0.     0.     0.  ]\n",
            " [ 64.    96.   144.     0.     0.  ]\n",
            " [ 51.2   76.8  115.2  172.8    0.  ]\n",
            " [ 40.96  61.44  92.16 138.24 207.36]]\n",
            "Call Price: \n",
            " [[ 20.205   0.      0.      0.      0.   ]\n",
            " [  6.84   33.57    0.      0.      0.   ]\n",
            " [  0.54   13.14   54.      0.      0.   ]\n",
            " [  0.      1.08   25.2    82.8     0.   ]\n",
            " [  0.      0.      2.16   48.24  117.36 ]]\n",
            "Delta: \n",
            " [[0.66825   0.        0.        0.       ]\n",
            " [0.39375   0.85125   0.        0.       ]\n",
            " [0.0421875 0.628125  1.        0.       ]\n",
            " [0.        0.0703125 1.        1.       ]]\n"
          ]
        }
      ]
    },
    {
      "cell_type": "code",
      "source": [
        "price_array = []\n",
        "for N in [1, 10, 100, 200, 300, 400, 500, 600, 700, 800, 900, 1000, 1500, 2000, 2500]:\n",
        "  price, call, S, delta = binomial_call_delta(100, 90, 10, 0, 1.2, 0.8, N)\n",
        "  price_array.append(price)\n",
        "  print(\"With N = {:3d}, the price is {:.2f}\".format(N, price))"
      ],
      "metadata": {
        "colab": {
          "base_uri": "https://localhost:8080/"
        },
        "id": "60eXfE--UrcX",
        "outputId": "64e3460b-c1c0-45a0-be33-d3a912466246"
      },
      "execution_count": 29,
      "outputs": [
        {
          "output_type": "stream",
          "name": "stdout",
          "text": [
            "With N =   1, the price is 15.00\n",
            "With N =  10, the price is 29.38\n",
            "With N = 100, the price is 70.32\n",
            "With N = 200, the price is 85.40\n",
            "With N = 300, the price is 92.33\n",
            "With N = 400, the price is 95.84\n",
            "With N = 500, the price is 97.70\n",
            "With N = 600, the price is 98.71\n",
            "With N = 700, the price is 99.27\n",
            "With N = 800, the price is 99.58\n",
            "With N = 900, the price is 99.76\n",
            "With N = 1000, the price is 99.86\n",
            "With N = 1500, the price is 99.99\n",
            "With N = 2000, the price is 100.00\n",
            "With N = 2500, the price is 100.00\n"
          ]
        }
      ]
    },
    {
      "cell_type": "code",
      "source": [
        "import matplotlib.pyplot as plt\n",
        "\n",
        "N = [1, 10, 100, 200, 300, 400, 500, 600, 700, 800, 900, 1000, 1500, 2000, 2500]\n",
        "plt.plot(N, np.array(price_array))\n",
        "plt.title(\"Convergence with steps\")\n",
        "plt.xlabel(\"Steps\")\n",
        "plt.ylabel(\"Price\")\n",
        "plt.grid(True)\n",
        "plt.show()"
      ],
      "metadata": {
        "colab": {
          "base_uri": "https://localhost:8080/",
          "height": 472
        },
        "id": "CSwt313fU5TO",
        "outputId": "84b8e42a-33c7-4350-87c7-d99354712ff4"
      },
      "execution_count": 34,
      "outputs": [
        {
          "output_type": "display_data",
          "data": {
            "text/plain": [
              "<Figure size 640x480 with 1 Axes>"
            ],
            "image/png": "[encoded data removed]"
          },
          "metadata": {}
        }
      ]
    },
    {
      "cell_type": "code",
      "source": [
        "# Delta hedging Put Binomial tree\n",
        "\n",
        "def binomial_put_delta(S_o, K, T, r, u, d, N):\n",
        "  dt = T / N\n",
        "  p = (np.exp(r * dt) - d) / (u - d)\n",
        "  P = np.zeros([N + 1, N + 1])\n",
        "  S = np.zeros([N + 1, N + 1])\n",
        "  delta = np.zeros([N, N])\n",
        "\n",
        "  for i in range(0, N + 1):\n",
        "    P[N, i] = max(K - (S_o * (u ** (i)) * (d ** (N-i))), 0)\n",
        "    S[N, i] = S_o * (u ** (i)) * (d ** (N-i))\n",
        "\n",
        "  for j in range(N - 1, -1, -1):\n",
        "    for i in range(0, j + 1):\n",
        "      P[j, i] = np.exp(-r * dt) * (p * P[j + 1, i + 1] + (1 - p) * P[j + 1, i])\n",
        "      S[j, i] = S_o * (u ** (i)) * (d ** (j-i))\n",
        "      delta[j, i] = (P[j + 1, i + 1] - P[j + 1, i]) / (S[j + 1, i + 1] - S[j + 1, i])\n",
        "\n",
        "  return P[0, 0], P, S, delta"
      ],
      "metadata": {
        "id": "6heqL2z0Vn0v"
      },
      "execution_count": 41,
      "outputs": []
    },
    {
      "cell_type": "code",
      "source": [
        "price, put, S, delta = binomial_put_delta(100, 90, 10, 0, 1.2, 0.8, 4)\n",
        "print(\"Underlying: \\n\", S)\n",
        "print(\"put Price: \\n\", put)\n",
        "print(\"Delta: \\n\", delta)"
      ],
      "metadata": {
        "colab": {
          "base_uri": "https://localhost:8080/"
        },
        "id": "jqWBpiyZWuFQ",
        "outputId": "ec4fcb6a-59a4-4472-ca9e-0174fa2a7d31"
      },
      "execution_count": 42,
      "outputs": [
        {
          "output_type": "stream",
          "name": "stdout",
          "text": [
            "Underlying: \n",
            " [[100.     0.     0.     0.     0.  ]\n",
            " [ 80.   120.     0.     0.     0.  ]\n",
            " [ 64.    96.   144.     0.     0.  ]\n",
            " [ 51.2   76.8  115.2  172.8    0.  ]\n",
            " [ 40.96  61.44  92.16 138.24 207.36]]\n",
            "put Price: \n",
            " [[10.205  0.     0.     0.     0.   ]\n",
            " [16.84   3.57   0.     0.     0.   ]\n",
            " [26.54   7.14   0.     0.     0.   ]\n",
            " [38.8   14.28   0.     0.     0.   ]\n",
            " [49.04  28.56   0.     0.     0.   ]]\n",
            "Delta: \n",
            " [[-0.33175    0.         0.         0.       ]\n",
            " [-0.60625   -0.14875    0.         0.       ]\n",
            " [-0.9578125 -0.371875   0.         0.       ]\n",
            " [-1.        -0.9296875  0.         0.       ]]\n"
          ]
        }
      ]
    },
    {
      "cell_type": "code",
      "source": [
        "price_array = []\n",
        "for N in [1, 10, 100, 200, 300, 400, 500, 600, 700, 800, 900, 1000, 1500, 2000, 2500]:\n",
        "  price, call, S, delta = binomial_put_delta(100, 90, 10, 0, 1.2, 0.8, N)\n",
        "  price_array.append(price)\n",
        "  print(\"With N = {:3d}, the price is {:.2f}\".format(N, price))"
      ],
      "metadata": {
        "colab": {
          "base_uri": "https://localhost:8080/"
        },
        "id": "qbhC14FKW43v",
        "outputId": "4265507a-21aa-4738-9d25-e6974c103082"
      },
      "execution_count": 43,
      "outputs": [
        {
          "output_type": "stream",
          "name": "stdout",
          "text": [
            "With N =   1, the price is 5.00\n",
            "With N =  10, the price is 19.38\n",
            "With N = 100, the price is 60.32\n",
            "With N = 200, the price is 75.40\n",
            "With N = 300, the price is 82.33\n",
            "With N = 400, the price is 85.84\n",
            "With N = 500, the price is 87.70\n",
            "With N = 600, the price is 88.71\n",
            "With N = 700, the price is 89.27\n",
            "With N = 800, the price is 89.58\n",
            "With N = 900, the price is 89.76\n",
            "With N = 1000, the price is 89.86\n",
            "With N = 1500, the price is 89.99\n",
            "With N = 2000, the price is 90.00\n",
            "With N = 2500, the price is 90.00\n"
          ]
        }
      ]
    },
    {
      "cell_type": "code",
      "source": [
        "import matplotlib.pyplot as plt\n",
        "\n",
        "N = [1, 10, 100, 200, 300, 400, 500, 600, 700, 800, 900, 1000, 1500, 2000, 2500]\n",
        "plt.plot(N, np.array(price_array))\n",
        "plt.title(\"Convergence with steps\")\n",
        "plt.xlabel(\"Steps\")\n",
        "plt.ylabel(\"Price\")\n",
        "plt.grid(True)\n",
        "plt.show()"
      ],
      "metadata": {
        "colab": {
          "base_uri": "https://localhost:8080/",
          "height": 472
        },
        "id": "q5EVt3AhYC9g",
        "outputId": "8e68c37a-06c2-4043-a902-92fb0f15618e"
      },
      "execution_count": 44,
      "outputs": [
        {
          "output_type": "display_data",
          "data": {
            "text/plain": [
              "<Figure size 640x480 with 1 Axes>"
            ],
            "image/png": "[encoded data removed]"
          },
          "metadata": {}
        }
      ]
    },
    {
      "cell_type": "code",
      "source": [
        "# Adjusting Volatility Call option\n",
        "\n",
        "def call_option_delta(S_o, K, T, r, sigma, N):\n",
        "  dt = T / N\n",
        "  u = (np.exp(sigma * np.sqrt(dt)))\n",
        "  d = (np.exp(-sigma * np.sqrt(dt)))\n",
        "  p = (np.exp(r * dt) - d) / (u - d)\n",
        "  C = np.zeros([N+1, N+1])\n",
        "  S = np.zeros([N+1, N+1])\n",
        "  delta = np.zeros([N, N])\n",
        "\n",
        "  for i in range(0, N+1):\n",
        "    C[N, i] = max(S_o * (u ** (i)) * (d ** (N-i)) - K, 0)\n",
        "    S[N, i] = S_o * (u ** (i)) * (d ** (N-i))\n",
        "\n",
        "  for j in range(N-1, -1, -1):\n",
        "    for i in range(0, j+1):\n",
        "      C[j, i] = np.exp(-r * dt) * (p * C[j+1, i+1] + (1-p) * C[j+1, i])\n",
        "      S[j, i] = S_o * (u ** (i)) * (d ** (j-i))\n",
        "      delta[j, i] = (C[j + 1, i + 1] - C[j + 1, i]) / (S[j + 1, i + 1] - S[j + 1, i])\n",
        "\n",
        "  return C[0, 0], C, S, delta"
      ],
      "metadata": {
        "id": "CvLRKKlRZAWH"
      },
      "execution_count": 50,
      "outputs": []
    },
    {
      "cell_type": "code",
      "source": [
        "price_array = []\n",
        "for N in [1, 10, 100, 200, 300, 400, 500, 600, 700, 800, 900, 1000, 1500, 2000, 2500]:\n",
        "    call_price, C, S, delta = call_option_delta(100, 90, 1, 0, 0.3, N)\n",
        "    price_array.append(call_price)\n",
        "    print(\"With N = {:3d}, the price is {:.2f}\".format(N, call_price))"
      ],
      "metadata": {
        "colab": {
          "base_uri": "https://localhost:8080/"
        },
        "id": "su7C7eEfbSuB",
        "outputId": "d8cbf3a5-fa3c-4fef-c78d-46b8155dd3a5"
      },
      "execution_count": 51,
      "outputs": [
        {
          "output_type": "stream",
          "name": "stdout",
          "text": [
            "With N =   1, the price is 19.14\n",
            "With N =  10, the price is 17.26\n",
            "With N = 100, the price is 17.02\n",
            "With N = 200, the price is 17.03\n",
            "With N = 300, the price is 17.01\n",
            "With N = 400, the price is 17.02\n",
            "With N = 500, the price is 17.01\n",
            "With N = 600, the price is 17.02\n",
            "With N = 700, the price is 17.02\n",
            "With N = 800, the price is 17.01\n",
            "With N = 900, the price is 17.01\n",
            "With N = 1000, the price is 17.02\n",
            "With N = 1500, the price is 17.01\n",
            "With N = 2000, the price is 17.01\n",
            "With N = 2500, the price is 17.01\n"
          ]
        }
      ]
    },
    {
      "cell_type": "code",
      "source": [
        "import matplotlib.pyplot as plt\n",
        "\n",
        "N = [1, 10, 100, 200, 300, 400, 500, 600, 700, 800, 900, 1000, 1500, 2000, 2500]\n",
        "plt.plot(N, np.array(price_array))\n",
        "plt.title(\"Convergency with steps\")\n",
        "plt.xlabel(\"Number of steps (N)\")\n",
        "plt.ylabel(\"Option Price\")\n",
        "plt.grid(True)\n",
        "plt.show()"
      ],
      "metadata": {
        "colab": {
          "base_uri": "https://localhost:8080/",
          "height": 472
        },
        "id": "QmwiBwt5bUcX",
        "outputId": "2092854a-fc03-4a1f-dace-257aec26b365"
      },
      "execution_count": 52,
      "outputs": [
        {
          "output_type": "display_data",
          "data": {
            "text/plain": [
              "<Figure size 640x480 with 1 Axes>"
            ],
            "image/png": "[encoded data removed]"
          },
          "metadata": {}
        }
      ]
    },
    {
      "cell_type": "code",
      "source": [
        "# Adjusting Volatility put option\n",
        "\n",
        "def put_option_delta(S_o, K, T, r, sigma, N):\n",
        "  dt = T / N\n",
        "  u = (np.exp(sigma * np.sqrt(dt)))\n",
        "  d = (np.exp(-sigma * np.sqrt(dt)))\n",
        "  p = (np.exp(r * dt) - d) / (u - d)\n",
        "  P = np.zeros([N+1, N+1])\n",
        "  S = np.zeros([N+1, N+1])\n",
        "  delta = np.zeros([N, N])\n",
        "\n",
        "  for i in range(0, N+1):\n",
        "    C[N, i] = max(K - (S_o * (u ** (i)) * (d ** (N-i))), 0)\n",
        "    S[N, i] = S_o * (u ** (i)) * (d ** (N-i))\n",
        "\n",
        "  for j in range(N-1, -1, -1):\n",
        "    for i in range(0, j+1):\n",
        "      C[j, i] = np.exp(-r * dt) * (p * P[j+1, i+1] + (1-p) * P[j+1, i])\n",
        "      S[j, i] = S_o * (u ** (i)) * (d ** (j-i))\n",
        "      delta[j, i] = (P[j + 1, i + 1] - P[j + 1, i]) / (S[j + 1, i + 1] - S[j + 1, i])\n",
        "\n",
        "  return P[0, 0], P, S, delta"
      ],
      "metadata": {
        "id": "Yo17-2n5bqYH"
      },
      "execution_count": 53,
      "outputs": []
    },
    {
      "cell_type": "code",
      "source": [
        "price_array = []\n",
        "for N in [1, 10, 100, 200, 300, 400, 500, 600, 700, 800, 900, 1000, 1500, 2000, 2500]:\n",
        "    put_price, P, S, delta = put_option_delta(100, 90, 1, 0, 0.3, N)\n",
        "    price_array.append(put_price)\n",
        "    print(\"With N = {:3d}, the price is {:.2f}\".format(N, put_price))"
      ],
      "metadata": {
        "colab": {
          "base_uri": "https://localhost:8080/"
        },
        "id": "5eTeyzKdb-Ly",
        "outputId": "4695de82-b277-4ffc-a5cf-4c4f5f6500ba"
      },
      "execution_count": 54,
      "outputs": [
        {
          "output_type": "stream",
          "name": "stdout",
          "text": [
            "With N =   1, the price is 0.00\n",
            "With N =  10, the price is 0.00\n",
            "With N = 100, the price is 0.00\n",
            "With N = 200, the price is 0.00\n",
            "With N = 300, the price is 0.00\n",
            "With N = 400, the price is 0.00\n",
            "With N = 500, the price is 0.00\n",
            "With N = 600, the price is 0.00\n",
            "With N = 700, the price is 0.00\n",
            "With N = 800, the price is 0.00\n",
            "With N = 900, the price is 0.00\n",
            "With N = 1000, the price is 0.00\n",
            "With N = 1500, the price is 0.00\n",
            "With N = 2000, the price is 0.00\n",
            "With N = 2500, the price is 0.00\n"
          ]
        }
      ]
    },
    {
      "cell_type": "code",
      "source": [
        "import matplotlib.pyplot as plt\n",
        "\n",
        "N = [1, 10, 100, 200, 300, 400, 500, 600, 700, 800, 900, 1000, 1500, 2000, 2500]\n",
        "plt.plot(N, np.array(price_array))\n",
        "plt.title(\"Convergency with steps\")\n",
        "plt.xlabel(\"Number of steps (N)\")\n",
        "plt.ylabel(\"Option Price\")\n",
        "plt.grid(True)\n",
        "plt.show()"
      ],
      "metadata": {
        "colab": {
          "base_uri": "https://localhost:8080/",
          "height": 472
        },
        "id": "aINkF7MXcKAv",
        "outputId": "a91cd1c7-3037-428b-9edd-945706277162"
      },
      "execution_count": 55,
      "outputs": [
        {
          "output_type": "display_data",
          "data": {
            "text/plain": [
              "<Figure size 640x480 with 1 Axes>"
            ],
            "image/png": "[encoded data removed]"
          },
          "metadata": {}
        }
      ]
    },
    {
      "cell_type": "code",
      "source": [],
      "metadata": {
        "id": "fLEpd1PbcSsn"
      },
      "execution_count": null,
      "outputs": []
    }
  ]
}