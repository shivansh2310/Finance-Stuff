{
  "nbformat": 4,
  "nbformat_minor": 0,
  "metadata": {
    "colab": {
      "provenance": [],
      "authorship_tag": "ABX9TyMxTqWth76N9Dac7NKvhsAv",
      "include_colab_link": true
    },
    "kernelspec": {
      "name": "python3",
      "display_name": "Python 3"
    },
    "language_info": {
      "name": "python"
    }
  },
  "cells": [
    {
      "cell_type": "markdown",
      "metadata": {
        "id": "view-in-github",
        "colab_type": "text"
      },
      "source": [
        "<a href=\"https://colab.research.google.com/github/shivansh2310/Finance-Stuff/blob/main/Black_Scholes_Model_in_Python.ipynb\" target=\"_parent\"><img src=\"https://colab.research.google.com/assets/colab-badge.svg\" alt=\"Open In Colab\"/></a>"
      ]
    },
    {
      "cell_type": "code",
      "execution_count": 1,
      "metadata": {
        "id": "2YpONfJIYElw"
      },
      "outputs": [],
      "source": [
        "import numpy as np\n",
        "from scipy.stats import norm"
      ]
    },
    {
      "cell_type": "code",
      "source": [
        "#This function calculates the value of the European option based on Black-Scholes formula\n",
        "\n",
        "def black_scholes_calc(S0, K, r, T, sigma, option_type):\n",
        "  d1 = 1/(sigma*np.sqrt(T)) * (np.log(S0/K) + (r+sigma**2/2)*T)\n",
        "  d2 = d1 - sigma*np.sqrt(T)\n",
        "\n",
        "  nd1 = norm.cdf(d1)\n",
        "  nd2 = norm.cdf(d2)\n",
        "\n",
        "  n_d1 = norm.cdf(-d1)\n",
        "  n_d2 = norm.cdf(-d2)\n",
        "\n",
        "  #Put and call Formula\n",
        "\n",
        "  c = nd1*S0 - nd2*K*np.exp(-r*T)   \n",
        "  p = K*np.exp(-r*T)*n_d2 - S0*n_d1\n",
        "\n",
        "# 4) define which value to return based on the option_type parameter\n",
        "  if option_type=='call':\n",
        "    return c\n",
        "  elif option_type=='put':\n",
        "    return p\n",
        "  else:\n",
        "    print('Wrong option type specified')\n",
        "\n"
      ],
      "metadata": {
        "id": "AwM30V3PmYpf"
      },
      "execution_count": 4,
      "outputs": []
    },
    {
      "cell_type": "code",
      "source": [
        "S0=8.; K=9.; T=3/12.; r=.01; sigma=.2\n",
        "black_scholes_calc(S0, K, r, T, sigma, 'put')"
      ],
      "metadata": {
        "colab": {
          "base_uri": "https://localhost:8080/"
        },
        "id": "az6ohNevmdH9",
        "outputId": "2bbce5e0-22cd-446f-fd7a-b8598e19a0fd"
      },
      "execution_count": 5,
      "outputs": [
        {
          "output_type": "execute_result",
          "data": {
            "text/plain": [
              "1.0298160885134449"
            ]
          },
          "metadata": {},
          "execution_count": 5
        }
      ]
    },
    {
      "cell_type": "markdown",
      "source": [
        "Running the function gives the result of 1.0298. Recall that holding a put option means that the asset holder has a right to sell the underlying asset at the predefined price (9 in our scenario) at the specified time (in 3 months in our scenario). It is likely that the asset holder expects the price of the asset to decrease. By entering into the put option contract, she secures the opportunity to sell the asset at the price of 9, and pays 1.0298 for the contract itself. \n",
        "\n",
        "To make the profit, the asset price at the option expiry should correspond the following rule:\n",
        "\n",
        "9 – 1.0298 – Price > 0, i.e., Price < 7.97"
      ],
      "metadata": {
        "id": "1Wi9q4Oynht1"
      }
    },
    {
      "cell_type": "code",
      "source": [],
      "metadata": {
        "id": "KoCxc3EYnSW9"
      },
      "execution_count": null,
      "outputs": []
    }
  ]
}