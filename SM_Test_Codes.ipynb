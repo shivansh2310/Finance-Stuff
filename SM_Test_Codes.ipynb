{
  "nbformat": 4,
  "nbformat_minor": 0,
  "metadata": {
    "colab": {
      "provenance": [],
      "authorship_tag": "ABX9TyOncASmo4L0DG5DVFFJAEPe",
      "include_colab_link": true
    },
    "kernelspec": {
      "name": "python3",
      "display_name": "Python 3"
    },
    "language_info": {
      "name": "python"
    }
  },
  "cells": [
    {
      "cell_type": "markdown",
      "metadata": {
        "id": "view-in-github",
        "colab_type": "text"
      },
      "source": [
        "<a href=\"https://colab.research.google.com/github/shivansh2310/Finance-Stuff/blob/main/SM_Test_Codes.ipynb\" target=\"_parent\"><img src=\"https://colab.research.google.com/assets/colab-badge.svg\" alt=\"Open In Colab\"/></a>"
      ]
    },
    {
      "cell_type": "code",
      "source": [
        "import numpy as np\n",
        "from scipy.stats import norm"
      ],
      "metadata": {
        "id": "Mhx-IHsnWB1X"
      },
      "execution_count": 3,
      "outputs": []
    },
    {
      "cell_type": "code",
      "execution_count": 52,
      "metadata": {
        "id": "5uqNwsFZVqcf"
      },
      "outputs": [],
      "source": [
        "## EM Algorithm\n",
        "\n",
        "def mu_value(y_1, y_2, e_1, e_2):\n",
        "    estimate = ((e_1 * y_1) + (e_2 * y_2)) / (e_1 + e_2)\n",
        "    return estimate"
      ]
    },
    {
      "cell_type": "code",
      "source": [
        "y_1 = 0.5\n",
        "y_2 = -0.625\n",
        "e_1 = 0.55\n",
        "e_2 = 0.3"
      ],
      "metadata": {
        "id": "8mOf8a5BV0th"
      },
      "execution_count": 53,
      "outputs": []
    },
    {
      "cell_type": "code",
      "source": [
        "mu_value = mu_value(y_1, y_2, e_1, e_2)\n",
        "print(mu_value)"
      ],
      "metadata": {
        "colab": {
          "base_uri": "https://localhost:8080/"
        },
        "id": "lph0ZgVpV1-o",
        "outputId": "57bbf347-8e49-4131-a8c1-c5fbcc708a0b"
      },
      "execution_count": 54,
      "outputs": [
        {
          "output_type": "stream",
          "name": "stdout",
          "text": [
            "0.10294117647058824\n"
          ]
        }
      ]
    },
    {
      "cell_type": "code",
      "source": [
        "def sigma_value(y_1, y_2, mu, e_1, e_2):\n",
        "    nxt_1 = (y_1 - mu)**2\n",
        "    nxt_2 = (y_2 - mu)**2\n",
        "    sigma = ((e_1 * nxt_1) + (e_2 * nxt_2)) / (e_1 + e_2)\n",
        "    return sigma"
      ],
      "metadata": {
        "id": "ydTLZ4fAV3Cf"
      },
      "execution_count": 7,
      "outputs": []
    },
    {
      "cell_type": "code",
      "source": [
        "y_1 = 0.4\n",
        "y_2 = -0.5\n",
        "e_1 = 0.45\n",
        "e_2 = 0.7\n",
        "mu = -0.15"
      ],
      "metadata": {
        "id": "NlkeVCxmV4GH"
      },
      "execution_count": 8,
      "outputs": []
    },
    {
      "cell_type": "code",
      "source": [
        "sigma_value = sigma_value(y_1, y_2, mu, e_1, e_2)\n",
        "print(sigma_value)"
      ],
      "metadata": {
        "colab": {
          "base_uri": "https://localhost:8080/"
        },
        "id": "wN4hsV3kV6K2",
        "outputId": "3bce4006-2c37-4966-9e39-41da61c5468f"
      },
      "execution_count": 9,
      "outputs": [
        {
          "output_type": "stream",
          "name": "stdout",
          "text": [
            "0.19293478260869565\n"
          ]
        }
      ]
    },
    {
      "cell_type": "code",
      "source": [
        "# Kim Smoother\n",
        "\n",
        "Xi_t_t = np.array([0.1, 0.8, 0.1])\n",
        "Xi_t1_t = np.array([0.275, 0.45, 0.275])\n",
        "Xi_t1_T = np.array([0.25, 0.5, 0.25])\n",
        "\n",
        "p = np.array([\n",
        "[0.5, 0.25, 0.25],\n",
        "[0.25, 0.5, 0.25],\n",
        "[0.25, 0.25, 0.5]\n",
        "])\n",
        "\n",
        "\n",
        "division_result = Xi_t1_T / Xi_t1_t\n",
        "\n",
        "intermediate_result = np.dot(p, division_result)\n",
        "\n",
        "Xi_t_T = Xi_t_t * intermediate_result\n",
        "\n",
        "Xi_t_T /= np.sum(Xi_t_T)\n",
        "\n",
        "print(\"Smoothed probabilities Xi_t|T:\", Xi_t_T)"
      ],
      "metadata": {
        "colab": {
          "base_uri": "https://localhost:8080/"
        },
        "id": "qUAGmvEOV7qf",
        "outputId": "fe8343d9-d494-4624-a30e-c01ad14c6ea9"
      },
      "execution_count": 10,
      "outputs": [
        {
          "output_type": "stream",
          "name": "stdout",
          "text": [
            "Smoothed probabilities Xi_t|T: [0.0959596  0.80808081 0.0959596 ]\n"
          ]
        }
      ]
    },
    {
      "cell_type": "code",
      "source": [
        "#Hamilton Filter\n",
        "\n",
        "# Given values\n",
        "Xi_t_t_minus_1 = np.array([0.1, 0.9])\n",
        "y_t = 1.5\n",
        "mu = np.array([-3, 3])\n",
        "sigma = np.array([1, 1])\n",
        "P = np.array([[0.8, 0.2], [0.3, 0.7]])\n",
        "\n",
        "# Step 1: Compute predicted state probabilities\n",
        "Xi_t_t_minus_1_pred = np.dot(P.T, Xi_t_t_minus_1)\n",
        "\n",
        "# Step 2: Compute marginal likelihoods\n",
        "likelihoods = norm.pdf(y_t, mu, sigma)\n",
        "\n",
        "# Step 3: Update state probabilities\n",
        "Xi_t_t = Xi_t_t_minus_1_pred * likelihoods\n",
        "\n",
        "# Step 4: Normalize the updated probabilities\n",
        "Xi_t_t /= np.sum(Xi_t_t)\n",
        "\n",
        "print(\"Predicted state probabilities Xi_{t|t-1}:\", Xi_t_t_minus_1_pred)\n",
        "print(\"Marginal likelihoods:\", likelihoods)\n",
        "print(\"Updated state probabilities Xi_{t|t}:\", Xi_t_t)\n"
      ],
      "metadata": {
        "colab": {
          "base_uri": "https://localhost:8080/"
        },
        "id": "XhXLwReGWDM2",
        "outputId": "f3df3a52-cef4-46ec-f3e0-d3d88f7759c1"
      },
      "execution_count": 56,
      "outputs": [
        {
          "output_type": "stream",
          "name": "stdout",
          "text": [
            "Predicted state probabilities Xi_{t|t-1}: [0.35 0.65]\n",
            "Marginal likelihoods: [1.59837411e-05 1.29517596e-01]\n",
            "Updated state probabilities Xi_{t|t}: [6.64470175e-05 9.99933553e-01]\n"
          ]
        }
      ]
    },
    {
      "cell_type": "code",
      "source": [
        "import numpy as np\n",
        "from scipy.stats import norm\n",
        "\n",
        "# Given parameters\n",
        "Xi_t_t_minus_1 = np.array([0.1, 0.9])\n",
        "y_t = 1.5\n",
        "y_t_plus_1 = 2\n",
        "mu = np.array([-3, 3])\n",
        "sigma = 1\n",
        "P = np.array([[0.8, 0.2],\n",
        "              [0.3, 0.7]])\n",
        "\n",
        "# Step 1: Calculate likelihoods for y_t\n",
        "likelihoods_t = norm.pdf(y_t, mu, sigma)\n",
        "\n",
        "# Step 2: Calculate joint probabilities\n",
        "joint_probs = likelihoods_t * Xi_t_t_minus_1\n",
        "\n",
        "# Step 3: Calculate marginal likelihood\n",
        "marginal_likelihood = np.sum(joint_probs)\n",
        "\n",
        "# Step 4: Update state probabilities (Xi_t|t)\n",
        "Xi_t_t = joint_probs / marginal_likelihood\n",
        "\n",
        "# Step 5: Forecast state probabilities for t+1\n",
        "Xi_t_plus_1_t = P.T @ Xi_t_t\n",
        "\n",
        "# Step 6: Calculate likelihoods for y_t+1\n",
        "likelihoods_t_plus_1 = norm.pdf(y_t_plus_1, mu, sigma)\n",
        "\n",
        "# Step 7: Calculate likelihood of y_t+1\n",
        "likelihood_y_t_plus_1 = np.sum(likelihoods_t_plus_1 * Xi_t_plus_1_t)\n",
        "\n",
        "print(f\"Likelihood of y_t+1 = {y_t_plus_1}: {likelihood_y_t_plus_1:.6f}\")\n",
        "\n",
        "# Additional information\n",
        "print(f\"\\nUpdated state probabilities (Xi_t|t): {Xi_t_t}\")\n",
        "print(f\"Forecasted state probabilities for t+1 (Xi_t+1|t): {Xi_t_plus_1_t}\")"
      ],
      "metadata": {
        "colab": {
          "base_uri": "https://localhost:8080/"
        },
        "id": "iemBRXSIMvGn",
        "outputId": "67f42461-fc81-4fe7-c298-e8ed5712e6bb"
      },
      "execution_count": 59,
      "outputs": [
        {
          "output_type": "stream",
          "name": "stdout",
          "text": [
            "Likelihood of y_t+1 = 2: 0.169378\n",
            "\n",
            "Updated state probabilities (Xi_t|t): [1.37120124e-05 9.99986288e-01]\n",
            "Forecasted state probabilities for t+1 (Xi_t+1|t): [0.30000686 0.69999314]\n"
          ]
        }
      ]
    },
    {
      "cell_type": "code",
      "source": [
        "import numpy as np\n",
        "from scipy.stats import norm\n",
        "\n",
        "# Given parameters\n",
        "Xi_t_t_minus_1 = np.array([0.1, 0.9])\n",
        "y_t = 1.5\n",
        "y_t_plus_1 = 2\n",
        "mu = np.array([-3, 3])\n",
        "sigma = 1\n",
        "P = np.array([[0.8, 0.2],\n",
        "              [0.3, 0.7]])\n",
        "\n",
        "# Step 1: Calculate likelihoods for y_t\n",
        "likelihoods_t = norm.pdf(y_t, mu, sigma)\n",
        "\n",
        "# Step 2: Calculate joint probabilities\n",
        "joint_probs = likelihoods_t * Xi_t_t_minus_1\n",
        "\n",
        "# Step 3: Calculate marginal likelihood\n",
        "marginal_likelihood = np.sum(joint_probs)\n",
        "\n",
        "# Step 4: Update state probabilities (Xi_t|t)\n",
        "Xi_t_t = joint_probs / marginal_likelihood\n",
        "\n",
        "# Step 5: Forecast state probabilities for t+1\n",
        "Xi_t_plus_1_t = P.T @ Xi_t_t\n",
        "\n",
        "# Step 6: Calculate likelihoods for y_t+1\n",
        "likelihoods_t_plus_1 = norm.pdf(y_t_plus_1, mu, sigma)\n",
        "\n",
        "# Step 7: Calculate likelihood of y_t+1\n",
        "likelihood_y_t_plus_1 = np.sum(likelihoods_t_plus_1 * Xi_t_plus_1_t)\n",
        "\n",
        "print(f\"Likelihood of y_t+1 = {y_t_plus_1}: {likelihood_y_t_plus_1:.6f}\")\n",
        "\n",
        "# Additional information\n",
        "print(f\"\\nUpdated state probabilities (Xi_t|t): {Xi_t_t}\")\n",
        "print(f\"Forecasted state probabilities for t+1 (Xi_t+1|t): {Xi_t_plus_1_t}\")\n"
      ],
      "metadata": {
        "colab": {
          "base_uri": "https://localhost:8080/"
        },
        "id": "BkLFg1zoTcVx",
        "outputId": "daa97924-4fae-4bb5-c6c2-ab10c51fe797"
      },
      "execution_count": 61,
      "outputs": [
        {
          "output_type": "stream",
          "name": "stdout",
          "text": [
            "Likelihood of y_t+1 = 2: 0.169378\n",
            "\n",
            "Updated state probabilities (Xi_t|t): [1.37120124e-05 9.99986288e-01]\n",
            "Forecasted state probabilities for t+1 (Xi_t+1|t): [0.30000686 0.69999314]\n"
          ]
        }
      ]
    },
    {
      "cell_type": "code",
      "source": [
        "# Tauchen method\n",
        "\n",
        "# Parameters\n",
        "rho = 0.9\n",
        "sigma_e = 0.2\n",
        "lambda_param = 2\n",
        "N = 3\n",
        "\n",
        "# Standard deviation of the stationary distribution\n",
        "sigma_z = sigma_e / np.sqrt(1 - rho**2)\n",
        "\n",
        "# Grid points\n",
        "z = np.linspace(-lambda_param * sigma_z, lambda_param * sigma_z, N)\n",
        "\n",
        "# Transition matrix\n",
        "P = np.zeros((N, N))\n",
        "delta_z = z[1] - z[0]\n",
        "\n",
        "for i in range(N):\n",
        "    for j in range(N):\n",
        "        if j == 0:\n",
        "            P[i, j] = norm.cdf((z[j] - rho * z[i] + delta_z / 2) / sigma_e)\n",
        "        elif j == N-1:\n",
        "            P[i, j] = 1 - norm.cdf((z[j] - rho * z[i] - delta_z / 2) / sigma_e)\n",
        "        else:\n",
        "            P[i, j] = norm.cdf((z[j] - rho * z[i] + delta_z / 2) / sigma_e) - norm.cdf((z[j] - rho * z[i] - delta_z / 2) / sigma_e)\n",
        "\n",
        "print(\"Grid points:\", z)\n",
        "print(\"Transition matrix:\\n\", P)\n"
      ],
      "metadata": {
        "colab": {
          "base_uri": "https://localhost:8080/"
        },
        "id": "0_gRzUvQXWsf",
        "outputId": "5ee9edcd-4aa4-4016-cadd-05ea2d6664ed"
      },
      "execution_count": 26,
      "outputs": [
        {
          "output_type": "stream",
          "name": "stdout",
          "text": [
            "Grid points: [-0.91766294  0.          0.91766294]\n",
            "Transition matrix:\n",
            " [[9.66771290e-01 3.32287099e-02 6.65265620e-11]\n",
            " [1.08907314e-02 9.78218537e-01 1.08907314e-02]\n",
            " [6.65265899e-11 3.32287099e-02 9.66771290e-01]]\n"
          ]
        }
      ]
    },
    {
      "cell_type": "code",
      "source": [
        "# Rouwenhorst Method\n",
        "\n",
        "def rouwen_method(RHO, SIGMA, N_GRID):\n",
        "    p_rouwen = (1 + RHO) * 0.5\n",
        "    q_rouwen = p_rouwen\n",
        "    start_rouwen = -(((N_GRID - 1) / (1 - RHO**2)) ** 0.5) * SIGMA\n",
        "    end_rouwen = -start_rouwen\n",
        "    zgrid_rouwen = np.linspace(start_rouwen, end_rouwen, N_GRID)\n",
        "    P_rouwen = np.append(\n",
        "        [[p_rouwen, 1.0 - p_rouwen]], [[1 - q_rouwen, q_rouwen]], axis=0\n",
        "    )\n",
        "\n",
        "    for i in range(2, N_GRID):\n",
        "        m1 = np.append(P_rouwen, np.zeros((i, 1)), axis=1)\n",
        "        m1 = np.append(m1, np.zeros((1, i + 1)), axis=0)\n",
        "        m2 = np.append(np.zeros((i, 1)), P_rouwen, axis=1)\n",
        "        m2 = np.append(m2, np.zeros((1, i + 1)), axis=0)\n",
        "        m3 = np.append(P_rouwen, np.zeros((i, 1)), axis=1)\n",
        "        m3 = np.append(np.zeros((1, i + 1)), m3, axis=0)\n",
        "        m4 = np.append(np.zeros((i, 1)), P_rouwen, axis=1)\n",
        "        m4 = np.append(np.zeros((1, i + 1)), m4, axis=0)\n",
        "\n",
        "        P_rouwen = (\n",
        "            p_rouwen * m1 + (1 - p_rouwen) * m2 + (1 - q_rouwen) * m3 + q_rouwen * m4\n",
        "        )\n",
        "        P_rouwen[1:i, :] = 0.5 * P_rouwen[1:i, :]\n",
        "\n",
        "    return P_rouwen, zgrid_rouwen"
      ],
      "metadata": {
        "id": "QKgSeWE-h64k"
      },
      "execution_count": 13,
      "outputs": []
    },
    {
      "cell_type": "code",
      "source": [
        "# Fix the parameters\n",
        "RHO = 0.5\n",
        "SIGMA = 0.1\n",
        "N_GRID = 3\n",
        "LAMBDA = 2.0"
      ],
      "metadata": {
        "id": "BjFbzTYqjSco"
      },
      "execution_count": 14,
      "outputs": []
    },
    {
      "cell_type": "code",
      "source": [
        "P_rouwen, zgrid_rouwen = rouwen_method(RHO, SIGMA, N_GRID)"
      ],
      "metadata": {
        "id": "wOJgBNDZjPNd"
      },
      "execution_count": 15,
      "outputs": []
    },
    {
      "cell_type": "code",
      "source": [
        "print(P_rouwen)"
      ],
      "metadata": {
        "colab": {
          "base_uri": "https://localhost:8080/"
        },
        "id": "T5Bygz9pjVVI",
        "outputId": "5cdd88e3-6491-4a07-bf35-88173cc95c37"
      },
      "execution_count": 16,
      "outputs": [
        {
          "output_type": "stream",
          "name": "stdout",
          "text": [
            "[[0.5625 0.375  0.0625]\n",
            " [0.1875 0.625  0.1875]\n",
            " [0.0625 0.375  0.5625]]\n"
          ]
        }
      ]
    },
    {
      "cell_type": "code",
      "source": [
        "print(zgrid_rouwen)"
      ],
      "metadata": {
        "colab": {
          "base_uri": "https://localhost:8080/"
        },
        "id": "D0hBaJHHjYZZ",
        "outputId": "feea7a8b-cdb3-4a85-da8a-7feae592b1f9"
      },
      "execution_count": 17,
      "outputs": [
        {
          "output_type": "stream",
          "name": "stdout",
          "text": [
            "[-0.16329932  0.          0.16329932]\n"
          ]
        }
      ]
    },
    {
      "cell_type": "code",
      "source": [
        "# Given transition matrix\n",
        "p = np.array([[57, 24, 15],\n",
        "              [10, 45, 78],\n",
        "              [12, 37, 5]])\n",
        "\n",
        "# Number of states\n",
        "num_states = p.shape[0]\n",
        "\n",
        "# Number of simulations\n",
        "num_simulations = 10000\n",
        "\n",
        "# Set the seed for reproducibility\n",
        "np.random.seed(12345)\n",
        "\n",
        "# Initialize the count matrix\n",
        "count_matrix = np.zeros((num_states, num_states), dtype=int)\n",
        "\n",
        "# Initialize process s_0, start at state 0\n",
        "current_state = np.random.choice(num_states)\n",
        "\n",
        "# Simulate the Markov Chain\n",
        "for _ in range(num_simulations):\n",
        "    next_state = np.random.choice(num_states, p=p[current_state])\n",
        "    count_matrix[current_state, next_state] += 1\n",
        "    current_state = next_state\n",
        "\n",
        "# Print the count matrix\n",
        "print(\"Transition count matrix:\")\n",
        "print(count_matrix)\n",
        "\n",
        "# Optional: Normalize the count matrix to get the estimated transition matrix\n",
        "Pest = (count_matrix.T / np.sum(count_matrix, axis=1)).T\n",
        "print(\"Estimated transition matrix:\")\n",
        "print(Pest)\n",
        "\n",
        "\n"
      ],
      "metadata": {
        "colab": {
          "base_uri": "https://localhost:8080/",
          "height": 245
        },
        "id": "AruTxGOSja8A",
        "outputId": "757d50dc-72a1-43fa-a3c6-4ef55f70eb97"
      },
      "execution_count": 40,
      "outputs": [
        {
          "output_type": "error",
          "ename": "ValueError",
          "evalue": "probabilities do not sum to 1",
          "traceback": [
            "\u001b[0;31m---------------------------------------------------------------------------\u001b[0m",
            "\u001b[0;31mValueError\u001b[0m                                Traceback (most recent call last)",
            "\u001b[0;32m<ipython-input-40-e7bfbfa59646>\u001b[0m in \u001b[0;36m<cell line: 22>\u001b[0;34m()\u001b[0m\n\u001b[1;32m     21\u001b[0m \u001b[0;31m# Simulate the Markov Chain\u001b[0m\u001b[0;34m\u001b[0m\u001b[0;34m\u001b[0m\u001b[0m\n\u001b[1;32m     22\u001b[0m \u001b[0;32mfor\u001b[0m \u001b[0m_\u001b[0m \u001b[0;32min\u001b[0m \u001b[0mrange\u001b[0m\u001b[0;34m(\u001b[0m\u001b[0mnum_simulations\u001b[0m\u001b[0;34m)\u001b[0m\u001b[0;34m:\u001b[0m\u001b[0;34m\u001b[0m\u001b[0;34m\u001b[0m\u001b[0m\n\u001b[0;32m---> 23\u001b[0;31m     \u001b[0mnext_state\u001b[0m \u001b[0;34m=\u001b[0m \u001b[0mnp\u001b[0m\u001b[0;34m.\u001b[0m\u001b[0mrandom\u001b[0m\u001b[0;34m.\u001b[0m\u001b[0mchoice\u001b[0m\u001b[0;34m(\u001b[0m\u001b[0mnum_states\u001b[0m\u001b[0;34m,\u001b[0m \u001b[0mp\u001b[0m\u001b[0;34m=\u001b[0m\u001b[0mp\u001b[0m\u001b[0;34m[\u001b[0m\u001b[0mcurrent_state\u001b[0m\u001b[0;34m]\u001b[0m\u001b[0;34m)\u001b[0m\u001b[0;34m\u001b[0m\u001b[0;34m\u001b[0m\u001b[0m\n\u001b[0m\u001b[1;32m     24\u001b[0m     \u001b[0mcount_matrix\u001b[0m\u001b[0;34m[\u001b[0m\u001b[0mcurrent_state\u001b[0m\u001b[0;34m,\u001b[0m \u001b[0mnext_state\u001b[0m\u001b[0;34m]\u001b[0m \u001b[0;34m+=\u001b[0m \u001b[0;36m1\u001b[0m\u001b[0;34m\u001b[0m\u001b[0;34m\u001b[0m\u001b[0m\n\u001b[1;32m     25\u001b[0m     \u001b[0mcurrent_state\u001b[0m \u001b[0;34m=\u001b[0m \u001b[0mnext_state\u001b[0m\u001b[0;34m\u001b[0m\u001b[0;34m\u001b[0m\u001b[0m\n",
            "\u001b[0;32mmtrand.pyx\u001b[0m in \u001b[0;36mnumpy.random.mtrand.RandomState.choice\u001b[0;34m()\u001b[0m\n",
            "\u001b[0;31mValueError\u001b[0m: probabilities do not sum to 1"
          ]
        }
      ]
    },
    {
      "cell_type": "code",
      "source": [
        "# Stationary Disribution\n",
        "\n",
        "\n",
        "P = np.array([\n",
        "    [0.2, 0.8],\n",
        "    [0.75, 0.25]\n",
        "])\n",
        "\n",
        "\n",
        "p_stat = 0.5 * np.ones((2))\n",
        "for t in range(1, 100):\n",
        "    p_stat = np.dot(P.T, p_stat)\n",
        "\n",
        "print(p_stat)"
      ],
      "metadata": {
        "colab": {
          "base_uri": "https://localhost:8080/"
        },
        "id": "DGrT6YUEGp8Z",
        "outputId": "2475691b-0ec5-4139-f6e1-e5fdf1df29a5"
      },
      "execution_count": 25,
      "outputs": [
        {
          "output_type": "stream",
          "name": "stdout",
          "text": [
            "[0.48387097 0.51612903]\n"
          ]
        }
      ]
    },
    {
      "cell_type": "code",
      "source": [
        "import numpy as np\n",
        "from scipy.stats import norm\n",
        "\n",
        "# Given values\n",
        "Xi_t_t_minus_1 = np.array([0.1, 0.9])\n",
        "y_t = 1.5\n",
        "mu = np.array([-3, 3])\n",
        "P = np.array([[0.8, 0.2], [0.3, 0.7]])\n",
        "#sigma = np.array([1, 1])  # Assuming standard deviation is 1 for this example\n",
        "\n",
        "# Step 1: Compute predicted state probabilities\n",
        "Xi_t_t_minus_1_pred = np.dot(P.T, Xi_t_t_minus_1)\n",
        "print(\"Predicted state probabilities Xi_{t|t-1}:\", Xi_t_t_minus_1_pred)\n",
        "\n",
        "# Step 2: Calculate conditional densities\n",
        "#f_t = norm.pdf(y_t, mu, sigma)\n",
        "\n",
        "# Step 3: Calculate joint probabilities\n",
        "#f_t_Xi_t_t_minus_1_pred = f_t * Xi_t_t_minus_1_pred\n",
        "\n",
        "# Step 4: Calculate the unconditional density\n",
        "#f_t_sum = np.sum(f_t_Xi_t_t_minus_1_pred)\n",
        "\n",
        "# Step 5: Update state probabilities\n",
        "#Xi_t_t = f_t_Xi_t_t_minus_1_pred / f_t_sum\n",
        "\n",
        "# Step 6: Calculate optimal forecast for each state\n",
        "#optimal_forecasts = mu\n",
        "\n",
        "#print(\"Optimal forecasts for each state:\", optimal_forecasts)\n",
        "print(\"Updated state probabilities Xi_{t|t}:\", Xi_t_t)"
      ],
      "metadata": {
        "id": "Po0MiZbaH8jQ",
        "colab": {
          "base_uri": "https://localhost:8080/"
        },
        "outputId": "8754c3ac-cc78-4a85-92c1-2569fa558c70"
      },
      "execution_count": 39,
      "outputs": [
        {
          "output_type": "stream",
          "name": "stdout",
          "text": [
            "Predicted state probabilities Xi_{t|t-1}: [0.35 0.65]\n",
            "Updated state probabilities Xi_{t|t}: [0.88079708 0.11920292]\n"
          ]
        }
      ]
    },
    {
      "cell_type": "code",
      "source": [
        "import numpy as np\n",
        "from numpy.random import seed, rand\n",
        "\n",
        "# seed random number generator\n",
        "seed(12345)\n",
        "TARGET_PURSE = 12\n",
        "INIT_PURSE = 3\n",
        "N_STATES = TARGET_PURSE + 1\n",
        "S = np.zeros((N_STATES, 1))\n",
        "P = np.zeros((N_STATES, N_STATES))\n",
        "P[0, 0] = 1.0\n",
        "P[N_STATES - 1, N_STATES - 1] = 1.0\n",
        "for ii in range(1, N_STATES - 1):\n",
        "    for jj in range(0, N_STATES):\n",
        "        if jj == ii - 1 or jj == ii + 1:\n",
        "            P[ii, jj] = 0.5\n",
        "print(\"Transition matrix:\\n\", P)\n",
        "\n",
        "N_HISTORIES = 5000  # number of histories or simulations\n",
        "LEN_HIST = 200  # Length of each simulation\n",
        "histories = np.zeros((N_HISTORIES, LEN_HIST))\n",
        "histories[:, 0] = INIT_PURSE * np.ones(N_HISTORIES)\n",
        "randarray = rand(N_HISTORIES, LEN_HIST)\n",
        "for i in range(0, N_HISTORIES):\n",
        "    for j in range(1, LEN_HIST):\n",
        "        histories[i, j] = (\n",
        "            histories[i, j - 1] + (randarray[i, j] >= 0.5) - (randarray[i, j] < 0.5)\n",
        "        )\n",
        "        if histories[i, j] == TARGET_PURSE or histories[i, j] < 1:\n",
        "            histories[i, j + 1 : LEN_HIST + 1] = histories[i, j]  # noQA E203\n",
        "            break\n",
        "target_num = np.sum(np.max(histories, axis=1) == TARGET_PURSE)\n",
        "end_gamble = np.zeros(N_HISTORIES)\n",
        "end_gamble_sum = 0\n",
        "for i in range(0, N_HISTORIES):\n",
        "    if np.max(histories[i, :]) == TARGET_PURSE:\n",
        "        where_gamble_ends_T = np.where((histories[i, :] == TARGET_PURSE))\n",
        "        end_gamble[i] = where_gamble_ends_T[0][0]\n",
        "        end_gamble_sum += 1\n",
        "    elif np.min(histories[i, :]) < 1:\n",
        "        where_gamble_ends_0 = np.where((histories[i, :] < 1))\n",
        "        end_gamble[i] = where_gamble_ends_0[0][0]\n",
        "        end_gamble_sum += 1\n",
        "    else:\n",
        "        end_gamble[i] = 0.0\n",
        "broke_num = np.sum(np.min(histories, axis=1) < 1)\n",
        "print(\n",
        "    \"Probability of getting the target:\",\n",
        "    target_num / N_HISTORIES,\n",
        "    \"\\nProbability of losing all the money:\",\n",
        "    broke_num / N_HISTORIES,\n",
        ")\n",
        "print(\n",
        "    \"Expected time until reaching a stopping result:\",\n",
        "    np.sum(end_gamble) / end_gamble_sum,\n",
        "    \"\\nTotal number of simulations:\",\n",
        "    end_gamble_sum,\n",
        ")\n",
        "\n",
        "# Calculate expected steps to reach terminal state\n",
        "Q = P[1:-1, 1:-1]  # Transition matrix for transient states\n",
        "N = np.linalg.inv(np.eye(Q.shape[0]) - Q)\n",
        "t = N.sum(axis=1)\n",
        "expected_steps = t[INIT_PURSE - 1]  # -1 because Python uses 0-based indexing\n",
        "\n",
        "print(f\"Expected steps needed to reach the terminal state: {expected_steps}\")"
      ],
      "metadata": {
        "colab": {
          "base_uri": "https://localhost:8080/"
        },
        "id": "5nhX9E0aE4Or",
        "outputId": "12e91cdd-0fb8-4326-fe2d-49a93ec6bd87"
      },
      "execution_count": 38,
      "outputs": [
        {
          "output_type": "stream",
          "name": "stdout",
          "text": [
            "Transition matrix:\n",
            " [[1.  0.  0.  0.  0.  0.  0.  0.  0.  0.  0.  0.  0. ]\n",
            " [0.5 0.  0.5 0.  0.  0.  0.  0.  0.  0.  0.  0.  0. ]\n",
            " [0.  0.5 0.  0.5 0.  0.  0.  0.  0.  0.  0.  0.  0. ]\n",
            " [0.  0.  0.5 0.  0.5 0.  0.  0.  0.  0.  0.  0.  0. ]\n",
            " [0.  0.  0.  0.5 0.  0.5 0.  0.  0.  0.  0.  0.  0. ]\n",
            " [0.  0.  0.  0.  0.5 0.  0.5 0.  0.  0.  0.  0.  0. ]\n",
            " [0.  0.  0.  0.  0.  0.5 0.  0.5 0.  0.  0.  0.  0. ]\n",
            " [0.  0.  0.  0.  0.  0.  0.5 0.  0.5 0.  0.  0.  0. ]\n",
            " [0.  0.  0.  0.  0.  0.  0.  0.5 0.  0.5 0.  0.  0. ]\n",
            " [0.  0.  0.  0.  0.  0.  0.  0.  0.5 0.  0.5 0.  0. ]\n",
            " [0.  0.  0.  0.  0.  0.  0.  0.  0.  0.5 0.  0.5 0. ]\n",
            " [0.  0.  0.  0.  0.  0.  0.  0.  0.  0.  0.5 0.  0.5]\n",
            " [0.  0.  0.  0.  0.  0.  0.  0.  0.  0.  0.  0.  1. ]]\n",
            "Probability of getting the target: 0.2468 \n",
            "Probability of losing all the money: 0.7526\n",
            "Expected time until reaching a stopping result: 27.09605763458075 \n",
            "Total number of simulations: 4997\n",
            "Expected steps needed to reach the terminal state: 27.0\n"
          ]
        }
      ]
    },
    {
      "cell_type": "code",
      "source": [
        "import numpy as np\n",
        "\n",
        "# Given transition count matrix\n",
        "P_count = np.array([\n",
        "    [57, 24, 15],\n",
        "    [10, 45, 78],\n",
        "    [12, 37, 5]\n",
        "])\n",
        "\n",
        "# Calculate row sums\n",
        "row_sums = P_count.sum(axis=1)\n",
        "\n",
        "# Normalize each row to get probabilities\n",
        "P_estimated = P_count / row_sums[:, np.newaxis]\n",
        "\n",
        "print(\"Estimated transition matrix:\")\n",
        "print(np.round(P_estimated, 4))\n",
        "\n",
        "# Calculate the estimation error\n",
        "total_transitions = P_count.sum()\n",
        "estimation_error = 1 / np.sqrt(total_transitions)\n",
        "\n",
        "print(f\"\\nEstimation error: {estimation_error:.4f}\")"
      ],
      "metadata": {
        "colab": {
          "base_uri": "https://localhost:8080/"
        },
        "id": "FThpsVl0JX7j",
        "outputId": "b49dbaa4-965b-4658-9a24-74f36cdccddc"
      },
      "execution_count": 55,
      "outputs": [
        {
          "output_type": "stream",
          "name": "stdout",
          "text": [
            "Estimated transition matrix:\n",
            "[[0.5938 0.25   0.1562]\n",
            " [0.0752 0.3383 0.5865]\n",
            " [0.2222 0.6852 0.0926]]\n",
            "\n",
            "Estimation error: 0.0594\n"
          ]
        }
      ]
    },
    {
      "cell_type": "code",
      "source": [],
      "metadata": {
        "id": "L1RhjcVsLsXj"
      },
      "execution_count": null,
      "outputs": []
    }
  ]
}