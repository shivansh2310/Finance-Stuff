{
  "nbformat": 4,
  "nbformat_minor": 0,
  "metadata": {
    "colab": {
      "provenance": [],
      "authorship_tag": "ABX9TyNGe91NWsEzz5xrPo+QjOma",
      "include_colab_link": true
    },
    "kernelspec": {
      "name": "python3",
      "display_name": "Python 3"
    },
    "language_info": {
      "name": "python"
    }
  },
  "cells": [
    {
      "cell_type": "markdown",
      "metadata": {
        "id": "view-in-github",
        "colab_type": "text"
      },
      "source": [
        "<a href=\"https://colab.research.google.com/github/shivansh2310/Finance-Stuff/blob/main/Momentum_Score_.ipynb\" target=\"_parent\"><img src=\"https://colab.research.google.com/assets/colab-badge.svg\" alt=\"Open In Colab\"/></a>"
      ]
    },
    {
      "cell_type": "code",
      "source": [
        "!pip install yfinance\n"
      ],
      "metadata": {
        "colab": {
          "base_uri": "https://localhost:8080/"
        },
        "id": "MJnsbH67JLP1",
        "outputId": "eff54973-2b53-4b83-c669-6e2cbe59a2b2"
      },
      "execution_count": 2,
      "outputs": [
        {
          "output_type": "stream",
          "name": "stdout",
          "text": [
            "Looking in indexes: https://pypi.org/simple, https://us-python.pkg.dev/colab-wheels/public/simple/\n",
            "Collecting yfinance\n",
            "  Downloading yfinance-0.2.12-py2.py3-none-any.whl (59 kB)\n",
            "\u001b[2K     \u001b[90m━━━━━━━━━━━━━━━━━━━━━━━━━━━━━━━━━━━━━━━━\u001b[0m \u001b[32m59.2/59.2 KB\u001b[0m \u001b[31m2.6 MB/s\u001b[0m eta \u001b[36m0:00:00\u001b[0m\n",
            "\u001b[?25hCollecting appdirs>=1.4.4\n",
            "  Downloading appdirs-1.4.4-py2.py3-none-any.whl (9.6 kB)\n",
            "Collecting html5lib>=1.1\n",
            "  Downloading html5lib-1.1-py2.py3-none-any.whl (112 kB)\n",
            "\u001b[2K     \u001b[90m━━━━━━━━━━━━━━━━━━━━━━━━━━━━━━━━━━━━━━━\u001b[0m \u001b[32m112.2/112.2 KB\u001b[0m \u001b[31m5.1 MB/s\u001b[0m eta \u001b[36m0:00:00\u001b[0m\n",
            "\u001b[?25hRequirement already satisfied: pandas>=1.3.0 in /usr/local/lib/python3.9/dist-packages (from yfinance) (1.3.5)\n",
            "Requirement already satisfied: lxml>=4.9.1 in /usr/local/lib/python3.9/dist-packages (from yfinance) (4.9.2)\n",
            "Requirement already satisfied: multitasking>=0.0.7 in /usr/local/lib/python3.9/dist-packages (from yfinance) (0.0.11)\n",
            "Collecting frozendict>=2.3.4\n",
            "  Downloading frozendict-2.3.5-cp39-cp39-manylinux_2_17_x86_64.manylinux2014_x86_64.whl (112 kB)\n",
            "\u001b[2K     \u001b[90m━━━━━━━━━━━━━━━━━━━━━━━━━━━━━━━━━━━━━━\u001b[0m \u001b[32m112.8/112.8 KB\u001b[0m \u001b[31m10.8 MB/s\u001b[0m eta \u001b[36m0:00:00\u001b[0m\n",
            "\u001b[?25hRequirement already satisfied: numpy>=1.16.5 in /usr/local/lib/python3.9/dist-packages (from yfinance) (1.22.4)\n",
            "Collecting requests>=2.26\n",
            "  Downloading requests-2.28.2-py3-none-any.whl (62 kB)\n",
            "\u001b[2K     \u001b[90m━━━━━━━━━━━━━━━━━━━━━━━━━━━━━━━━━━━━━━━━\u001b[0m \u001b[32m62.8/62.8 KB\u001b[0m \u001b[31m6.8 MB/s\u001b[0m eta \u001b[36m0:00:00\u001b[0m\n",
            "\u001b[?25hCollecting cryptography>=3.3.2\n",
            "  Downloading cryptography-39.0.2-cp36-abi3-manylinux_2_28_x86_64.whl (4.2 MB)\n",
            "\u001b[2K     \u001b[90m━━━━━━━━━━━━━━━━━━━━━━━━━━━━━━━━━━━━━━━━\u001b[0m \u001b[32m4.2/4.2 MB\u001b[0m \u001b[31m49.6 MB/s\u001b[0m eta \u001b[36m0:00:00\u001b[0m\n",
            "\u001b[?25hRequirement already satisfied: pytz>=2022.5 in /usr/local/lib/python3.9/dist-packages (from yfinance) (2022.7.1)\n",
            "Collecting beautifulsoup4>=4.11.1\n",
            "  Downloading beautifulsoup4-4.11.2-py3-none-any.whl (129 kB)\n",
            "\u001b[2K     \u001b[90m━━━━━━━━━━━━━━━━━━━━━━━━━━━━━━━━━━━━━━\u001b[0m \u001b[32m129.4/129.4 KB\u001b[0m \u001b[31m12.8 MB/s\u001b[0m eta \u001b[36m0:00:00\u001b[0m\n",
            "\u001b[?25hCollecting soupsieve>1.2\n",
            "  Downloading soupsieve-2.4-py3-none-any.whl (37 kB)\n",
            "Requirement already satisfied: cffi>=1.12 in /usr/local/lib/python3.9/dist-packages (from cryptography>=3.3.2->yfinance) (1.15.1)\n",
            "Requirement already satisfied: six>=1.9 in /usr/local/lib/python3.9/dist-packages (from html5lib>=1.1->yfinance) (1.15.0)\n",
            "Requirement already satisfied: webencodings in /usr/local/lib/python3.9/dist-packages (from html5lib>=1.1->yfinance) (0.5.1)\n",
            "Requirement already satisfied: python-dateutil>=2.7.3 in /usr/local/lib/python3.9/dist-packages (from pandas>=1.3.0->yfinance) (2.8.2)\n",
            "Requirement already satisfied: certifi>=2017.4.17 in /usr/local/lib/python3.9/dist-packages (from requests>=2.26->yfinance) (2022.12.7)\n",
            "Requirement already satisfied: urllib3<1.27,>=1.21.1 in /usr/local/lib/python3.9/dist-packages (from requests>=2.26->yfinance) (1.26.14)\n",
            "Collecting charset-normalizer<4,>=2\n",
            "  Downloading charset_normalizer-3.1.0-cp39-cp39-manylinux_2_17_x86_64.manylinux2014_x86_64.whl (199 kB)\n",
            "\u001b[2K     \u001b[90m━━━━━━━━━━━━━━━━━━━━━━━━━━━━━━━━━━━━━━\u001b[0m \u001b[32m199.2/199.2 KB\u001b[0m \u001b[31m18.4 MB/s\u001b[0m eta \u001b[36m0:00:00\u001b[0m\n",
            "\u001b[?25hRequirement already satisfied: idna<4,>=2.5 in /usr/local/lib/python3.9/dist-packages (from requests>=2.26->yfinance) (2.10)\n",
            "Requirement already satisfied: pycparser in /usr/local/lib/python3.9/dist-packages (from cffi>=1.12->cryptography>=3.3.2->yfinance) (2.21)\n",
            "Installing collected packages: appdirs, soupsieve, html5lib, frozendict, charset-normalizer, requests, cryptography, beautifulsoup4, yfinance\n",
            "  Attempting uninstall: html5lib\n",
            "    Found existing installation: html5lib 1.0.1\n",
            "    Uninstalling html5lib-1.0.1:\n",
            "      Successfully uninstalled html5lib-1.0.1\n",
            "  Attempting uninstall: requests\n",
            "    Found existing installation: requests 2.25.1\n",
            "    Uninstalling requests-2.25.1:\n",
            "      Successfully uninstalled requests-2.25.1\n",
            "  Attempting uninstall: beautifulsoup4\n",
            "    Found existing installation: beautifulsoup4 4.6.3\n",
            "    Uninstalling beautifulsoup4-4.6.3:\n",
            "      Successfully uninstalled beautifulsoup4-4.6.3\n",
            "Successfully installed appdirs-1.4.4 beautifulsoup4-4.11.2 charset-normalizer-3.1.0 cryptography-39.0.2 frozendict-2.3.5 html5lib-1.1 requests-2.28.2 soupsieve-2.4 yfinance-0.2.12\n"
          ]
        }
      ]
    },
    {
      "cell_type": "code",
      "execution_count": 3,
      "metadata": {
        "id": "sxHnNUieIFOW"
      },
      "outputs": [],
      "source": [
        "import yfinance as yf\n"
      ]
    },
    {
      "cell_type": "markdown",
      "source": [
        "##Nifty 50 Momentum Score"
      ],
      "metadata": {
        "id": "Ki9Z3yaTQW6N"
      }
    },
    {
      "cell_type": "code",
      "source": [
        "Nifty50 = yf.Ticker(\"^NSEI\")\n",
        "Nifty50"
      ],
      "metadata": {
        "colab": {
          "base_uri": "https://localhost:8080/"
        },
        "id": "PI4HAWBJJ3kP",
        "outputId": "639ebd94-69be-4acc-f02d-066347561e0a"
      },
      "execution_count": 14,
      "outputs": [
        {
          "output_type": "execute_result",
          "data": {
            "text/plain": [
              "yfinance.Ticker object <^NSEI>"
            ]
          },
          "metadata": {},
          "execution_count": 14
        }
      ]
    },
    {
      "cell_type": "code",
      "source": [
        "# p0 = Todays'price\n",
        "p0 = Nifty50.history(start=\"2023-02-28\") \n",
        "P0 = p0.Close['2023-02-28 00:00:00+05:30']\n",
        "P0"
      ],
      "metadata": {
        "colab": {
          "base_uri": "https://localhost:8080/"
        },
        "id": "icU36yHzKLGX",
        "outputId": "b34b2b30-6a54-459b-ef21-21e079f8863b"
      },
      "execution_count": 47,
      "outputs": [
        {
          "output_type": "execute_result",
          "data": {
            "text/plain": [
              "17303.94921875"
            ]
          },
          "metadata": {},
          "execution_count": 47
        }
      ]
    },
    {
      "cell_type": "code",
      "source": [
        "# p1 = Price close at last month\n",
        "p1 = Nifty50.history(start=\"2023-01-31\") \n",
        "P1 = p1.Close['2023-01-31 00:00:00+05:30']\n",
        "P1"
      ],
      "metadata": {
        "colab": {
          "base_uri": "https://localhost:8080/"
        },
        "id": "UKUpEjg6KsIo",
        "outputId": "20718c5c-6371-4587-e184-1dc66fa5d247"
      },
      "execution_count": 48,
      "outputs": [
        {
          "output_type": "execute_result",
          "data": {
            "text/plain": [
              "17662.150390625"
            ]
          },
          "metadata": {},
          "execution_count": 48
        }
      ]
    },
    {
      "cell_type": "code",
      "source": [
        "# p3 = Price close at 3 month before\n",
        "p3 = Nifty50.history(start=\"2022-12-30\") \n",
        "P3 = p3.Close['2022-12-30 00:00:00+05:30']\n",
        "P3"
      ],
      "metadata": {
        "colab": {
          "base_uri": "https://localhost:8080/"
        },
        "id": "D4zuKbwlNAfN",
        "outputId": "844d04bf-df9b-4f37-bdfc-d28b78c29c39"
      },
      "execution_count": 49,
      "outputs": [
        {
          "output_type": "execute_result",
          "data": {
            "text/plain": [
              "18105.30078125"
            ]
          },
          "metadata": {},
          "execution_count": 49
        }
      ]
    },
    {
      "cell_type": "code",
      "source": [
        "# p6 = Price close 6 months before\n",
        "p6 = Nifty50.history(start=\"2022-11-30\") \n",
        "P6 = p6.Close['2022-11-30 00:00:00+05:30']\n",
        "P6"
      ],
      "metadata": {
        "colab": {
          "base_uri": "https://localhost:8080/"
        },
        "id": "As8KF8rFNX4O",
        "outputId": "afbf7da1-b57e-4a39-89d1-daafe0db8461"
      },
      "execution_count": 51,
      "outputs": [
        {
          "output_type": "execute_result",
          "data": {
            "text/plain": [
              "18758.349609375"
            ]
          },
          "metadata": {},
          "execution_count": 51
        }
      ]
    },
    {
      "cell_type": "code",
      "source": [
        "# p12 = Price close 12 months before\n",
        "p12 = Nifty50.history(start=\"2022-02-28\") \n",
        "P12 = p12.Close['2022-02-28 00:00:00+05:30']\n",
        "P12"
      ],
      "metadata": {
        "colab": {
          "base_uri": "https://localhost:8080/"
        },
        "id": "KwQ3D-omN45-",
        "outputId": "e35c0994-74db-4d58-9e6e-f2bdcae0cfd4"
      },
      "execution_count": 52,
      "outputs": [
        {
          "output_type": "execute_result",
          "data": {
            "text/plain": [
              "16793.900390625"
            ]
          },
          "metadata": {},
          "execution_count": 52
        }
      ]
    },
    {
      "cell_type": "code",
      "source": [
        "Momentum_Score = (12*(P0/P1)) + (4*(P0/P3)) + (2*(P0/P6)) + (P0/P12) - 19 "
      ],
      "metadata": {
        "id": "f8Fbz7nsOYMY"
      },
      "execution_count": 53,
      "outputs": []
    },
    {
      "cell_type": "code",
      "source": [
        "Momentum_Score"
      ],
      "metadata": {
        "colab": {
          "base_uri": "https://localhost:8080/"
        },
        "id": "NEaomsNFPJLA",
        "outputId": "b2e7e9f8-95f1-4821-c8df-121298392a2e"
      },
      "execution_count": 54,
      "outputs": [
        {
          "output_type": "execute_result",
          "data": {
            "text/plain": [
              "-0.5451070020950652"
            ]
          },
          "metadata": {},
          "execution_count": 54
        }
      ]
    },
    {
      "cell_type": "markdown",
      "source": [
        "## iShares MSCI India ETF momentum Score"
      ],
      "metadata": {
        "id": "TK4O1yPcQbC9"
      }
    },
    {
      "cell_type": "code",
      "source": [
        "INDA = yf.Ticker(\"INDA\")\n",
        "INDA"
      ],
      "metadata": {
        "colab": {
          "base_uri": "https://localhost:8080/"
        },
        "id": "rhMGnVm2PLHU",
        "outputId": "41ee3d69-74e2-4076-c7a4-00333e6261df"
      },
      "execution_count": 55,
      "outputs": [
        {
          "output_type": "execute_result",
          "data": {
            "text/plain": [
              "yfinance.Ticker object <INDA>"
            ]
          },
          "metadata": {},
          "execution_count": 55
        }
      ]
    },
    {
      "cell_type": "code",
      "source": [
        "# p0 = Todays'price\n",
        "p0 = INDA.history(start=\"2023-02-28\") \n",
        "P0 = p0.Close['2023-02-28 00:00:00-05:00']\n",
        "P0"
      ],
      "metadata": {
        "colab": {
          "base_uri": "https://localhost:8080/"
        },
        "id": "ulQTwOLkQo-l",
        "outputId": "ce799c50-88fa-47f6-ffd0-2110dc3dd738"
      },
      "execution_count": 60,
      "outputs": [
        {
          "output_type": "execute_result",
          "data": {
            "text/plain": [
              "38.79999923706055"
            ]
          },
          "metadata": {},
          "execution_count": 60
        }
      ]
    },
    {
      "cell_type": "code",
      "source": [
        "# p1 = Price close at last month\n",
        "p1 = INDA.history(start=\"2023-01-31\") \n",
        "P1 = p1.Close['2023-01-31 00:00:00-05:00']\n",
        "P1"
      ],
      "metadata": {
        "colab": {
          "base_uri": "https://localhost:8080/"
        },
        "id": "G46Gr2_UQsg9",
        "outputId": "ea725e77-4363-4ce5-9052-b54442de76c8"
      },
      "execution_count": 63,
      "outputs": [
        {
          "output_type": "execute_result",
          "data": {
            "text/plain": [
              "40.9900016784668"
            ]
          },
          "metadata": {},
          "execution_count": 63
        }
      ]
    },
    {
      "cell_type": "code",
      "source": [
        "# p3 = Price close at 3 month before\n",
        "p3 = INDA.history(start=\"2022-12-30\") \n",
        "P3 = p3.Close['2022-12-30 00:00:00-05:00']\n",
        "P3"
      ],
      "metadata": {
        "colab": {
          "base_uri": "https://localhost:8080/"
        },
        "id": "JSxi45wOROvF",
        "outputId": "7d83fae9-972a-4371-a4e2-3a844391e201"
      },
      "execution_count": 68,
      "outputs": [
        {
          "output_type": "execute_result",
          "data": {
            "text/plain": [
              "41.7400016784668"
            ]
          },
          "metadata": {},
          "execution_count": 68
        }
      ]
    },
    {
      "cell_type": "code",
      "source": [
        "# p6 = Price close 6 months before\n",
        "p6 = INDA.history(start=\"2022-11-30\") \n",
        "P6 = p6.Close['2022-11-30 00:00:00-05:00']\n",
        "P6"
      ],
      "metadata": {
        "colab": {
          "base_uri": "https://localhost:8080/"
        },
        "id": "9u1xY_KeRh2v",
        "outputId": "4a20c990-e0f3-4fc3-8e16-b1b424d8e255"
      },
      "execution_count": 69,
      "outputs": [
        {
          "output_type": "execute_result",
          "data": {
            "text/plain": [
              "44.2400016784668"
            ]
          },
          "metadata": {},
          "execution_count": 69
        }
      ]
    },
    {
      "cell_type": "code",
      "source": [
        "# p12 = Price close 12 months before\n",
        "p12 = INDA.history(start=\"2022-02-28\") \n",
        "P12 = p12.Close['2022-02-28 00:00:00-05:00']\n",
        "P12"
      ],
      "metadata": {
        "colab": {
          "base_uri": "https://localhost:8080/"
        },
        "id": "sYyksLAbR71w",
        "outputId": "ac982a8e-abfe-4d9e-e747-858822b27b5e"
      },
      "execution_count": 70,
      "outputs": [
        {
          "output_type": "execute_result",
          "data": {
            "text/plain": [
              "43.75"
            ]
          },
          "metadata": {},
          "execution_count": 70
        }
      ]
    },
    {
      "cell_type": "code",
      "source": [
        "Momentum_Score = (12*(P0/P1)) + (4*(P0/P3)) + (2*(P0/P6)) + (P0/P12) - 19 "
      ],
      "metadata": {
        "id": "K8U5f7AMSDQd"
      },
      "execution_count": 71,
      "outputs": []
    },
    {
      "cell_type": "code",
      "source": [
        "Momentum_Score"
      ],
      "metadata": {
        "colab": {
          "base_uri": "https://localhost:8080/"
        },
        "id": "0B_rqovSSIPl",
        "outputId": "366fa7c0-6aa4-4dc4-f042-110879756ade"
      },
      "execution_count": 72,
      "outputs": [
        {
          "output_type": "execute_result",
          "data": {
            "text/plain": [
              "-1.2819512843816128"
            ]
          },
          "metadata": {},
          "execution_count": 72
        }
      ]
    },
    {
      "cell_type": "markdown",
      "source": [
        "## Nippon India ETF Nifty 50 BeES Momentum score"
      ],
      "metadata": {
        "id": "lDghUm_OSc9G"
      }
    },
    {
      "cell_type": "code",
      "source": [
        "NIFTYBEES = yf.Ticker(\"NIFTYBEES.NS\")\n",
        "NIFTYBEES"
      ],
      "metadata": {
        "colab": {
          "base_uri": "https://localhost:8080/"
        },
        "id": "rnPtVd_ySJq1",
        "outputId": "c533663e-9b39-4309-d1e5-eaeee1f8eb35"
      },
      "execution_count": 73,
      "outputs": [
        {
          "output_type": "execute_result",
          "data": {
            "text/plain": [
              "yfinance.Ticker object <NIFTYBEES.NS>"
            ]
          },
          "metadata": {},
          "execution_count": 73
        }
      ]
    },
    {
      "cell_type": "code",
      "source": [
        "# p0 = Todays'price\n",
        "p0 = NIFTYBEES.history(start=\"2023-02-28\") \n",
        "P0 = p0.Close['2023-02-28 00:00:00+05:30']\n",
        "P0"
      ],
      "metadata": {
        "colab": {
          "base_uri": "https://localhost:8080/"
        },
        "id": "TUmgANZBS1zs",
        "outputId": "b023f4cd-621e-49ca-f545-d62c03adc0af"
      },
      "execution_count": 85,
      "outputs": [
        {
          "output_type": "execute_result",
          "data": {
            "text/plain": [
              "189.6999969482422"
            ]
          },
          "metadata": {},
          "execution_count": 85
        }
      ]
    },
    {
      "cell_type": "code",
      "source": [
        "# p1 = Price close at last month\n",
        "p1 = NIFTYBEES.history(start=\"2023-01-31\") \n",
        "P1 = p1.Close['2023-01-31 00:00:00+05:30']\n",
        "P1"
      ],
      "metadata": {
        "colab": {
          "base_uri": "https://localhost:8080/"
        },
        "id": "aVtDQ7ptTKMc",
        "outputId": "f7fe89bb-8909-4043-d74d-8b2e1f1e2476"
      },
      "execution_count": 86,
      "outputs": [
        {
          "output_type": "execute_result",
          "data": {
            "text/plain": [
              "193.44000244140625"
            ]
          },
          "metadata": {},
          "execution_count": 86
        }
      ]
    },
    {
      "cell_type": "code",
      "source": [
        "# p3 = Price close at 3 month before\n",
        "p3 = NIFTYBEES.history(start=\"2022-12-30\") \n",
        "P3 = p3.Close['2022-12-30 00:00:00+05:30']\n",
        "P3"
      ],
      "metadata": {
        "colab": {
          "base_uri": "https://localhost:8080/"
        },
        "id": "zhx4eqVoTOmu",
        "outputId": "a58a425e-37ef-46de-9be5-c423cbba7cfc"
      },
      "execution_count": 87,
      "outputs": [
        {
          "output_type": "execute_result",
          "data": {
            "text/plain": [
              "198.0399932861328"
            ]
          },
          "metadata": {},
          "execution_count": 87
        }
      ]
    },
    {
      "cell_type": "code",
      "source": [
        "# p6 = Price close 6 months before\n",
        "p6 = NIFTYBEES.history(start=\"2022-11-30\") \n",
        "P6 = p6.Close['2022-11-30 00:00:00+05:30']\n",
        "P6"
      ],
      "metadata": {
        "colab": {
          "base_uri": "https://localhost:8080/"
        },
        "id": "YsAlrCMrTQPE",
        "outputId": "130ddc2b-0242-4d08-8f6c-a295b59f7bb3"
      },
      "execution_count": 88,
      "outputs": [
        {
          "output_type": "execute_result",
          "data": {
            "text/plain": [
              "204.6999969482422"
            ]
          },
          "metadata": {},
          "execution_count": 88
        }
      ]
    },
    {
      "cell_type": "code",
      "source": [
        "# p12 = Price close 12 months before\n",
        "p12 = NIFTYBEES.history(start=\"2022-02-28\") \n",
        "P12 = p12.Close['2022-02-28 00:00:00+05:30']\n",
        "P12"
      ],
      "metadata": {
        "colab": {
          "base_uri": "https://localhost:8080/"
        },
        "id": "wfSx5PHdTRZk",
        "outputId": "dc827acf-442c-4966-d7b0-63f25b21486e"
      },
      "execution_count": 89,
      "outputs": [
        {
          "output_type": "execute_result",
          "data": {
            "text/plain": [
              "181.83999633789062"
            ]
          },
          "metadata": {},
          "execution_count": 89
        }
      ]
    },
    {
      "cell_type": "code",
      "source": [
        "Momentum_Score = (12*(P0/P1)) + (4*(P0/P3)) + (2*(P0/P6)) + (P0/P12) - 19 "
      ],
      "metadata": {
        "id": "kgew6ttdTZBu"
      },
      "execution_count": 90,
      "outputs": []
    },
    {
      "cell_type": "code",
      "source": [
        "Momentum_Score"
      ],
      "metadata": {
        "colab": {
          "base_uri": "https://localhost:8080/"
        },
        "id": "ghmeI67YTbVd",
        "outputId": "88783b6a-52d3-4576-ef83-8041e3a65f12"
      },
      "execution_count": 91,
      "outputs": [
        {
          "output_type": "execute_result",
          "data": {
            "text/plain": [
              "-0.503792133608183"
            ]
          },
          "metadata": {},
          "execution_count": 91
        }
      ]
    },
    {
      "cell_type": "markdown",
      "source": [
        "##Motilal Oswal NASDAQ 100 ETF Momentum Score"
      ],
      "metadata": {
        "id": "9L_eNGpCV-kt"
      }
    },
    {
      "cell_type": "code",
      "source": [
        "MON100 = yf.Ticker(\"MON100.NS\")\n",
        "MON100"
      ],
      "metadata": {
        "colab": {
          "base_uri": "https://localhost:8080/"
        },
        "id": "Jk9BCjmJTc30",
        "outputId": "c4c361c8-b516-4aa4-9e88-b01b529210cf"
      },
      "execution_count": 92,
      "outputs": [
        {
          "output_type": "execute_result",
          "data": {
            "text/plain": [
              "yfinance.Ticker object <MON100.NS>"
            ]
          },
          "metadata": {},
          "execution_count": 92
        }
      ]
    },
    {
      "cell_type": "code",
      "source": [
        "# p0 = Todays'price\n",
        "p0 = MON100.history(start=\"2023-02-28\") \n",
        "P0 = p0.Close['2023-02-28 00:00:00+05:30']\n",
        "P0"
      ],
      "metadata": {
        "colab": {
          "base_uri": "https://localhost:8080/"
        },
        "id": "VLyFM-pFWZFL",
        "outputId": "6b9bc525-86c3-48c9-bb24-02ff161663dd"
      },
      "execution_count": 98,
      "outputs": [
        {
          "output_type": "execute_result",
          "data": {
            "text/plain": [
              "97.76000213623047"
            ]
          },
          "metadata": {},
          "execution_count": 98
        }
      ]
    },
    {
      "cell_type": "code",
      "source": [
        "# p1 = Price close at last month\n",
        "p1 = MON100.history(start=\"2023-01-31\") \n",
        "P1 = p1.Close['2023-01-31 00:00:00+05:30']\n",
        "P1"
      ],
      "metadata": {
        "colab": {
          "base_uri": "https://localhost:8080/"
        },
        "id": "NgJZUfEMWcv9",
        "outputId": "0e8c93b8-28be-4d90-c96b-022be9978eed"
      },
      "execution_count": 99,
      "outputs": [
        {
          "output_type": "execute_result",
          "data": {
            "text/plain": [
              "102.18599700927734"
            ]
          },
          "metadata": {},
          "execution_count": 99
        }
      ]
    },
    {
      "cell_type": "code",
      "source": [
        "# p3 = Price close at 3 month before\n",
        "p3 = MON100.history(start=\"2022-12-30\") \n",
        "P3 = p3.Close['2022-12-30 00:00:00+05:30']\n",
        "P3"
      ],
      "metadata": {
        "colab": {
          "base_uri": "https://localhost:8080/"
        },
        "id": "L612YEUSWkCf",
        "outputId": "810718d0-c049-4920-880e-835e7e018b3b"
      },
      "execution_count": 100,
      "outputs": [
        {
          "output_type": "execute_result",
          "data": {
            "text/plain": [
              "102.18599700927734"
            ]
          },
          "metadata": {},
          "execution_count": 100
        }
      ]
    },
    {
      "cell_type": "code",
      "source": [
        "# p6 = Price close 6 months before\n",
        "p6 = MON100.history(start=\"2022-11-30\") \n",
        "P6 = p6.Close['2022-11-30 00:00:00+05:30']\n",
        "P6"
      ],
      "metadata": {
        "colab": {
          "base_uri": "https://localhost:8080/"
        },
        "id": "a6Ck_O41WnvX",
        "outputId": "2fe8c0af-3f4d-4f91-805f-7eaebee2552d"
      },
      "execution_count": 101,
      "outputs": [
        {
          "output_type": "execute_result",
          "data": {
            "text/plain": [
              "102.18599700927734"
            ]
          },
          "metadata": {},
          "execution_count": 101
        }
      ]
    },
    {
      "cell_type": "code",
      "source": [
        "# p12 = Price close 12 months before\n",
        "p12 = MON100.history(start=\"2022-02-28\") \n",
        "P12 = p12.Close['2022-02-28 00:00:00+05:30']\n",
        "P12"
      ],
      "metadata": {
        "colab": {
          "base_uri": "https://localhost:8080/"
        },
        "id": "pU9ECOMaWph1",
        "outputId": "2673baa4-cea0-4b46-df00-1035a6194659"
      },
      "execution_count": 102,
      "outputs": [
        {
          "output_type": "execute_result",
          "data": {
            "text/plain": [
              "102.18599700927734"
            ]
          },
          "metadata": {},
          "execution_count": 102
        }
      ]
    },
    {
      "cell_type": "code",
      "source": [
        "Momentum_Score = (12*(P0/P1)) + (4*(P0/P3)) + (2*(P0/P6)) + (P0/P12) - 19 "
      ],
      "metadata": {
        "id": "cxFTBNMHWved"
      },
      "execution_count": 103,
      "outputs": []
    },
    {
      "cell_type": "code",
      "source": [
        "Momentum_Score"
      ],
      "metadata": {
        "colab": {
          "base_uri": "https://localhost:8080/"
        },
        "id": "ik7yQ8M9WxcT",
        "outputId": "61b1d2cf-278a-4331-af4e-8f598a9c5024"
      },
      "execution_count": 104,
      "outputs": [
        {
          "output_type": "execute_result",
          "data": {
            "text/plain": [
              "-0.8229493771074701"
            ]
          },
          "metadata": {},
          "execution_count": 104
        }
      ]
    },
    {
      "cell_type": "markdown",
      "source": [
        "## Strategy Images\n",
        "\n",
        "<img src='https://pbs.twimg.com/media/FqvDQLzXoAg8zjO?format=jpg&name=large'>\n",
        "\n",
        "Link :- https://twitter.com/VolatilitySwan/status/1633613404412706819"
      ],
      "metadata": {
        "id": "iNDUL68-T9tM"
      }
    }
  ]
}