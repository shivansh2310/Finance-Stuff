{
  "nbformat": 4,
  "nbformat_minor": 0,
  "metadata": {
    "colab": {
      "provenance": [],
      "authorship_tag": "ABX9TyPjfed1+8OLPjQFci2XANkJ",
      "include_colab_link": true
    },
    "kernelspec": {
      "name": "python3",
      "display_name": "Python 3"
    },
    "language_info": {
      "name": "python"
    }
  },
  "cells": [
    {
      "cell_type": "markdown",
      "metadata": {
        "id": "view-in-github",
        "colab_type": "text"
      },
      "source": [
        "<a href=\"https://colab.research.google.com/github/shivansh2310/Finance-Stuff/blob/main/Trinomial_Option_Pricing.ipynb\" target=\"_parent\"><img src=\"https://colab.research.google.com/assets/colab-badge.svg\" alt=\"Open In Colab\"/></a>"
      ]
    },
    {
      "cell_type": "code",
      "source": [
        "def calculate_strike_prices(S0, moneyness_levels):\n",
        "    strike_prices = []\n",
        "    for moneyness in moneyness_levels:\n",
        "        K = S0 * moneyness\n",
        "        strike_prices.append(K)\n",
        "    return strike_prices\n",
        "\n",
        "# Initial stock price\n",
        "S0 = 100\n",
        "\n",
        "# Moneyness levels for Deep OTM, OTM, ATM, ITM, Deep ITM\n",
        "moneyness_levels = [0.9, 0.95, 1.0, 1.05, 1.1]\n",
        "\n",
        "# Calculate strike prices\n",
        "strike_prices = calculate_strike_prices(S0, moneyness_levels)\n",
        "\n",
        "# Print the calculated strike prices with moneyness types\n",
        "for i, K in enumerate(strike_prices):\n",
        "    moneyness_type = \"\"\n",
        "    if i == 0:\n",
        "        moneyness_type = \"Deep OTM\"\n",
        "    elif i == 1:\n",
        "        moneyness_type = \"OTM\"\n",
        "    elif i == 2:\n",
        "        moneyness_type = \"ATM\"\n",
        "    elif i == 3:\n",
        "        moneyness_type = \"ITM\"\n",
        "    elif i == 4:\n",
        "        moneyness_type = \"Deep ITM\"\n",
        "\n",
        "    print(f\"{moneyness_type}: Strike Price = {K:.2f}\")\n"
      ],
      "metadata": {
        "colab": {
          "base_uri": "https://localhost:8080/"
        },
        "id": "mNFR7TtLBvOC",
        "outputId": "1b608ee8-8ddd-4f2a-b5b2-24601056e918"
      },
      "execution_count": 2,
      "outputs": [
        {
          "output_type": "stream",
          "name": "stdout",
          "text": [
            "Deep OTM: Strike Price = 90.00\n",
            "OTM: Strike Price = 95.00\n",
            "ATM: Strike Price = 100.00\n",
            "ITM: Strike Price = 105.00\n",
            "Deep ITM: Strike Price = 110.00\n"
          ]
        }
      ]
    },
    {
      "cell_type": "code",
      "source": [
        "import numpy as np\n"
      ],
      "metadata": {
        "id": "slnbCLLxCYyx"
      },
      "execution_count": 3,
      "outputs": []
    },
    {
      "cell_type": "code",
      "source": [
        "def _gen_stock_vec(nb, h):\n",
        "    s0 = 100\n",
        "    sigma = 0.5\n",
        "    up = np.exp(sigma * np.sqrt(2 * h))\n",
        "    down = 1 / up  # down movement to force a \"recombining tree\"\n",
        "\n",
        "    vec_u = up * np.ones(nb)\n",
        "    np.cumprod(vec_u, out=vec_u)  # Computing u, u^2, u^3....u^nb\n",
        "\n",
        "    vec_d = down * np.ones(nb)\n",
        "    np.cumprod(vec_d, out=vec_d)  # Computing d, d^2, d^3....d^nb\n",
        "\n",
        "    res = np.concatenate(\n",
        "        (vec_d[::-1], [1.0], vec_u)\n",
        "    )  # putting together the last period tree underlyings\n",
        "    res *= s0\n",
        "    return res"
      ],
      "metadata": {
        "id": "9531mRVRD2oy"
      },
      "execution_count": 4,
      "outputs": []
    },
    {
      "cell_type": "code",
      "source": [
        "def price(\n",
        "    nb_steps,\n",
        "):  # For now, the only input to the function is the number of steps for the tree, N.\n",
        "    # Define parameters\n",
        "    r = 0\n",
        "    sigma = 0.5\n",
        "    T = 1\n",
        "    K = 130\n",
        "    h = T / nb_steps  # This would be our 'dt' from previous examples\n",
        "    discount = np.exp(-r * h)  # Define discount factor for simplicity later on\n",
        "\n",
        "    # Define risk-neutral probabilities:\n",
        "    pu = (\n",
        "        (np.exp(r * h / 2) - np.exp(-sigma * np.sqrt(h / 2)))\n",
        "        / (np.exp(sigma * np.sqrt(h / 2)) - np.exp(-sigma * np.sqrt(h / 2)))\n",
        "    ) ** 2\n",
        "    pd = (\n",
        "        (-np.exp(r * h / 2) + np.exp(sigma * np.sqrt(h / 2)))\n",
        "        / (np.exp(sigma * np.sqrt(h / 2)) - np.exp(-sigma * np.sqrt(h / 2)))\n",
        "    ) ** 2\n",
        "    pm = 1 - pu - pd\n",
        "    print(pu, pd, pm)\n",
        "    # This would be our underlying evolution (Note we are using the function from before!)\n",
        "    s = _gen_stock_vec(nb_steps, h)\n",
        "\n",
        "    # Define Payoff (in this case, European Call Option)\n",
        "    final_payoff = np.maximum(s - K, 0)\n",
        "    nxt_vec_prices = final_payoff\n",
        "\n",
        "    # Proceed with iterations for the calculation of payoffs\n",
        "    for i in range(1, nb_steps + 1):\n",
        "        vec_stock = _gen_stock_vec(nb_steps - i, h)\n",
        "        expectation = np.zeros(vec_stock.size)\n",
        "\n",
        "        for j in range(expectation.size):\n",
        "            tmp = nxt_vec_prices[j] * pd\n",
        "            tmp += nxt_vec_prices[j + 1] * pm\n",
        "            tmp += nxt_vec_prices[j + 2] * pu\n",
        "\n",
        "            expectation[j] = tmp\n",
        "        # Discount option payoff!\n",
        "        nxt_vec_prices = discount * expectation\n",
        "\n",
        "    return nxt_vec_prices[0]"
      ],
      "metadata": {
        "id": "dMxISw_PVDi5"
      },
      "execution_count": 5,
      "outputs": []
    },
    {
      "cell_type": "code",
      "source": [
        "print(\" Price of the Euro Call Option is \", price(100))"
      ],
      "metadata": {
        "colab": {
          "base_uri": "https://localhost:8080/"
        },
        "id": "POM9aRCIVGMy",
        "outputId": "29866b51-200a-4c53-c5ee-ba8ed5dd03b1"
      },
      "execution_count": 6,
      "outputs": [
        {
          "output_type": "stream",
          "name": "stdout",
          "text": [
            "0.24124019455888882 0.25891602289479126 0.49984378254631995\n",
            " Price of the Euro Call Option is  10.686959567311135\n"
          ]
        }
      ]
    },
    {
      "cell_type": "code",
      "source": [
        "def price_put(\n",
        "    nb_steps,\n",
        "):  # For now, the only input to the function is the number of steps for the tree, N.\n",
        "    # Define parameters\n",
        "    r = 0\n",
        "    sigma = 0.5\n",
        "    T = 1\n",
        "    K = 110\n",
        "    h = T / nb_steps  # This would be our 'dt' from previous examples\n",
        "    discount = np.exp(-r * h)  # Define discount factor for simplicity later on\n",
        "\n",
        "    # Define risk-neutral probabilities:\n",
        "    pu = (\n",
        "        (np.exp(r * h / 2) - np.exp(-sigma * np.sqrt(h / 2)))\n",
        "        / (np.exp(sigma * np.sqrt(h / 2)) - np.exp(-sigma * np.sqrt(h / 2)))\n",
        "    ) ** 2\n",
        "    pd = (\n",
        "        (-np.exp(r * h / 2) + np.exp(sigma * np.sqrt(h / 2)))\n",
        "        / (np.exp(sigma * np.sqrt(h / 2)) - np.exp(-sigma * np.sqrt(h / 2)))\n",
        "    ) ** 2\n",
        "    pm = 1 - pu - pd\n",
        "    #print(pu, pd, pm)\n",
        "    # This would be our underlying evolution (Note we are using the function from before!)\n",
        "    s = _gen_stock_vec(nb_steps, h)\n",
        "\n",
        "    # Define Payoff (in this case, European Call Option)\n",
        "    final_payoff = np.maximum(K - s, 0)\n",
        "    nxt_vec_prices = final_payoff\n",
        "\n",
        "    # Proceed with iterations for the calculation of payoffs\n",
        "    for i in range(1, nb_steps + 1):\n",
        "        vec_stock = _gen_stock_vec(nb_steps - i, h)\n",
        "        expectation = np.zeros(vec_stock.size)\n",
        "\n",
        "        for j in range(expectation.size):\n",
        "            tmp = nxt_vec_prices[j] * pd\n",
        "            tmp += nxt_vec_prices[j + 1] * pm\n",
        "            tmp += nxt_vec_prices[j + 2] * pu\n",
        "\n",
        "            expectation[j] = tmp\n",
        "        # Discount option payoff!\n",
        "        nxt_vec_prices = discount * expectation\n",
        "\n",
        "    return nxt_vec_prices[\n",
        "        0\n",
        "    ]"
      ],
      "metadata": {
        "id": "OrlB-h14VU2q"
      },
      "execution_count": 9,
      "outputs": []
    },
    {
      "cell_type": "code",
      "source": [
        "print(\" Price of the Euro Put Option is \", price_put(100))"
      ],
      "metadata": {
        "colab": {
          "base_uri": "https://localhost:8080/"
        },
        "id": "nNmOnf_DVbyy",
        "outputId": "319bb9d6-0e29-4966-bec3-6b977c3f4af5"
      },
      "execution_count": 10,
      "outputs": [
        {
          "output_type": "stream",
          "name": "stdout",
          "text": [
            " Price of the Euro Put Option is  26.115031285940894\n"
          ]
        }
      ]
    },
    {
      "cell_type": "code",
      "source": [
        "import numpy as np\n",
        "\n",
        "def price_american(nb_steps, option_type):\n",
        "    # Define parameters\n",
        "    r = 0  # Risk-free rate\n",
        "    sigma = 0.5  # Volatility\n",
        "    T = 1  # Time to expiration\n",
        "    K = 130  # Strike price\n",
        "    h = T / nb_steps  # Time step size (dt)\n",
        "    discount = np.exp(-r * h)  # Discount factor for simplicity later on\n",
        "\n",
        "    # Risk-neutral probabilities\n",
        "    pu = ((np.exp(r * h / 2) - np.exp(-sigma * np.sqrt(h / 2))) /\n",
        "          (np.exp(sigma * np.sqrt(h / 2)) - np.exp(-sigma * np.sqrt(h / 2)))) ** 2\n",
        "    pd = ((-np.exp(r * h / 2) + np.exp(sigma * np.sqrt(h / 2))) /\n",
        "          (np.exp(sigma * np.sqrt(h / 2)) - np.exp(-sigma * np.sqrt(h / 2)))) ** 2\n",
        "    pm = 1 - pu - pd\n",
        "\n",
        "    # Generate stock price vector\n",
        "    s = _gen_stock_vec(nb_steps, h)\n",
        "\n",
        "    # Define Payoff (European Call/Put Option)\n",
        "    if option_type == 'call':\n",
        "        payoff = np.maximum(s - K, 0)\n",
        "    elif option_type == 'put':\n",
        "        payoff = np.maximum(K - s, 0)\n",
        "\n",
        "    nxt_vec_prices = payoff  # Initialize option prices with payoff\n",
        "\n",
        "    # Iterate backward for the calculation of option prices\n",
        "    for i in range(1, nb_steps + 1):\n",
        "        vec_stock = _gen_stock_vec(nb_steps - i, h)\n",
        "        expectation = np.zeros(vec_stock.size)\n",
        "\n",
        "        for j in range(expectation.size):\n",
        "            tmp = nxt_vec_prices[j] * pd\n",
        "            tmp += nxt_vec_prices[j + 1] * pm\n",
        "            tmp += nxt_vec_prices[j + 2] * pu\n",
        "\n",
        "            if option_type == 'call':\n",
        "                # Early exercise check for American Call Option\n",
        "                early_exercise = np.maximum(s[j] - K, 0)\n",
        "            elif option_type == 'put':\n",
        "                # Early exercise check for American Put Option\n",
        "                early_exercise = np.maximum(K - s[j], 0)\n",
        "\n",
        "            expectation[j] = max(tmp, early_exercise)  # Compare with early exercise\n",
        "\n",
        "        nxt_vec_prices = discount * expectation  # Discount option payoff\n",
        "\n",
        "    return nxt_vec_prices[0]\n",
        "\n",
        "# Example usage\n",
        "american_call_price = price_american(90, option_type='call')\n",
        "american_put_price = price_american(90, option_type='put')\n",
        "\n",
        "print(\"American Call Option Price:\", american_call_price)\n",
        "print(\"American Put Option Price:\", american_put_price)\n"
      ],
      "metadata": {
        "colab": {
          "base_uri": "https://localhost:8080/"
        },
        "id": "0x8BldDsVpva",
        "outputId": "beee8a0b-0ff6-4a30-fda6-399f33262268"
      },
      "execution_count": 17,
      "outputs": [
        {
          "output_type": "stream",
          "name": "stdout",
          "text": [
            "American Call Option Price: 10.69740209547745\n",
            "American Put Option Price: 129.87791451055736\n"
          ]
        }
      ]
    },
    {
      "cell_type": "code",
      "source": [
        "class TrinomialModel(object):  # Here we start defining our 'class' --> Trinomial Model!\n",
        "    # First, a method to initialize our `TrinomialModel` algorithm!\n",
        "    def __init__(self, S0, r, sigma, mat):\n",
        "        self.__s0 = S0\n",
        "        self.__r = r\n",
        "        self.__sigma = sigma\n",
        "        self.__T = mat\n",
        "\n",
        "    # Second, we build a method (function) to compute the risk-neutral probabilities!\n",
        "    def __compute_probs(self):\n",
        "        self.__pu = (\n",
        "            (\n",
        "                np.exp(self.__r * self.__h / 2)\n",
        "                - np.exp(-self.__sigma * np.sqrt(self.__h / 2))\n",
        "            )\n",
        "            / (\n",
        "                np.exp(self.__sigma * np.sqrt(self.__h / 2))\n",
        "                - np.exp(-self.__sigma * np.sqrt(self.__h / 2))\n",
        "            )\n",
        "        ) ** 2\n",
        "        self.__pd = (\n",
        "            (\n",
        "                -np.exp(self.__r * self.__h / 2)\n",
        "                + np.exp(self.__sigma * np.sqrt(self.__h / 2))\n",
        "            )\n",
        "            / (\n",
        "                np.exp(self.__sigma * np.sqrt(self.__h / 2))\n",
        "                - np.exp(-self.__sigma * np.sqrt(self.__h / 2))\n",
        "            )\n",
        "        ) ** 2\n",
        "        self.__pm = 1 - self.__pu - self.__pd\n",
        "\n",
        "        assert 0 <= self.__pu <= 1.0, \"p_u should lie in [0, 1] given %s\" % self.__pu\n",
        "        assert 0 <= self.__pd <= 1.0, \"p_d should lie in [0, 1] given %s\" % self.__pd\n",
        "        assert 0 <= self.__pm <= 1.0, \"p_m should lie in [0, 1] given %s\" % self.__pm\n",
        "\n",
        "    # Third, this method checks whether the given parameters are alright and that we have a 'recombining tree'!\n",
        "    def __check_up_value(self, up):\n",
        "        if up is None:\n",
        "            up = np.exp(self.__sigma * np.sqrt(2 * self.__h))\n",
        "\n",
        "        assert up > 0.0, \"up should be non negative\"\n",
        "\n",
        "        down = 1 / up\n",
        "\n",
        "        assert down < up, \"up <= 1. / up = down\"\n",
        "\n",
        "        self.__up = up\n",
        "        self.__down = down\n",
        "\n",
        "    # Four, we use this method to compute underlying stock price path\n",
        "    def __gen_stock_vec(self, nb):\n",
        "        vec_u = self.__up * np.ones(nb)\n",
        "        np.cumprod(vec_u, out=vec_u)\n",
        "\n",
        "        vec_d = self.__down * np.ones(nb)\n",
        "        np.cumprod(vec_d, out=vec_d)\n",
        "\n",
        "        res = np.concatenate((vec_d[::-1], [1.0], vec_u))\n",
        "        res *= self.__s0\n",
        "\n",
        "        return res\n",
        "\n",
        "    # Fifth, we declare a Payoff method to be completed afterwards depending on the instrument we are pricing!\n",
        "    def payoff(self, stock_vec):\n",
        "        raise NotImplementedError()\n",
        "\n",
        "    # Sixth, compute current prices!\n",
        "    def compute_current_price(self, crt_vec_stock, nxt_vec_prices):\n",
        "        expectation = np.zeros(crt_vec_stock.size)\n",
        "        for i in range(expectation.size):\n",
        "            tmp = nxt_vec_prices[i] * self.__pd\n",
        "            tmp += nxt_vec_prices[i + 1] * self.__pm\n",
        "            tmp += nxt_vec_prices[i + 2] * self.__pu\n",
        "\n",
        "            expectation[i] = tmp\n",
        "\n",
        "        return self.__discount * expectation\n",
        "\n",
        "    # Seventh, Option pricing!\n",
        "    def price(self, nb_steps, up=None):\n",
        "        assert nb_steps > 0, \"nb_steps shoud be > 0\"\n",
        "\n",
        "        nb_steps = int(nb_steps)\n",
        "\n",
        "        self.__h = self.__T / nb_steps\n",
        "        self.__check_up_value(up)\n",
        "        self.__compute_probs()\n",
        "\n",
        "        self.__discount = np.exp(-self.__r * self.__h)\n",
        "\n",
        "        final_vec_stock = self.__gen_stock_vec(nb_steps)\n",
        "        final_payoff = self.payoff(final_vec_stock)\n",
        "        nxt_vec_prices = final_payoff\n",
        "\n",
        "        for i in range(1, nb_steps + 1):\n",
        "            vec_stock = self.__gen_stock_vec(nb_steps - i)\n",
        "            nxt_vec_prices = self.compute_current_price(vec_stock, nxt_vec_prices)\n",
        "\n",
        "        return nxt_vec_prices[0]"
      ],
      "metadata": {
        "id": "Ih3ibzQ66mSi"
      },
      "execution_count": 66,
      "outputs": []
    },
    {
      "cell_type": "code",
      "source": [
        "class TrinomialCall(TrinomialModel):\n",
        "    def __init__(self, S0, r, sigma, mat, K):\n",
        "        super(TrinomialCall, self).__init__(S0, r, sigma, mat)\n",
        "        self.__K = K\n",
        "\n",
        "    def payoff(self, s):\n",
        "        return np.maximum(s - self.__K, 0.0)"
      ],
      "metadata": {
        "id": "kVCh-vgV_nFD"
      },
      "execution_count": 67,
      "outputs": []
    },
    {
      "cell_type": "code",
      "source": [
        "tree = TrinomialCall(100.0, 0.0, 0.3, 1.0, 90.0)"
      ],
      "metadata": {
        "id": "h0UCibBA_o1M"
      },
      "execution_count": 68,
      "outputs": []
    },
    {
      "cell_type": "code",
      "source": [
        "print(tree.price(2))"
      ],
      "metadata": {
        "colab": {
          "base_uri": "https://localhost:8080/"
        },
        "id": "aBZ_55vo_qYb",
        "outputId": "e6369fd7-5944-48a1-b75e-4028bf9312dd"
      },
      "execution_count": 69,
      "outputs": [
        {
          "output_type": "stream",
          "name": "stdout",
          "text": [
            "17.50162310051333\n"
          ]
        }
      ]
    },
    {
      "cell_type": "code",
      "source": [],
      "metadata": {
        "id": "AB0OCHzr_rvi"
      },
      "execution_count": null,
      "outputs": []
    }
  ]
}